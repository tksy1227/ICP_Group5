{
 "cells": [
  {
   "cell_type": "markdown",
   "id": "2b4b5c71",
   "metadata": {},
   "source": [
    "# Final Model Development and Training\n",
    "\n",
    "In this Jupyter Notebook, you will develop and train the model for the final model (chosen from 'notebook - prototype' jupyter notebook).\n",
    "\n",
    "**The content in this notebook will be used to make the recommendation system work in the StreamLit front-end (tentative).**\n",
    "\n",
    "As stated in 'notebook - prototype' jupyter notebook, the optimal choice (for now) will be the KMeans model."
   ]
  },
  {
   "cell_type": "markdown",
   "id": "d2a4003b",
   "metadata": {},
   "source": [
    "For A/B Testing, source: https://github.com/py-why/EconML/blob/main/notebooks/CustomerScenarios/Case%20Study%20-%20Recommendation%20AB%20Testing%20at%20An%20Online%20Travel%20Company.ipynb"
   ]
  },
  {
   "cell_type": "code",
   "execution_count": null,
   "id": "7ebc3efa",
   "metadata": {},
   "outputs": [],
   "source": [
    "### Importing...\n",
    "import pandas as pd\n",
    "import pandas.io.sql as sqlio\n",
    "import psycopg2 as ps\n",
    "from sklearn.decomposition import TruncatedSVD\n",
    "from sklearn.metrics.pairwise import cosine_similarity\n",
    "from torch.utils.data import Dataset, DataLoader\n",
    "from sklearn.preprocessing import MinMaxScaler, OneHotEncoder, LabelEncoder\n",
    "from sklearn.feature_extraction.text import TfidfVectorizer\n",
    "from sklearn.ensemble import RandomForestClassifier\n",
    "from sklearn.metrics.pairwise import linear_kernel\n",
    "from sklearn.model_selection import train_test_split\n",
    "from sklearn.metrics import classification_report\n",
    "import missingno as msno\n",
    "import re\n",
    "import torch\n",
    "import torch.nn as nn\n",
    "import torch.optim as optim\n",
    "from torch.utils.data import TensorDataset\n",
    "pd.set_option('display.max_columns', None)\n",
    "pd.set_option('display.max_colwidth', None)\n",
    "\n",
    "# EconML imports\n",
    "from econml.iv.dr import LinearIntentToTreatDRIV\n",
    "from econml.cate_interpreter import SingleTreeCateInterpreter, \\\n",
    "                                    SingleTreePolicyInterpreter\n"
   ]
  },
  {
   "cell_type": "code",
   "execution_count": null,
   "id": "ca766661",
   "metadata": {},
   "outputs": [],
   "source": []
  },
  {
   "cell_type": "markdown",
   "id": "1903e780",
   "metadata": {},
   "source": []
  }
 ],
 "metadata": {
  "kernelspec": {
   "display_name": "Python 3",
   "language": "python",
   "name": "python3"
  },
  "language_info": {
   "name": "python",
   "version": "3.11.12"
  }
 },
 "nbformat": 4,
 "nbformat_minor": 5
}
