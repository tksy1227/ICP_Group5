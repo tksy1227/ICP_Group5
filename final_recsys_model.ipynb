{
 "cells": [
  {
   "cell_type": "markdown",
   "metadata": {},
   "source": [
    "# Model Development and Training\n",
    "\n",
    "In this Jupyter Notebook, you will develop and train the model."
   ]
  },
  {
   "cell_type": "code",
   "execution_count": 481,
   "metadata": {},
   "outputs": [],
   "source": [
    "### Importing...\n",
    "import pandas as pd\n",
    "import pandas.io.sql as sqlio\n",
    "import psycopg2 as ps\n",
    "from sklearn.decomposition import TruncatedSVD\n",
    "from sklearn.metrics.pairwise import cosine_similarity\n",
    "from torch.utils.data import Dataset, DataLoader\n",
    "from sklearn.preprocessing import MinMaxScaler, OneHotEncoder, LabelEncoder\n",
    "from sklearn.feature_extraction.text import TfidfVectorizer\n",
    "from sklearn.ensemble import RandomForestClassifier\n",
    "from sklearn.metrics.pairwise import linear_kernel\n",
    "from sklearn.model_selection import train_test_split\n",
    "from sklearn.metrics import classification_report\n",
    "import missingno as msno\n",
    "import re\n",
    "import torch\n",
    "import torch.nn as nn\n",
    "import torch.optim as optim\n",
    "from torch.utils.data import TensorDataset\n",
    "import seaborn as sns\n",
    "import matplotlib.pyplot as plt\n",
    "from sklearn.metrics import mean_squared_error, r2_score\n",
    "import numpy as np\n",
    "pd.set_option('display.max_columns', None)\n",
    "pd.set_option('display.max_colwidth', None)\n"
   ]
  },
  {
   "cell_type": "markdown",
   "metadata": {},
   "source": [
    "### Connecting to PostgreSQL to access database"
   ]
  },
  {
   "cell_type": "code",
   "execution_count": 482,
   "metadata": {},
   "outputs": [],
   "source": [
    "# reads the whole API\n",
    "conn2 = ps.connect(dbname = \"postgres\",\n",
    "                   user = \"postgres\",\n",
    "                   password = \"postgres\",\n",
    "                   host = \"localhost\",\n",
    "                   port = \"5432\")"
   ]
  },
  {
   "cell_type": "code",
   "execution_count": 483,
   "metadata": {},
   "outputs": [],
   "source": [
    "# connect area table\n",
    "area_sql = \"\"\"select * \n",
    "fROM public.area\"\"\"\n",
    "\n",
    "# connect farm table\n",
    "farm_sql = \"\"\"select * \n",
    "fROM public.farm\"\"\"\n",
    "\n",
    "# connect product table\n",
    "product_sql = \"\"\"select * \n",
    "fROM public.product\"\"\"\n",
    "\n",
    "# connect sale_order table\n",
    "so_sql = \"\"\"select * \n",
    "fROM public.sale_order\"\"\"\n",
    "\n",
    "# connect sale_order_item table\n",
    "soi_sql = \"\"\"select * \n",
    "fROM public.sale_order_item\"\"\"\n",
    "\n",
    "# connect feedback table\n",
    "feedback_sql = \"\"\"select *\n",
    "fROM public.feedback\"\"\"\n",
    "\n",
    "# connect product_clicks table\n",
    "product_clicks_sql = \"\"\"select *\n",
    "fROM public.product_clicks\"\"\"\n",
    "\n",
    "# connect user_session table\n",
    "user_session_sql = \"\"\"select *\n",
    "fROM public.user_session\"\"\""
   ]
  },
  {
   "cell_type": "code",
   "execution_count": 484,
   "metadata": {},
   "outputs": [
    {
     "name": "stderr",
     "output_type": "stream",
     "text": [
      "C:\\Users\\user\\AppData\\Local\\Temp\\ipykernel_20448\\440608200.py:2: UserWarning: pandas only supports SQLAlchemy connectable (engine/connection) or database string URI or sqlite3 DBAPI2 connection. Other DBAPI2 objects are not tested. Please consider using SQLAlchemy.\n",
      "  area_df = sqlio.read_sql_query(area_sql, conn2)\n",
      "C:\\Users\\user\\AppData\\Local\\Temp\\ipykernel_20448\\440608200.py:5: UserWarning: pandas only supports SQLAlchemy connectable (engine/connection) or database string URI or sqlite3 DBAPI2 connection. Other DBAPI2 objects are not tested. Please consider using SQLAlchemy.\n",
      "  farm_df = sqlio.read_sql_query(farm_sql, conn2)\n",
      "C:\\Users\\user\\AppData\\Local\\Temp\\ipykernel_20448\\440608200.py:8: UserWarning: pandas only supports SQLAlchemy connectable (engine/connection) or database string URI or sqlite3 DBAPI2 connection. Other DBAPI2 objects are not tested. Please consider using SQLAlchemy.\n",
      "  product_df = sqlio.read_sql_query(product_sql, conn2)\n",
      "C:\\Users\\user\\AppData\\Local\\Temp\\ipykernel_20448\\440608200.py:11: UserWarning: pandas only supports SQLAlchemy connectable (engine/connection) or database string URI or sqlite3 DBAPI2 connection. Other DBAPI2 objects are not tested. Please consider using SQLAlchemy.\n",
      "  so_df = sqlio.read_sql_query(so_sql, conn2)\n",
      "C:\\Users\\user\\AppData\\Local\\Temp\\ipykernel_20448\\440608200.py:14: UserWarning: pandas only supports SQLAlchemy connectable (engine/connection) or database string URI or sqlite3 DBAPI2 connection. Other DBAPI2 objects are not tested. Please consider using SQLAlchemy.\n",
      "  soi_df = sqlio.read_sql_query(soi_sql, conn2)\n",
      "C:\\Users\\user\\AppData\\Local\\Temp\\ipykernel_20448\\440608200.py:17: UserWarning: pandas only supports SQLAlchemy connectable (engine/connection) or database string URI or sqlite3 DBAPI2 connection. Other DBAPI2 objects are not tested. Please consider using SQLAlchemy.\n",
      "  feedback_df = sqlio.read_sql_query(feedback_sql, conn2)\n",
      "C:\\Users\\user\\AppData\\Local\\Temp\\ipykernel_20448\\440608200.py:20: UserWarning: pandas only supports SQLAlchemy connectable (engine/connection) or database string URI or sqlite3 DBAPI2 connection. Other DBAPI2 objects are not tested. Please consider using SQLAlchemy.\n",
      "  product_clicks_df = sqlio.read_sql_query(product_clicks_sql, conn2)\n",
      "C:\\Users\\user\\AppData\\Local\\Temp\\ipykernel_20448\\440608200.py:23: UserWarning: pandas only supports SQLAlchemy connectable (engine/connection) or database string URI or sqlite3 DBAPI2 connection. Other DBAPI2 objects are not tested. Please consider using SQLAlchemy.\n",
      "  user_session_df = sqlio.read_sql_query(user_session_sql, conn2)\n"
     ]
    }
   ],
   "source": [
    "# read area table\n",
    "area_df = sqlio.read_sql_query(area_sql, conn2)\n",
    "\n",
    "# read farm table\n",
    "farm_df = sqlio.read_sql_query(farm_sql, conn2)\n",
    "\n",
    "# read product table\n",
    "product_df = sqlio.read_sql_query(product_sql, conn2)\n",
    "\n",
    "# read sale_order table\n",
    "so_df = sqlio.read_sql_query(so_sql, conn2)\n",
    "\n",
    "# read sale_order_item table\n",
    "soi_df = sqlio.read_sql_query(soi_sql, conn2)\n",
    "\n",
    "# read feedback table\n",
    "feedback_df = sqlio.read_sql_query(feedback_sql, conn2)\n",
    "\n",
    "# read product_clicks table\n",
    "product_clicks_df = sqlio.read_sql_query(product_clicks_sql, conn2)\n",
    "\n",
    "# read user_session table\n",
    "user_session_df = sqlio.read_sql_query(user_session_sql, conn2)"
   ]
  },
  {
   "cell_type": "code",
   "execution_count": 485,
   "metadata": {},
   "outputs": [
    {
     "data": {
      "text/html": [
       "<div>\n",
       "<style scoped>\n",
       "    .dataframe tbody tr th:only-of-type {\n",
       "        vertical-align: middle;\n",
       "    }\n",
       "\n",
       "    .dataframe tbody tr th {\n",
       "        vertical-align: top;\n",
       "    }\n",
       "\n",
       "    .dataframe thead th {\n",
       "        text-align: right;\n",
       "    }\n",
       "</style>\n",
       "<table border=\"1\" class=\"dataframe\">\n",
       "  <thead>\n",
       "    <tr style=\"text-align: right;\">\n",
       "      <th></th>\n",
       "      <th>id</th>\n",
       "      <th>name</th>\n",
       "      <th>level_0</th>\n",
       "      <th>level_1</th>\n",
       "      <th>level_2</th>\n",
       "      <th>level_3</th>\n",
       "      <th>level_3_latitude</th>\n",
       "      <th>level_3_longitude</th>\n",
       "      <th>level_4</th>\n",
       "      <th>level_4_latitude</th>\n",
       "      <th>level_4_longitude</th>\n",
       "    </tr>\n",
       "  </thead>\n",
       "  <tbody>\n",
       "    <tr>\n",
       "      <th>0</th>\n",
       "      <td>ID1101032013</td>\n",
       "      <td>Ujung Pasir, Kluet Selatan, Aceh Selatan, Aceh</td>\n",
       "      <td>Indonesia</td>\n",
       "      <td>Aceh</td>\n",
       "      <td>Aceh Selatan</td>\n",
       "      <td>Kluet Selatan</td>\n",
       "      <td>3.051660</td>\n",
       "      <td>97.459770</td>\n",
       "      <td>Ujung Pasir</td>\n",
       "      <td>3.079105</td>\n",
       "      <td>97.328659</td>\n",
       "    </tr>\n",
       "    <tr>\n",
       "      <th>1</th>\n",
       "      <td>ID1101142007</td>\n",
       "      <td>Pucuk Lembang, Kluet Timur, Aceh Selatan, Aceh</td>\n",
       "      <td>Indonesia</td>\n",
       "      <td>Aceh</td>\n",
       "      <td>Aceh Selatan</td>\n",
       "      <td>Kluet Timur</td>\n",
       "      <td>3.171040</td>\n",
       "      <td>97.459770</td>\n",
       "      <td>Pucuk Lembang</td>\n",
       "      <td>3.161074</td>\n",
       "      <td>97.488838</td>\n",
       "    </tr>\n",
       "    <tr>\n",
       "      <th>2</th>\n",
       "      <td>ID1102022015</td>\n",
       "      <td>Suka Maju, Lawe Sigala-Gala, Aceh Tenggara, Aceh</td>\n",
       "      <td>Indonesia</td>\n",
       "      <td>Aceh</td>\n",
       "      <td>Aceh Tenggara</td>\n",
       "      <td>Lawe Sigala-Gala</td>\n",
       "      <td>3.356980</td>\n",
       "      <td>97.926600</td>\n",
       "      <td>Suka Maju</td>\n",
       "      <td>3.356778</td>\n",
       "      <td>97.932930</td>\n",
       "    </tr>\n",
       "    <tr>\n",
       "      <th>3</th>\n",
       "      <td>ID1102032026</td>\n",
       "      <td>Terutung Seperai, Bambel, Aceh Tenggara, Aceh</td>\n",
       "      <td>Indonesia</td>\n",
       "      <td>Aceh</td>\n",
       "      <td>Aceh Tenggara</td>\n",
       "      <td>Bambel</td>\n",
       "      <td>3.457160</td>\n",
       "      <td>97.904820</td>\n",
       "      <td>Terutung Seperai</td>\n",
       "      <td>3.454491</td>\n",
       "      <td>97.833214</td>\n",
       "    </tr>\n",
       "    <tr>\n",
       "      <th>4</th>\n",
       "      <td>ID1205012002</td>\n",
       "      <td>Lau Damak, Bahorok, Langkat, Sumatera Utara</td>\n",
       "      <td>Indonesia</td>\n",
       "      <td>Sumatera Utara</td>\n",
       "      <td>Langkat</td>\n",
       "      <td>Bahorok</td>\n",
       "      <td>3.465968</td>\n",
       "      <td>98.046516</td>\n",
       "      <td>Lau Damak</td>\n",
       "      <td>3.472219</td>\n",
       "      <td>98.098335</td>\n",
       "    </tr>\n",
       "  </tbody>\n",
       "</table>\n",
       "</div>"
      ],
      "text/plain": [
       "             id                                              name    level_0  \\\n",
       "0  ID1101032013    Ujung Pasir, Kluet Selatan, Aceh Selatan, Aceh  Indonesia   \n",
       "1  ID1101142007    Pucuk Lembang, Kluet Timur, Aceh Selatan, Aceh  Indonesia   \n",
       "2  ID1102022015  Suka Maju, Lawe Sigala-Gala, Aceh Tenggara, Aceh  Indonesia   \n",
       "3  ID1102032026     Terutung Seperai, Bambel, Aceh Tenggara, Aceh  Indonesia   \n",
       "4  ID1205012002       Lau Damak, Bahorok, Langkat, Sumatera Utara  Indonesia   \n",
       "\n",
       "          level_1        level_2           level_3  level_3_latitude  \\\n",
       "0            Aceh   Aceh Selatan     Kluet Selatan          3.051660   \n",
       "1            Aceh   Aceh Selatan       Kluet Timur          3.171040   \n",
       "2            Aceh  Aceh Tenggara  Lawe Sigala-Gala          3.356980   \n",
       "3            Aceh  Aceh Tenggara            Bambel          3.457160   \n",
       "4  Sumatera Utara        Langkat           Bahorok          3.465968   \n",
       "\n",
       "   level_3_longitude           level_4  level_4_latitude  level_4_longitude  \n",
       "0          97.459770       Ujung Pasir          3.079105          97.328659  \n",
       "1          97.459770     Pucuk Lembang          3.161074          97.488838  \n",
       "2          97.926600         Suka Maju          3.356778          97.932930  \n",
       "3          97.904820  Terutung Seperai          3.454491          97.833214  \n",
       "4          98.046516         Lau Damak          3.472219          98.098335  "
      ]
     },
     "execution_count": 485,
     "metadata": {},
     "output_type": "execute_result"
    }
   ],
   "source": [
    "# show the first 5 rows of the area_df DataFrame\n",
    "area_df.head()"
   ]
  },
  {
   "cell_type": "code",
   "execution_count": 486,
   "metadata": {},
   "outputs": [
    {
     "data": {
      "text/html": [
       "<div>\n",
       "<style scoped>\n",
       "    .dataframe tbody tr th:only-of-type {\n",
       "        vertical-align: middle;\n",
       "    }\n",
       "\n",
       "    .dataframe tbody tr th {\n",
       "        vertical-align: top;\n",
       "    }\n",
       "\n",
       "    .dataframe thead th {\n",
       "        text-align: right;\n",
       "    }\n",
       "</style>\n",
       "<table border=\"1\" class=\"dataframe\">\n",
       "  <thead>\n",
       "    <tr style=\"text-align: right;\">\n",
       "      <th></th>\n",
       "      <th>id</th>\n",
       "      <th>owner_id</th>\n",
       "      <th>area_id</th>\n",
       "      <th>latitude</th>\n",
       "      <th>longitude</th>\n",
       "      <th>area_hectare</th>\n",
       "      <th>planted_year</th>\n",
       "      <th>planted_month</th>\n",
       "      <th>palm_trees_per_hectare</th>\n",
       "      <th>soil_type</th>\n",
       "      <th>seed_type</th>\n",
       "    </tr>\n",
       "  </thead>\n",
       "  <tbody>\n",
       "    <tr>\n",
       "      <th>0</th>\n",
       "      <td>f02bcded-3b72-43b9-8f14-f7687c4afbd9</td>\n",
       "      <td>145f7e51-c0e9-4dd3-b730-8dd03ee98c3a</td>\n",
       "      <td>ID1223052007</td>\n",
       "      <td>NaN</td>\n",
       "      <td>NaN</td>\n",
       "      <td>1.00</td>\n",
       "      <td>2015</td>\n",
       "      <td>4</td>\n",
       "      <td>125.0</td>\n",
       "      <td>Mineral</td>\n",
       "      <td>None</td>\n",
       "    </tr>\n",
       "    <tr>\n",
       "      <th>1</th>\n",
       "      <td>c18238d1-11ae-43eb-aa16-b9c2d14616dd</td>\n",
       "      <td>f6592c39-68a7-41e3-af84-b79d9a1a5540</td>\n",
       "      <td>ID1223052007</td>\n",
       "      <td>NaN</td>\n",
       "      <td>NaN</td>\n",
       "      <td>1.00</td>\n",
       "      <td>2025</td>\n",
       "      <td>4</td>\n",
       "      <td>125.0</td>\n",
       "      <td>Mineral</td>\n",
       "      <td>None</td>\n",
       "    </tr>\n",
       "    <tr>\n",
       "      <th>2</th>\n",
       "      <td>b519bade-60bf-4781-ba45-6e4803b005c6</td>\n",
       "      <td>4984b691-ed21-4188-b107-cde9bbe65d7f</td>\n",
       "      <td>ID1223052007</td>\n",
       "      <td>NaN</td>\n",
       "      <td>NaN</td>\n",
       "      <td>1.00</td>\n",
       "      <td>2025</td>\n",
       "      <td>4</td>\n",
       "      <td>125.0</td>\n",
       "      <td>Mineral</td>\n",
       "      <td>None</td>\n",
       "    </tr>\n",
       "    <tr>\n",
       "      <th>3</th>\n",
       "      <td>72f4944b-4ca5-40c6-9521-532886a91035</td>\n",
       "      <td>2f8ff664-d15f-44d9-9011-842f646e803f</td>\n",
       "      <td>ID1223052007</td>\n",
       "      <td>NaN</td>\n",
       "      <td>NaN</td>\n",
       "      <td>1.00</td>\n",
       "      <td>2016</td>\n",
       "      <td>4</td>\n",
       "      <td>125.0</td>\n",
       "      <td>Mineral</td>\n",
       "      <td>None</td>\n",
       "    </tr>\n",
       "    <tr>\n",
       "      <th>4</th>\n",
       "      <td>e355222d-1ec6-4a7b-9c0f-516a469b7f91</td>\n",
       "      <td>65df540b-c162-40e5-b806-cef9bd0139d7</td>\n",
       "      <td>ID1223052006</td>\n",
       "      <td>NaN</td>\n",
       "      <td>NaN</td>\n",
       "      <td>1000.25</td>\n",
       "      <td>2010</td>\n",
       "      <td>4</td>\n",
       "      <td>130.0</td>\n",
       "      <td>Mineral</td>\n",
       "      <td>None</td>\n",
       "    </tr>\n",
       "  </tbody>\n",
       "</table>\n",
       "</div>"
      ],
      "text/plain": [
       "                                     id                              owner_id  \\\n",
       "0  f02bcded-3b72-43b9-8f14-f7687c4afbd9  145f7e51-c0e9-4dd3-b730-8dd03ee98c3a   \n",
       "1  c18238d1-11ae-43eb-aa16-b9c2d14616dd  f6592c39-68a7-41e3-af84-b79d9a1a5540   \n",
       "2  b519bade-60bf-4781-ba45-6e4803b005c6  4984b691-ed21-4188-b107-cde9bbe65d7f   \n",
       "3  72f4944b-4ca5-40c6-9521-532886a91035  2f8ff664-d15f-44d9-9011-842f646e803f   \n",
       "4  e355222d-1ec6-4a7b-9c0f-516a469b7f91  65df540b-c162-40e5-b806-cef9bd0139d7   \n",
       "\n",
       "        area_id  latitude  longitude  area_hectare  planted_year  \\\n",
       "0  ID1223052007       NaN        NaN          1.00          2015   \n",
       "1  ID1223052007       NaN        NaN          1.00          2025   \n",
       "2  ID1223052007       NaN        NaN          1.00          2025   \n",
       "3  ID1223052007       NaN        NaN          1.00          2016   \n",
       "4  ID1223052006       NaN        NaN       1000.25          2010   \n",
       "\n",
       "   planted_month  palm_trees_per_hectare soil_type seed_type  \n",
       "0              4                   125.0   Mineral      None  \n",
       "1              4                   125.0   Mineral      None  \n",
       "2              4                   125.0   Mineral      None  \n",
       "3              4                   125.0   Mineral      None  \n",
       "4              4                   130.0   Mineral      None  "
      ]
     },
     "execution_count": 486,
     "metadata": {},
     "output_type": "execute_result"
    }
   ],
   "source": [
    "# show the first 5 rows of the farm_df DataFrame\n",
    "farm_df.head()"
   ]
  },
  {
   "cell_type": "code",
   "execution_count": 487,
   "metadata": {},
   "outputs": [
    {
     "data": {
      "text/html": [
       "<div>\n",
       "<style scoped>\n",
       "    .dataframe tbody tr th:only-of-type {\n",
       "        vertical-align: middle;\n",
       "    }\n",
       "\n",
       "    .dataframe tbody tr th {\n",
       "        vertical-align: top;\n",
       "    }\n",
       "\n",
       "    .dataframe thead th {\n",
       "        text-align: right;\n",
       "    }\n",
       "</style>\n",
       "<table border=\"1\" class=\"dataframe\">\n",
       "  <thead>\n",
       "    <tr style=\"text-align: right;\">\n",
       "      <th></th>\n",
       "      <th>id</th>\n",
       "      <th>sku</th>\n",
       "      <th>type</th>\n",
       "      <th>unit_of_measurement</th>\n",
       "      <th>name</th>\n",
       "      <th>price</th>\n",
       "      <th>description</th>\n",
       "    </tr>\n",
       "  </thead>\n",
       "  <tbody>\n",
       "    <tr>\n",
       "      <th>0</th>\n",
       "      <td>beb17fe4-5d92-4738-adaa-2d62ffb83516</td>\n",
       "      <td>101110503802</td>\n",
       "      <td>GOODS</td>\n",
       "      <td>kg</td>\n",
       "      <td>Urea Nitrea 46% N 50kg - Granul</td>\n",
       "      <td>356357.0</td>\n",
       "      <td>&lt;p&gt;Urea Nitrea 46% N 50kg Granul&lt;/p&gt;</td>\n",
       "    </tr>\n",
       "    <tr>\n",
       "      <th>1</th>\n",
       "      <td>b67588d2-e8fe-4ee4-9931-e9d18241d04c</td>\n",
       "      <td>202310305001</td>\n",
       "      <td>GOODS</td>\n",
       "      <td>kg</td>\n",
       "      <td>PRIMASTAR 300/100 SL 5 liter</td>\n",
       "      <td>230000.0</td>\n",
       "      <td>&lt;h2 class=\"ql-align-justify\"&gt;&lt;span style=\"background-color: rgb(255, 255, 255); color: rgb(0, 0, 0);\"&gt;PRIMASTAR 300/100 SL : Herbisida sistemik purna tumbuh berbentuk larutan dalam air untuk mengendalikan gulma berdaun lebar dan gulma golongan rumput pada pertanaman kelapa sawit (TBM)&lt;/span&gt;&lt;/h2&gt;&lt;p&gt;&lt;br&gt;&lt;/p&gt;&lt;h2&gt;&lt;span style=\"background-color: rgb(255, 255, 255); color: rgb(0, 0, 0);\"&gt;Bahan Aktif : Isopropil Amina Glifosat 300 g/l + 2,4-D Dimetil Amina 100 g/l&lt;/span&gt;&lt;/h2&gt;&lt;p&gt;&lt;br&gt;&lt;/p&gt;&lt;h2 class=\"ql-align-center\"&gt;&lt;span style=\"background-color: rgb(8, 18, 138); color: rgb(255, 255, 255);\"&gt;Cara &amp; Waktu Aplikasi&lt;/span&gt;&lt;/h2&gt;&lt;p&gt;&lt;br&gt;&lt;/p&gt;&lt;h2&gt;&lt;span style=\"background-color: rgb(255, 255, 255); color: rgb(0, 0, 0);\"&gt;Penyemprotan volume tinggi dengan volume 400 - 600 l/ha. Aplikasi dimulai saat gulma tumbuh subur dan tidak turun hujan 4 - 6 jam setelah penyemprotan. Apabila belum jelas hubungi petugas pertanian yang berwenang&lt;/span&gt;&lt;/h2&gt;&lt;p&gt;&lt;br&gt;&lt;/p&gt;</td>\n",
       "    </tr>\n",
       "    <tr>\n",
       "      <th>2</th>\n",
       "      <td>c5e57af4-0df9-4e2b-87e4-9024b8e6cf53</td>\n",
       "      <td>202310304901</td>\n",
       "      <td>GOODS</td>\n",
       "      <td>kg</td>\n",
       "      <td>DMA 6 825 SL 400ml</td>\n",
       "      <td>97000.0</td>\n",
       "      <td>&lt;p&gt;&lt;span style=\"background-color: rgb(249, 249, 249); color: rgb(119, 119, 119);\"&gt;DMA6 825 SL&lt;/span&gt;&lt;/p&gt;&lt;p&gt;&lt;span style=\"background-color: rgb(249, 249, 249); color: rgb(119, 119, 119);\"&gt;Berat bersih: 400ml&lt;/span&gt;&lt;/p&gt;&lt;p&gt;&lt;span style=\"background-color: rgb(249, 249, 249); color: rgb(119, 119, 119);\"&gt;Bahan aktif: 2,4-D dimetil amina (setara dengan 2,4-D: 686 g/l) : 825 g/l&lt;/span&gt;&lt;/p&gt;&lt;p&gt;&lt;span style=\"background-color: rgb(249, 249, 249); color: rgb(119, 119, 119);\"&gt;Produksi : Corteva Agriscience&lt;/span&gt;&lt;/p&gt;&lt;p&gt;&lt;br&gt;&lt;/p&gt;&lt;p&gt;&lt;span style=\"background-color: rgb(249, 249, 249); color: rgb(119, 119, 119);\"&gt;DMA6 825 SL&lt;/span&gt;&lt;/p&gt;&lt;p&gt;&lt;span style=\"background-color: rgb(249, 249, 249); color: rgb(119, 119, 119);\"&gt;Herbisida sistemik selektif purna tumbuh yang berbentuk larutan dalam air berwarna coklat muda,sangat efektif untuk mengendalikan gulma di pertanaman padi, karet, teh dan tebu.&lt;/span&gt;&lt;/p&gt;&lt;p&gt;&lt;span style=\"background-color: rgb(249, 249, 249); color: rgb(119, 119, 119);\"&gt;Herbisida ini sudah tidak diragukan untuk tanaman padi sawah. yang berguna menberantas gulma daun lebar (Broadleaf) and teki tekian di sawah. juga sangat bagus untuk campuran ke glyphosate dan paraquat.&lt;/span&gt;&lt;/p&gt;&lt;p&gt;&lt;span style=\"background-color: rgb(249, 249, 249); color: rgb(119, 119, 119);\"&gt;Dapat digunakan pada tanaman: karet, padi, tebu, teh&lt;/span&gt;&lt;/p&gt;&lt;p&gt;&lt;span style=\"background-color: rgb(249, 249, 249); color: rgb(119, 119, 119);\"&gt;Herbisida sistemik purna tumbuh berbentuk larutan dalam air.&lt;/span&gt;&lt;/p&gt;&lt;p&gt;&lt;span style=\"background-color: rgb(249, 249, 249); color: rgb(119, 119, 119);\"&gt;Dosis :&lt;/span&gt;&lt;/p&gt;&lt;p&gt;&lt;span style=\"background-color: rgb(249, 249, 249); color: rgb(119, 119, 119);\"&gt;– Karet (Gulma Berdaun Lebar) : 1,5 – 3 l/Ha&lt;/span&gt;&lt;/p&gt;&lt;p&gt;&lt;span style=\"background-color: rgb(249, 249, 249); color: rgb(119, 119, 119);\"&gt;Waktu Penyemprotan : Pada saat gulma masih muda dan aktif pertumbuhannya&lt;/span&gt;&lt;/p&gt;&lt;p&gt;&lt;span style=\"background-color: rgb(249, 249, 249); color: rgb(119, 119, 119);\"&gt;– Teh (Gulma Berdaun Lebar) : 1 – 1,5 l/Ha&lt;/span&gt;&lt;/p&gt;&lt;p&gt;&lt;span style=\"background-color: rgb(249, 249, 249); color: rgb(119, 119, 119);\"&gt;Waktu Penyemprotan : Pada saat gulma masih muda dan aktif pertumbuhannya&lt;/span&gt;&lt;/p&gt;&lt;p&gt;&lt;span style=\"background-color: rgb(249, 249, 249); color: rgb(119, 119, 119);\"&gt;– Tebu (Gulma Berdaun Lebar) : 1 – 2 l/Ha&lt;/span&gt;&lt;/p&gt;&lt;p&gt;&lt;span style=\"background-color: rgb(249, 249, 249); color: rgb(119, 119, 119);\"&gt;Waktu Penyemprotan : Segera setelah tanam, atau 3 hari setelah tanam atau 14 hari setelah tanam&lt;/span&gt;&lt;/p&gt;&lt;p&gt;&lt;span style=\"background-color: rgb(249, 249, 249); color: rgb(119, 119, 119);\"&gt;– Padi (Gulma Berdaun Lebar dan Teki) : 1 – 1,5 l/Ha&lt;/span&gt;&lt;/p&gt;&lt;p&gt;&lt;span style=\"background-color: rgb(249, 249, 249); color: rgb(119, 119, 119);\"&gt;Waktu Penyemprotan : 14 hari setelah tanam saat gulma sedang tumbuh&lt;/span&gt;&lt;/p&gt;&lt;p&gt;&lt;br&gt;&lt;/p&gt;</td>\n",
       "    </tr>\n",
       "    <tr>\n",
       "      <th>3</th>\n",
       "      <td>487f2886-5150-4269-94e2-63fbc7314971</td>\n",
       "      <td>SEEDLING-TOPAS-MAIN-NURSERY</td>\n",
       "      <td>GOODS</td>\n",
       "      <td>kg</td>\n",
       "      <td>Bibit Topaz Siap Tanam</td>\n",
       "      <td>45100.0</td>\n",
       "      <td></td>\n",
       "    </tr>\n",
       "    <tr>\n",
       "      <th>4</th>\n",
       "      <td>8152e395-0f7a-4dda-8df9-6655a726c4e1</td>\n",
       "      <td>101210600103</td>\n",
       "      <td>GOODS</td>\n",
       "      <td>kg</td>\n",
       "      <td>Pupuk SawitPRO 20kg + Abu Janjang 40kg</td>\n",
       "      <td>1080000.0</td>\n",
       "      <td>&lt;p&gt;&lt;strong&gt;&lt;em&gt;&lt;u&gt;Deskripsi&lt;/u&gt;&lt;/em&gt;&lt;/strong&gt;&lt;/p&gt;&lt;p&gt;&lt;br&gt;&lt;/p&gt;&lt;p&gt;Pupuk SawitPRO adalah pupuk organik yang dapat membantu petani kelapa sawit meningkatkan hasil panen dan kualitas buah. Pupuk ini dilengkapi dengan mikroorganisme yang dikembangkan oleh pakar biologi terkemuka di Indonesia. Mikroorganisme dapat dimanfaatkan untuk membantu penguraian hara dan percepatan dari penyerapan hara pada tanaman.&lt;/p&gt;&lt;p&gt;&lt;br&gt;&lt;/p&gt;&lt;p&gt;Abu Janjang adalah pupuk organik dengan kandungan K₂O tinggi, sekitar 35%–45%, yang cepat diserap tanaman karena hanya mengandung unsur kalium. Untuk aplikasi, dosis yang dianjurkan adalah 1,5 kg per tanaman. Jika digunakan bersama Pupuk SawitPRO, rekomendasi dosisnya adalah 1 kg Abu Janjang dan 0,5 kg SawitPRO per tanaman.&lt;/p&gt;&lt;p&gt;&lt;br&gt;&lt;/p&gt;&lt;p&gt;&lt;strong&gt;&lt;em&gt;&lt;u&gt;Manfaat&lt;/u&gt;&lt;/em&gt;&lt;/strong&gt;&lt;/p&gt;&lt;p&gt;&lt;br&gt;&lt;/p&gt;&lt;p&gt;Pupuk SawitPRO memberikan berbagai manfaat penting, termasuk meningkatkan ketersediaan unsur hara (nitrogen, fosfat, dan kalium), serta membantu perombakan bahan organik (dekomposisi) dan mineralisasi unsur organik. Pupuk ini juga memicu pertumbuhan tanaman, melindungi akar dari mikroba patogen, meningkatkan efisiensi penyerapan dari pupuk lain (RP, Urea, dll.), dan menghemat biaya pemupukan hingga 50%. Selain itu, Pupuk SawitPRO meningkatkan daya tahan tanaman terhadap serangan penyakit dan menjaga kesuburan tanah untuk pertanian berkelanjutan.&lt;/p&gt;&lt;p&gt;&lt;br&gt;&lt;/p&gt;&lt;p&gt;Abu Janjang meningkatkan ketersediaan kalium (K), merangsang pertumbuhan buah, mempercepat dekomposisi bahan organik, dan menghemat biaya pemupukan. Selain itu, produk ini memperkuat daya tahan tanaman terhadap penyakit dan mendukung kesuburan tanah untuk pertanian berkelanjutan.&lt;/p&gt;&lt;p&gt;&lt;br&gt;&lt;/p&gt;&lt;p&gt;&lt;strong&gt;&lt;em&gt;&lt;u&gt;Kandungan dan Spesifikasi&lt;/u&gt;&lt;/em&gt;&lt;/strong&gt;&lt;/p&gt;&lt;p&gt;&lt;br&gt;&lt;/p&gt;&lt;p&gt;Pupuk SawitPRO 20kg:&lt;/p&gt;&lt;p&gt;Nitrogen 0,1-1% Nitrogen&lt;/p&gt;&lt;p&gt;Fosfor pentoksida 3-5%&lt;/p&gt;&lt;p&gt;Kalium Oksida 17-25%&lt;/p&gt;&lt;p&gt;Bakteri pengikat nitrogen&lt;/p&gt;&lt;p&gt;Trichoderma&lt;/p&gt;&lt;p&gt;&lt;br&gt;&lt;/p&gt;&lt;p&gt;Mikroorganisme:&lt;/p&gt;&lt;p&gt;Rhizobium sp (bakteri pengikat nitrogen pada legume akar)&lt;/p&gt;&lt;p&gt;Azotobacter sp (bakteri pengikat nitrogen dari udara bebas)&lt;/p&gt;&lt;p&gt;Streptomyces sp (penghasil antibiotik dan enzim auksin)&lt;/p&gt;&lt;p&gt;Bacillus sp (melawan patogen dan mendorong pertumbuhan)&lt;/p&gt;&lt;p&gt;Azospirillum sp (mendorong pertumbuhan)&lt;/p&gt;&lt;p&gt;Pseudomonas sp (zat pengatur pertumbuhan)&lt;/p&gt;&lt;p&gt;Trichoderma sp (zat pengontrol hayati terhadap serang jamur khususnya Ganoderma)&lt;/p&gt;&lt;p&gt;&lt;br&gt;&lt;/p&gt;&lt;p&gt;Abu Janjang 40kg:&lt;/p&gt;&lt;p&gt;Kalium Oksida 35-45%&lt;/p&gt;&lt;p&gt;&lt;br&gt;&lt;/p&gt;&lt;p&gt;&lt;strong&gt;&lt;em&gt;&lt;u&gt;Produk Teruji Lab?&lt;/u&gt;&lt;/em&gt;&lt;/strong&gt; Ya&lt;/p&gt;</td>\n",
       "    </tr>\n",
       "  </tbody>\n",
       "</table>\n",
       "</div>"
      ],
      "text/plain": [
       "                                     id                          sku   type  \\\n",
       "0  beb17fe4-5d92-4738-adaa-2d62ffb83516                 101110503802  GOODS   \n",
       "1  b67588d2-e8fe-4ee4-9931-e9d18241d04c                 202310305001  GOODS   \n",
       "2  c5e57af4-0df9-4e2b-87e4-9024b8e6cf53                 202310304901  GOODS   \n",
       "3  487f2886-5150-4269-94e2-63fbc7314971  SEEDLING-TOPAS-MAIN-NURSERY  GOODS   \n",
       "4  8152e395-0f7a-4dda-8df9-6655a726c4e1                 101210600103  GOODS   \n",
       "\n",
       "  unit_of_measurement                                    name      price  \\\n",
       "0                  kg         Urea Nitrea 46% N 50kg - Granul   356357.0   \n",
       "1                  kg            PRIMASTAR 300/100 SL 5 liter   230000.0   \n",
       "2                  kg                      DMA 6 825 SL 400ml    97000.0   \n",
       "3                  kg                  Bibit Topaz Siap Tanam    45100.0   \n",
       "4                  kg  Pupuk SawitPRO 20kg + Abu Janjang 40kg  1080000.0   \n",
       "\n",
       "                                                                                                                                                                                                                                                                                                                                                                                                                                                                                                                                                                                                                                                                                                                                                                                                                                                                                                                                                                                                                                                                                                                                                                                                                                                                                                                                                                                                                                                                                                                                                                                                                                                                                                                                                                                                                                                                                                                                                                                                                                                                                                                                                                                                                                                                                                                                                                                                                                                                                                                                                                                                                                                                                                                                                                                                                                                                                                                              description  \n",
       "0                                                                                                                                                                                                                                                                                                                                                                                                                                                                                                                                                                                                                                                                                                                                                                                                                                                                                                                                                                                                                                                                                                                                                                                                                                                                                                                                                                                                                                                                                                                                                                                                                                                                                                                                                                                                                                                                                                                                                                                                                                                                                                                                                                                                                                                                                                                                                                                                                                                                                                                                                                                                                                                                                                                                                                                                                                                                                                    <p>Urea Nitrea 46% N 50kg Granul</p>  \n",
       "1                                                                                                                                                                                                                                                                                                                                                                                                                                                                                                                                                                                                                                                                                                                                                                                                                                                                                                                                                                                                                                                                                                                                                                                                                                                                                                                                                                                                                                                                                                                                                                                                                                                                                                                                                                                                                                                                                                                                                        <h2 class=\"ql-align-justify\"><span style=\"background-color: rgb(255, 255, 255); color: rgb(0, 0, 0);\">PRIMASTAR 300/100 SL : Herbisida sistemik purna tumbuh berbentuk larutan dalam air untuk mengendalikan gulma berdaun lebar dan gulma golongan rumput pada pertanaman kelapa sawit (TBM)</span></h2><p><br></p><h2><span style=\"background-color: rgb(255, 255, 255); color: rgb(0, 0, 0);\">Bahan Aktif : Isopropil Amina Glifosat 300 g/l + 2,4-D Dimetil Amina 100 g/l</span></h2><p><br></p><h2 class=\"ql-align-center\"><span style=\"background-color: rgb(8, 18, 138); color: rgb(255, 255, 255);\">Cara & Waktu Aplikasi</span></h2><p><br></p><h2><span style=\"background-color: rgb(255, 255, 255); color: rgb(0, 0, 0);\">Penyemprotan volume tinggi dengan volume 400 - 600 l/ha. Aplikasi dimulai saat gulma tumbuh subur dan tidak turun hujan 4 - 6 jam setelah penyemprotan. Apabila belum jelas hubungi petugas pertanian yang berwenang</span></h2><p><br></p>  \n",
       "2  <p><span style=\"background-color: rgb(249, 249, 249); color: rgb(119, 119, 119);\">DMA6 825 SL</span></p><p><span style=\"background-color: rgb(249, 249, 249); color: rgb(119, 119, 119);\">Berat bersih: 400ml</span></p><p><span style=\"background-color: rgb(249, 249, 249); color: rgb(119, 119, 119);\">Bahan aktif: 2,4-D dimetil amina (setara dengan 2,4-D: 686 g/l) : 825 g/l</span></p><p><span style=\"background-color: rgb(249, 249, 249); color: rgb(119, 119, 119);\">Produksi : Corteva Agriscience</span></p><p><br></p><p><span style=\"background-color: rgb(249, 249, 249); color: rgb(119, 119, 119);\">DMA6 825 SL</span></p><p><span style=\"background-color: rgb(249, 249, 249); color: rgb(119, 119, 119);\">Herbisida sistemik selektif purna tumbuh yang berbentuk larutan dalam air berwarna coklat muda,sangat efektif untuk mengendalikan gulma di pertanaman padi, karet, teh dan tebu.</span></p><p><span style=\"background-color: rgb(249, 249, 249); color: rgb(119, 119, 119);\">Herbisida ini sudah tidak diragukan untuk tanaman padi sawah. yang berguna menberantas gulma daun lebar (Broadleaf) and teki tekian di sawah. juga sangat bagus untuk campuran ke glyphosate dan paraquat.</span></p><p><span style=\"background-color: rgb(249, 249, 249); color: rgb(119, 119, 119);\">Dapat digunakan pada tanaman: karet, padi, tebu, teh</span></p><p><span style=\"background-color: rgb(249, 249, 249); color: rgb(119, 119, 119);\">Herbisida sistemik purna tumbuh berbentuk larutan dalam air.</span></p><p><span style=\"background-color: rgb(249, 249, 249); color: rgb(119, 119, 119);\">Dosis :</span></p><p><span style=\"background-color: rgb(249, 249, 249); color: rgb(119, 119, 119);\">– Karet (Gulma Berdaun Lebar) : 1,5 – 3 l/Ha</span></p><p><span style=\"background-color: rgb(249, 249, 249); color: rgb(119, 119, 119);\">Waktu Penyemprotan : Pada saat gulma masih muda dan aktif pertumbuhannya</span></p><p><span style=\"background-color: rgb(249, 249, 249); color: rgb(119, 119, 119);\">– Teh (Gulma Berdaun Lebar) : 1 – 1,5 l/Ha</span></p><p><span style=\"background-color: rgb(249, 249, 249); color: rgb(119, 119, 119);\">Waktu Penyemprotan : Pada saat gulma masih muda dan aktif pertumbuhannya</span></p><p><span style=\"background-color: rgb(249, 249, 249); color: rgb(119, 119, 119);\">– Tebu (Gulma Berdaun Lebar) : 1 – 2 l/Ha</span></p><p><span style=\"background-color: rgb(249, 249, 249); color: rgb(119, 119, 119);\">Waktu Penyemprotan : Segera setelah tanam, atau 3 hari setelah tanam atau 14 hari setelah tanam</span></p><p><span style=\"background-color: rgb(249, 249, 249); color: rgb(119, 119, 119);\">– Padi (Gulma Berdaun Lebar dan Teki) : 1 – 1,5 l/Ha</span></p><p><span style=\"background-color: rgb(249, 249, 249); color: rgb(119, 119, 119);\">Waktu Penyemprotan : 14 hari setelah tanam saat gulma sedang tumbuh</span></p><p><br></p>  \n",
       "3                                                                                                                                                                                                                                                                                                                                                                                                                                                                                                                                                                                                                                                                                                                                                                                                                                                                                                                                                                                                                                                                                                                                                                                                                                                                                                                                                                                                                                                                                                                                                                                                                                                                                                                                                                                                                                                                                                                                                                                                                                                                                                                                                                                                                                                                                                                                                                                                                                                                                                                                                                                                                                                                                                                                                                                                                                                                                                                                          \n",
       "4                                                                                                                                                                                                                                                                                                          <p><strong><em><u>Deskripsi</u></em></strong></p><p><br></p><p>Pupuk SawitPRO adalah pupuk organik yang dapat membantu petani kelapa sawit meningkatkan hasil panen dan kualitas buah. Pupuk ini dilengkapi dengan mikroorganisme yang dikembangkan oleh pakar biologi terkemuka di Indonesia. Mikroorganisme dapat dimanfaatkan untuk membantu penguraian hara dan percepatan dari penyerapan hara pada tanaman.</p><p><br></p><p>Abu Janjang adalah pupuk organik dengan kandungan K₂O tinggi, sekitar 35%–45%, yang cepat diserap tanaman karena hanya mengandung unsur kalium. Untuk aplikasi, dosis yang dianjurkan adalah 1,5 kg per tanaman. Jika digunakan bersama Pupuk SawitPRO, rekomendasi dosisnya adalah 1 kg Abu Janjang dan 0,5 kg SawitPRO per tanaman.</p><p><br></p><p><strong><em><u>Manfaat</u></em></strong></p><p><br></p><p>Pupuk SawitPRO memberikan berbagai manfaat penting, termasuk meningkatkan ketersediaan unsur hara (nitrogen, fosfat, dan kalium), serta membantu perombakan bahan organik (dekomposisi) dan mineralisasi unsur organik. Pupuk ini juga memicu pertumbuhan tanaman, melindungi akar dari mikroba patogen, meningkatkan efisiensi penyerapan dari pupuk lain (RP, Urea, dll.), dan menghemat biaya pemupukan hingga 50%. Selain itu, Pupuk SawitPRO meningkatkan daya tahan tanaman terhadap serangan penyakit dan menjaga kesuburan tanah untuk pertanian berkelanjutan.</p><p><br></p><p>Abu Janjang meningkatkan ketersediaan kalium (K), merangsang pertumbuhan buah, mempercepat dekomposisi bahan organik, dan menghemat biaya pemupukan. Selain itu, produk ini memperkuat daya tahan tanaman terhadap penyakit dan mendukung kesuburan tanah untuk pertanian berkelanjutan.</p><p><br></p><p><strong><em><u>Kandungan dan Spesifikasi</u></em></strong></p><p><br></p><p>Pupuk SawitPRO 20kg:</p><p>Nitrogen 0,1-1% Nitrogen</p><p>Fosfor pentoksida 3-5%</p><p>Kalium Oksida 17-25%</p><p>Bakteri pengikat nitrogen</p><p>Trichoderma</p><p><br></p><p>Mikroorganisme:</p><p>Rhizobium sp (bakteri pengikat nitrogen pada legume akar)</p><p>Azotobacter sp (bakteri pengikat nitrogen dari udara bebas)</p><p>Streptomyces sp (penghasil antibiotik dan enzim auksin)</p><p>Bacillus sp (melawan patogen dan mendorong pertumbuhan)</p><p>Azospirillum sp (mendorong pertumbuhan)</p><p>Pseudomonas sp (zat pengatur pertumbuhan)</p><p>Trichoderma sp (zat pengontrol hayati terhadap serang jamur khususnya Ganoderma)</p><p><br></p><p>Abu Janjang 40kg:</p><p>Kalium Oksida 35-45%</p><p><br></p><p><strong><em><u>Produk Teruji Lab?</u></em></strong> Ya</p>  "
      ]
     },
     "execution_count": 487,
     "metadata": {},
     "output_type": "execute_result"
    }
   ],
   "source": [
    "# show the first 5 rows of the product_df DataFrame\n",
    "product_df.head()"
   ]
  },
  {
   "cell_type": "code",
   "execution_count": 488,
   "metadata": {},
   "outputs": [
    {
     "data": {
      "text/html": [
       "<div>\n",
       "<style scoped>\n",
       "    .dataframe tbody tr th:only-of-type {\n",
       "        vertical-align: middle;\n",
       "    }\n",
       "\n",
       "    .dataframe tbody tr th {\n",
       "        vertical-align: top;\n",
       "    }\n",
       "\n",
       "    .dataframe thead th {\n",
       "        text-align: right;\n",
       "    }\n",
       "</style>\n",
       "<table border=\"1\" class=\"dataframe\">\n",
       "  <thead>\n",
       "    <tr style=\"text-align: right;\">\n",
       "      <th></th>\n",
       "      <th>id</th>\n",
       "      <th>user_id</th>\n",
       "      <th>total_item_price</th>\n",
       "      <th>created_at_utc0</th>\n",
       "    </tr>\n",
       "  </thead>\n",
       "  <tbody>\n",
       "    <tr>\n",
       "      <th>0</th>\n",
       "      <td>74be876e-f74b-4633-b403-e07fa9861943</td>\n",
       "      <td>9c605d36-9c37-4f1e-bac1-c87146fae1f0</td>\n",
       "      <td>102000000.0</td>\n",
       "      <td>1744879059936</td>\n",
       "    </tr>\n",
       "    <tr>\n",
       "      <th>1</th>\n",
       "      <td>911a4c25-75d1-4f67-9a8a-40cb365b4cf0</td>\n",
       "      <td>49ad56f8-8d32-408f-9f88-36cad5310680</td>\n",
       "      <td>433200.0</td>\n",
       "      <td>1744875110464</td>\n",
       "    </tr>\n",
       "    <tr>\n",
       "      <th>2</th>\n",
       "      <td>e5819416-6b56-4337-9271-dc2c701ac7bd</td>\n",
       "      <td>49ad56f8-8d32-408f-9f88-36cad5310680</td>\n",
       "      <td>1377500.0</td>\n",
       "      <td>1744874598061</td>\n",
       "    </tr>\n",
       "    <tr>\n",
       "      <th>3</th>\n",
       "      <td>61e68625-9e6a-435d-9bdd-6c2187ca1817</td>\n",
       "      <td>49ad56f8-8d32-408f-9f88-36cad5310680</td>\n",
       "      <td>433200.0</td>\n",
       "      <td>1744868860328</td>\n",
       "    </tr>\n",
       "    <tr>\n",
       "      <th>4</th>\n",
       "      <td>667698fd-6694-4b97-b7f3-e993f1cd7756</td>\n",
       "      <td>231e825c-16af-4695-bda8-91deb60777e5</td>\n",
       "      <td>50000.0</td>\n",
       "      <td>1744859221323</td>\n",
       "    </tr>\n",
       "  </tbody>\n",
       "</table>\n",
       "</div>"
      ],
      "text/plain": [
       "                                     id                               user_id  \\\n",
       "0  74be876e-f74b-4633-b403-e07fa9861943  9c605d36-9c37-4f1e-bac1-c87146fae1f0   \n",
       "1  911a4c25-75d1-4f67-9a8a-40cb365b4cf0  49ad56f8-8d32-408f-9f88-36cad5310680   \n",
       "2  e5819416-6b56-4337-9271-dc2c701ac7bd  49ad56f8-8d32-408f-9f88-36cad5310680   \n",
       "3  61e68625-9e6a-435d-9bdd-6c2187ca1817  49ad56f8-8d32-408f-9f88-36cad5310680   \n",
       "4  667698fd-6694-4b97-b7f3-e993f1cd7756  231e825c-16af-4695-bda8-91deb60777e5   \n",
       "\n",
       "   total_item_price  created_at_utc0  \n",
       "0       102000000.0    1744879059936  \n",
       "1          433200.0    1744875110464  \n",
       "2         1377500.0    1744874598061  \n",
       "3          433200.0    1744868860328  \n",
       "4           50000.0    1744859221323  "
      ]
     },
     "execution_count": 488,
     "metadata": {},
     "output_type": "execute_result"
    }
   ],
   "source": [
    "# show the first 5 rows of the so_df DataFrame\n",
    "so_df.head()"
   ]
  },
  {
   "cell_type": "code",
   "execution_count": 489,
   "metadata": {},
   "outputs": [
    {
     "data": {
      "text/html": [
       "<div>\n",
       "<style scoped>\n",
       "    .dataframe tbody tr th:only-of-type {\n",
       "        vertical-align: middle;\n",
       "    }\n",
       "\n",
       "    .dataframe tbody tr th {\n",
       "        vertical-align: top;\n",
       "    }\n",
       "\n",
       "    .dataframe thead th {\n",
       "        text-align: right;\n",
       "    }\n",
       "</style>\n",
       "<table border=\"1\" class=\"dataframe\">\n",
       "  <thead>\n",
       "    <tr style=\"text-align: right;\">\n",
       "      <th></th>\n",
       "      <th>id</th>\n",
       "      <th>sale_order_id</th>\n",
       "      <th>product_id</th>\n",
       "      <th>quantity</th>\n",
       "      <th>price</th>\n",
       "      <th>clicked_from_recommendation</th>\n",
       "      <th>click_timestamp</th>\n",
       "    </tr>\n",
       "  </thead>\n",
       "  <tbody>\n",
       "    <tr>\n",
       "      <th>0</th>\n",
       "      <td>d4dc9c06-177e-494c-ba72-7e2954ce8ced</td>\n",
       "      <td>3ddca641-cb59-4a27-8698-cb16ff2932f2</td>\n",
       "      <td>80957603-6cec-4f63-8dcd-aba6ded5cbdd</td>\n",
       "      <td>200</td>\n",
       "      <td>326000.0</td>\n",
       "      <td>False</td>\n",
       "      <td>None</td>\n",
       "    </tr>\n",
       "    <tr>\n",
       "      <th>1</th>\n",
       "      <td>7eefa7db-26bf-4a8b-b207-f44a52ed0aba</td>\n",
       "      <td>3ddca641-cb59-4a27-8698-cb16ff2932f2</td>\n",
       "      <td>b53ce31c-3789-42d7-96a0-5fe058cac7a5</td>\n",
       "      <td>200</td>\n",
       "      <td>125000.0</td>\n",
       "      <td>False</td>\n",
       "      <td>None</td>\n",
       "    </tr>\n",
       "    <tr>\n",
       "      <th>2</th>\n",
       "      <td>e9b32dc3-4e0f-4a69-bb3d-c7f11277f97f</td>\n",
       "      <td>787bc8b7-e679-4772-be5d-af4afac9adf5</td>\n",
       "      <td>5952d124-7dc6-4a6a-baa2-e2e502ecd6fe</td>\n",
       "      <td>1</td>\n",
       "      <td>109000.0</td>\n",
       "      <td>False</td>\n",
       "      <td>None</td>\n",
       "    </tr>\n",
       "    <tr>\n",
       "      <th>3</th>\n",
       "      <td>86a41dec-9936-4c8f-9150-e8b367a4959f</td>\n",
       "      <td>4d47dd32-1618-4376-a846-66bcf065e173</td>\n",
       "      <td>0bd2430a-6613-442a-9d5a-11d64cb095ae</td>\n",
       "      <td>1</td>\n",
       "      <td>65000.0</td>\n",
       "      <td>False</td>\n",
       "      <td>None</td>\n",
       "    </tr>\n",
       "    <tr>\n",
       "      <th>4</th>\n",
       "      <td>61cf5f3f-2a24-4080-bc4f-50af3506479d</td>\n",
       "      <td>e5819416-6b56-4337-9271-dc2c701ac7bd</td>\n",
       "      <td>80957603-6cec-4f63-8dcd-aba6ded5cbdd</td>\n",
       "      <td>2</td>\n",
       "      <td>688750.0</td>\n",
       "      <td>False</td>\n",
       "      <td>None</td>\n",
       "    </tr>\n",
       "  </tbody>\n",
       "</table>\n",
       "</div>"
      ],
      "text/plain": [
       "                                     id                         sale_order_id  \\\n",
       "0  d4dc9c06-177e-494c-ba72-7e2954ce8ced  3ddca641-cb59-4a27-8698-cb16ff2932f2   \n",
       "1  7eefa7db-26bf-4a8b-b207-f44a52ed0aba  3ddca641-cb59-4a27-8698-cb16ff2932f2   \n",
       "2  e9b32dc3-4e0f-4a69-bb3d-c7f11277f97f  787bc8b7-e679-4772-be5d-af4afac9adf5   \n",
       "3  86a41dec-9936-4c8f-9150-e8b367a4959f  4d47dd32-1618-4376-a846-66bcf065e173   \n",
       "4  61cf5f3f-2a24-4080-bc4f-50af3506479d  e5819416-6b56-4337-9271-dc2c701ac7bd   \n",
       "\n",
       "                             product_id  quantity     price  \\\n",
       "0  80957603-6cec-4f63-8dcd-aba6ded5cbdd       200  326000.0   \n",
       "1  b53ce31c-3789-42d7-96a0-5fe058cac7a5       200  125000.0   \n",
       "2  5952d124-7dc6-4a6a-baa2-e2e502ecd6fe         1  109000.0   \n",
       "3  0bd2430a-6613-442a-9d5a-11d64cb095ae         1   65000.0   \n",
       "4  80957603-6cec-4f63-8dcd-aba6ded5cbdd         2  688750.0   \n",
       "\n",
       "   clicked_from_recommendation click_timestamp  \n",
       "0                        False            None  \n",
       "1                        False            None  \n",
       "2                        False            None  \n",
       "3                        False            None  \n",
       "4                        False            None  "
      ]
     },
     "execution_count": 489,
     "metadata": {},
     "output_type": "execute_result"
    }
   ],
   "source": [
    "# show the first 5 rows of the soi_df DataFrame\n",
    "soi_df.head()"
   ]
  },
  {
   "cell_type": "code",
   "execution_count": 490,
   "metadata": {},
   "outputs": [
    {
     "data": {
      "text/html": [
       "<div>\n",
       "<style scoped>\n",
       "    .dataframe tbody tr th:only-of-type {\n",
       "        vertical-align: middle;\n",
       "    }\n",
       "\n",
       "    .dataframe tbody tr th {\n",
       "        vertical-align: top;\n",
       "    }\n",
       "\n",
       "    .dataframe thead th {\n",
       "        text-align: right;\n",
       "    }\n",
       "</style>\n",
       "<table border=\"1\" class=\"dataframe\">\n",
       "  <thead>\n",
       "    <tr style=\"text-align: right;\">\n",
       "      <th></th>\n",
       "      <th>feedback_id</th>\n",
       "      <th>sales_order_id</th>\n",
       "      <th>rating</th>\n",
       "      <th>comment</th>\n",
       "    </tr>\n",
       "  </thead>\n",
       "  <tbody>\n",
       "    <tr>\n",
       "      <th>0</th>\n",
       "      <td>e4a7c3f1-2d9b-486e-90c5-1d6f8b7a5e3c</td>\n",
       "      <td>d20a9066-aed8-4082-98e6-7abc62b7bf78</td>\n",
       "      <td>5</td>\n",
       "      <td>Exceeded expectations in every way!</td>\n",
       "    </tr>\n",
       "    <tr>\n",
       "      <th>1</th>\n",
       "      <td>9b8c7d6e-5f4a-43b2-a1c0-d9e8f7a6b5c4</td>\n",
       "      <td>ba87bf4a-4099-4101-84fb-ef0248fdf987</td>\n",
       "      <td>4</td>\n",
       "      <td>Very good service, would recommend.</td>\n",
       "    </tr>\n",
       "    <tr>\n",
       "      <th>2</th>\n",
       "      <td>2f3e4d5c-6b7a-4897-a6b5-c4d3e2f1a0b9</td>\n",
       "      <td>e465e104-5248-4bd6-8650-4388f1a37e0f</td>\n",
       "      <td>3</td>\n",
       "      <td>Average experience, nothing special.</td>\n",
       "    </tr>\n",
       "    <tr>\n",
       "      <th>3</th>\n",
       "      <td>a8b7c6d5-e4f3-4a2b-91c0-d9e8f7a6b5c4</td>\n",
       "      <td>86496962-031e-4f39-a78c-dd907bcd7322</td>\n",
       "      <td>5</td>\n",
       "      <td>Absolutely perfect, couldn't ask for more.</td>\n",
       "    </tr>\n",
       "    <tr>\n",
       "      <th>4</th>\n",
       "      <td>5c6d7e8f-9a0b-4c1d-82e3-f4a5b6c7d8e9</td>\n",
       "      <td>a1c52691-d8de-4613-84f0-c78abf103cac</td>\n",
       "      <td>2</td>\n",
       "      <td>Disappointed with quality, needs improvement.</td>\n",
       "    </tr>\n",
       "  </tbody>\n",
       "</table>\n",
       "</div>"
      ],
      "text/plain": [
       "                            feedback_id                        sales_order_id  \\\n",
       "0  e4a7c3f1-2d9b-486e-90c5-1d6f8b7a5e3c  d20a9066-aed8-4082-98e6-7abc62b7bf78   \n",
       "1  9b8c7d6e-5f4a-43b2-a1c0-d9e8f7a6b5c4  ba87bf4a-4099-4101-84fb-ef0248fdf987   \n",
       "2  2f3e4d5c-6b7a-4897-a6b5-c4d3e2f1a0b9  e465e104-5248-4bd6-8650-4388f1a37e0f   \n",
       "3  a8b7c6d5-e4f3-4a2b-91c0-d9e8f7a6b5c4  86496962-031e-4f39-a78c-dd907bcd7322   \n",
       "4  5c6d7e8f-9a0b-4c1d-82e3-f4a5b6c7d8e9  a1c52691-d8de-4613-84f0-c78abf103cac   \n",
       "\n",
       "  rating                                        comment  \n",
       "0      5            Exceeded expectations in every way!  \n",
       "1      4            Very good service, would recommend.  \n",
       "2      3           Average experience, nothing special.  \n",
       "3      5     Absolutely perfect, couldn't ask for more.  \n",
       "4      2  Disappointed with quality, needs improvement.  "
      ]
     },
     "execution_count": 490,
     "metadata": {},
     "output_type": "execute_result"
    }
   ],
   "source": [
    "# show the first 5 rows of the feedback_df DataFrame\n",
    "feedback_df.head()"
   ]
  },
  {
   "cell_type": "code",
   "execution_count": 491,
   "metadata": {},
   "outputs": [
    {
     "data": {
      "text/html": [
       "<div>\n",
       "<style scoped>\n",
       "    .dataframe tbody tr th:only-of-type {\n",
       "        vertical-align: middle;\n",
       "    }\n",
       "\n",
       "    .dataframe tbody tr th {\n",
       "        vertical-align: top;\n",
       "    }\n",
       "\n",
       "    .dataframe thead th {\n",
       "        text-align: right;\n",
       "    }\n",
       "</style>\n",
       "<table border=\"1\" class=\"dataframe\">\n",
       "  <thead>\n",
       "    <tr style=\"text-align: right;\">\n",
       "      <th></th>\n",
       "      <th>prodct_clicks_id</th>\n",
       "      <th>product_id</th>\n",
       "      <th>timestamp</th>\n",
       "    </tr>\n",
       "  </thead>\n",
       "  <tbody>\n",
       "    <tr>\n",
       "      <th>0</th>\n",
       "      <td>b9c8d7e6-f5a4-4b3c-92d1-e0f9a8b7c6d5</td>\n",
       "      <td>0bd2430a-6613-442a-9d5a-11d64cb095ae</td>\n",
       "      <td>2025/05/01 08:05:00</td>\n",
       "    </tr>\n",
       "    <tr>\n",
       "      <th>1</th>\n",
       "      <td>3a4b5c6d-7e8f-4a0b-81c2-d3e4f5a6b7c8</td>\n",
       "      <td>1033503b-8faa-4d5c-97c2-50bb19fbb897</td>\n",
       "      <td>2025/03/17 14:32:45</td>\n",
       "    </tr>\n",
       "    <tr>\n",
       "      <th>2</th>\n",
       "      <td>e0f1a2b3-c4d5-4e6f-87a8-b9c0d1e2f3a4</td>\n",
       "      <td>1af0394e-3aea-42b4-8698-b6832e35f8ce</td>\n",
       "      <td>2025/07/29 09:18:22</td>\n",
       "    </tr>\n",
       "    <tr>\n",
       "      <th>3</th>\n",
       "      <td>7a8b9c0d-1e2f-4a3b-84c5-d6e7f8a9b0c1</td>\n",
       "      <td>2485b082-5258-44c1-b6aa-983387d540a7</td>\n",
       "      <td>2025/04/12 16:45:37</td>\n",
       "    </tr>\n",
       "    <tr>\n",
       "      <th>4</th>\n",
       "      <td>1e2f3a4b-5c6d-47e8-8f9a-0b1c2d3e4f5a</td>\n",
       "      <td>2b8fe2f0-5d07-459c-8781-22305a61980a</td>\n",
       "      <td>2025/06/05 11:09:54</td>\n",
       "    </tr>\n",
       "  </tbody>\n",
       "</table>\n",
       "</div>"
      ],
      "text/plain": [
       "                       prodct_clicks_id                            product_id  \\\n",
       "0  b9c8d7e6-f5a4-4b3c-92d1-e0f9a8b7c6d5  0bd2430a-6613-442a-9d5a-11d64cb095ae   \n",
       "1  3a4b5c6d-7e8f-4a0b-81c2-d3e4f5a6b7c8  1033503b-8faa-4d5c-97c2-50bb19fbb897   \n",
       "2  e0f1a2b3-c4d5-4e6f-87a8-b9c0d1e2f3a4  1af0394e-3aea-42b4-8698-b6832e35f8ce   \n",
       "3  7a8b9c0d-1e2f-4a3b-84c5-d6e7f8a9b0c1  2485b082-5258-44c1-b6aa-983387d540a7   \n",
       "4  1e2f3a4b-5c6d-47e8-8f9a-0b1c2d3e4f5a  2b8fe2f0-5d07-459c-8781-22305a61980a   \n",
       "\n",
       "             timestamp  \n",
       "0  2025/05/01 08:05:00  \n",
       "1  2025/03/17 14:32:45  \n",
       "2  2025/07/29 09:18:22  \n",
       "3  2025/04/12 16:45:37  \n",
       "4  2025/06/05 11:09:54  "
      ]
     },
     "execution_count": 491,
     "metadata": {},
     "output_type": "execute_result"
    }
   ],
   "source": [
    "# show the first 5 rows of the product_clicks_df DataFrame\n",
    "product_clicks_df.head()"
   ]
  },
  {
   "cell_type": "code",
   "execution_count": 492,
   "metadata": {},
   "outputs": [
    {
     "data": {
      "text/html": [
       "<div>\n",
       "<style scoped>\n",
       "    .dataframe tbody tr th:only-of-type {\n",
       "        vertical-align: middle;\n",
       "    }\n",
       "\n",
       "    .dataframe tbody tr th {\n",
       "        vertical-align: top;\n",
       "    }\n",
       "\n",
       "    .dataframe thead th {\n",
       "        text-align: right;\n",
       "    }\n",
       "</style>\n",
       "<table border=\"1\" class=\"dataframe\">\n",
       "  <thead>\n",
       "    <tr style=\"text-align: right;\">\n",
       "      <th></th>\n",
       "      <th>user_session_id</th>\n",
       "      <th>user_id</th>\n",
       "      <th>session_start</th>\n",
       "      <th>session_end</th>\n",
       "    </tr>\n",
       "  </thead>\n",
       "  <tbody>\n",
       "    <tr>\n",
       "      <th>0</th>\n",
       "      <td>d20a9066-aed8-4082-98e6-7abc62b7bf78</td>\n",
       "      <td>05ebeca1-5a73-46ec-88fc-323b29d468cc</td>\n",
       "      <td>2025/03/15 09:23:17</td>\n",
       "      <td>2025/03/15 10:47:32</td>\n",
       "    </tr>\n",
       "    <tr>\n",
       "      <th>1</th>\n",
       "      <td>5f3c8b1a-6d24-4ea7-b519-f32c0e48d92c</td>\n",
       "      <td>7a341d40-7166-46d4-b37f-be9a9ecec7f7</td>\n",
       "      <td>2025/04/22 14:05:39</td>\n",
       "      <td>2025/04/22 15:38:51</td>\n",
       "    </tr>\n",
       "    <tr>\n",
       "      <th>2</th>\n",
       "      <td>a7f9e031-2bcd-4568-9174-8d26e0b7c943</td>\n",
       "      <td>34e01958-7a5d-4016-bb9a-e36d87ed3bf6</td>\n",
       "      <td>2025/01/08 18:32:45</td>\n",
       "      <td>2025/01/08 19:15:12</td>\n",
       "    </tr>\n",
       "    <tr>\n",
       "      <th>3</th>\n",
       "      <td>16eb7d42-5c9a-4f83-b0e5-3a192d4c6b87</td>\n",
       "      <td>917278db-9719-4988-a151-237f4fc74b9d</td>\n",
       "      <td>2025/07/19 08:17:23</td>\n",
       "      <td>2025/07/19 11:03:45</td>\n",
       "    </tr>\n",
       "    <tr>\n",
       "      <th>4</th>\n",
       "      <td>c8b53e9f-471d-4a20-9c8e-0b7d2f961a45</td>\n",
       "      <td>b93b8e2b-ffa7-4e29-bbf1-c90cce4c0962</td>\n",
       "      <td>2025/02/28 16:45:10</td>\n",
       "      <td>2025/02/28 17:22:38</td>\n",
       "    </tr>\n",
       "  </tbody>\n",
       "</table>\n",
       "</div>"
      ],
      "text/plain": [
       "                        user_session_id                               user_id  \\\n",
       "0  d20a9066-aed8-4082-98e6-7abc62b7bf78  05ebeca1-5a73-46ec-88fc-323b29d468cc   \n",
       "1  5f3c8b1a-6d24-4ea7-b519-f32c0e48d92c  7a341d40-7166-46d4-b37f-be9a9ecec7f7   \n",
       "2  a7f9e031-2bcd-4568-9174-8d26e0b7c943  34e01958-7a5d-4016-bb9a-e36d87ed3bf6   \n",
       "3  16eb7d42-5c9a-4f83-b0e5-3a192d4c6b87  917278db-9719-4988-a151-237f4fc74b9d   \n",
       "4  c8b53e9f-471d-4a20-9c8e-0b7d2f961a45  b93b8e2b-ffa7-4e29-bbf1-c90cce4c0962   \n",
       "\n",
       "         session_start          session_end  \n",
       "0  2025/03/15 09:23:17  2025/03/15 10:47:32  \n",
       "1  2025/04/22 14:05:39  2025/04/22 15:38:51  \n",
       "2  2025/01/08 18:32:45  2025/01/08 19:15:12  \n",
       "3  2025/07/19 08:17:23  2025/07/19 11:03:45  \n",
       "4  2025/02/28 16:45:10  2025/02/28 17:22:38  "
      ]
     },
     "execution_count": 492,
     "metadata": {},
     "output_type": "execute_result"
    }
   ],
   "source": [
    "# show the first 5 rows of the user_session_df DataFrame\n",
    "user_session_df.head()"
   ]
  },
  {
   "cell_type": "code",
   "execution_count": 493,
   "metadata": {},
   "outputs": [
    {
     "data": {
      "text/plain": [
       "(46, 11)"
      ]
     },
     "execution_count": 493,
     "metadata": {},
     "output_type": "execute_result"
    }
   ],
   "source": [
    "# show shape of the area_df DataFrame\n",
    "area_df.shape"
   ]
  },
  {
   "cell_type": "code",
   "execution_count": 494,
   "metadata": {},
   "outputs": [
    {
     "data": {
      "text/plain": [
       "(100, 11)"
      ]
     },
     "execution_count": 494,
     "metadata": {},
     "output_type": "execute_result"
    }
   ],
   "source": [
    "# show shape of the farm_df DataFrame\n",
    "farm_df.shape"
   ]
  },
  {
   "cell_type": "code",
   "execution_count": 495,
   "metadata": {},
   "outputs": [
    {
     "data": {
      "text/plain": [
       "(41, 7)"
      ]
     },
     "execution_count": 495,
     "metadata": {},
     "output_type": "execute_result"
    }
   ],
   "source": [
    "# show shape of the product_df DataFrame\n",
    "product_df.shape"
   ]
  },
  {
   "cell_type": "code",
   "execution_count": 496,
   "metadata": {},
   "outputs": [
    {
     "data": {
      "text/plain": [
       "(100, 4)"
      ]
     },
     "execution_count": 496,
     "metadata": {},
     "output_type": "execute_result"
    }
   ],
   "source": [
    "# show shape of the so_df DataFrame \n",
    "so_df.shape"
   ]
  },
  {
   "cell_type": "code",
   "execution_count": 497,
   "metadata": {},
   "outputs": [
    {
     "data": {
      "text/plain": [
       "(116, 7)"
      ]
     },
     "execution_count": 497,
     "metadata": {},
     "output_type": "execute_result"
    }
   ],
   "source": [
    "# show shape of the soi_df DataFrame\n",
    "soi_df.shape"
   ]
  },
  {
   "cell_type": "code",
   "execution_count": 498,
   "metadata": {},
   "outputs": [
    {
     "data": {
      "text/plain": [
       "(41, 4)"
      ]
     },
     "execution_count": 498,
     "metadata": {},
     "output_type": "execute_result"
    }
   ],
   "source": [
    "# show shape of the feedback_df DataFrame\n",
    "feedback_df.shape"
   ]
  },
  {
   "cell_type": "code",
   "execution_count": 499,
   "metadata": {},
   "outputs": [
    {
     "data": {
      "text/plain": [
       "(41, 3)"
      ]
     },
     "execution_count": 499,
     "metadata": {},
     "output_type": "execute_result"
    }
   ],
   "source": [
    "# show shape of the product_clicks_df DataFrame\n",
    "product_clicks_df.shape"
   ]
  },
  {
   "cell_type": "code",
   "execution_count": 500,
   "metadata": {},
   "outputs": [
    {
     "data": {
      "text/plain": [
       "(41, 4)"
      ]
     },
     "execution_count": 500,
     "metadata": {},
     "output_type": "execute_result"
    }
   ],
   "source": [
    "# show shape of the user_session_df DataFrame\n",
    "user_session_df.shape"
   ]
  },
  {
   "cell_type": "code",
   "execution_count": 501,
   "metadata": {},
   "outputs": [
    {
     "data": {
      "text/plain": [
       "id                    object\n",
       "name                  object\n",
       "level_0               object\n",
       "level_1               object\n",
       "level_2               object\n",
       "level_3               object\n",
       "level_3_latitude     float64\n",
       "level_3_longitude    float64\n",
       "level_4               object\n",
       "level_4_latitude     float64\n",
       "level_4_longitude    float64\n",
       "dtype: object"
      ]
     },
     "execution_count": 501,
     "metadata": {},
     "output_type": "execute_result"
    }
   ],
   "source": [
    "# show data types of the area_df DataFrame\n",
    "area_df.dtypes"
   ]
  },
  {
   "cell_type": "code",
   "execution_count": 502,
   "metadata": {},
   "outputs": [
    {
     "data": {
      "text/plain": [
       "id                         object\n",
       "owner_id                   object\n",
       "area_id                    object\n",
       "latitude                  float64\n",
       "longitude                 float64\n",
       "area_hectare              float64\n",
       "planted_year                int64\n",
       "planted_month               int64\n",
       "palm_trees_per_hectare    float64\n",
       "soil_type                  object\n",
       "seed_type                  object\n",
       "dtype: object"
      ]
     },
     "execution_count": 502,
     "metadata": {},
     "output_type": "execute_result"
    }
   ],
   "source": [
    "# show data types of the farm_df DataFrame\n",
    "farm_df.dtypes"
   ]
  },
  {
   "cell_type": "code",
   "execution_count": 503,
   "metadata": {},
   "outputs": [
    {
     "data": {
      "text/plain": [
       "id                      object\n",
       "sku                     object\n",
       "type                    object\n",
       "unit_of_measurement     object\n",
       "name                    object\n",
       "price                  float64\n",
       "description             object\n",
       "dtype: object"
      ]
     },
     "execution_count": 503,
     "metadata": {},
     "output_type": "execute_result"
    }
   ],
   "source": [
    "# show data types of the product_df DataFrame\n",
    "product_df.dtypes"
   ]
  },
  {
   "cell_type": "code",
   "execution_count": 504,
   "metadata": {},
   "outputs": [
    {
     "data": {
      "text/plain": [
       "id                   object\n",
       "user_id              object\n",
       "total_item_price    float64\n",
       "created_at_utc0       int64\n",
       "dtype: object"
      ]
     },
     "execution_count": 504,
     "metadata": {},
     "output_type": "execute_result"
    }
   ],
   "source": [
    "# show data types of the so_df DataFrame\n",
    "so_df.dtypes"
   ]
  },
  {
   "cell_type": "code",
   "execution_count": 505,
   "metadata": {},
   "outputs": [
    {
     "data": {
      "text/plain": [
       "id                              object\n",
       "sale_order_id                   object\n",
       "product_id                      object\n",
       "quantity                         int64\n",
       "price                          float64\n",
       "clicked_from_recommendation       bool\n",
       "click_timestamp                 object\n",
       "dtype: object"
      ]
     },
     "execution_count": 505,
     "metadata": {},
     "output_type": "execute_result"
    }
   ],
   "source": [
    "# show data types of the soi_df DataFrame\n",
    "soi_df.dtypes"
   ]
  },
  {
   "cell_type": "code",
   "execution_count": 506,
   "metadata": {},
   "outputs": [
    {
     "data": {
      "text/plain": [
       "feedback_id       object\n",
       "sales_order_id    object\n",
       "rating            object\n",
       "comment           object\n",
       "dtype: object"
      ]
     },
     "execution_count": 506,
     "metadata": {},
     "output_type": "execute_result"
    }
   ],
   "source": [
    "# show data types of the feedback_df DataFrame\n",
    "feedback_df.dtypes"
   ]
  },
  {
   "cell_type": "code",
   "execution_count": 507,
   "metadata": {},
   "outputs": [
    {
     "data": {
      "text/plain": [
       "prodct_clicks_id    object\n",
       "product_id          object\n",
       "timestamp           object\n",
       "dtype: object"
      ]
     },
     "execution_count": 507,
     "metadata": {},
     "output_type": "execute_result"
    }
   ],
   "source": [
    "# show data types of the product_clicks_df DataFrame\n",
    "product_clicks_df.dtypes"
   ]
  },
  {
   "cell_type": "code",
   "execution_count": 508,
   "metadata": {},
   "outputs": [
    {
     "data": {
      "text/plain": [
       "user_session_id    object\n",
       "user_id            object\n",
       "session_start      object\n",
       "session_end        object\n",
       "dtype: object"
      ]
     },
     "execution_count": 508,
     "metadata": {},
     "output_type": "execute_result"
    }
   ],
   "source": [
    "# show data types of the user_session_df DataFrame\n",
    "user_session_df.dtypes"
   ]
  },
  {
   "cell_type": "code",
   "execution_count": 509,
   "metadata": {},
   "outputs": [
    {
     "name": "stdout",
     "output_type": "stream",
     "text": [
      "<class 'pandas.core.frame.DataFrame'>\n",
      "RangeIndex: 46 entries, 0 to 45\n",
      "Data columns (total 11 columns):\n",
      " #   Column             Non-Null Count  Dtype  \n",
      "---  ------             --------------  -----  \n",
      " 0   id                 46 non-null     object \n",
      " 1   name               46 non-null     object \n",
      " 2   level_0            46 non-null     object \n",
      " 3   level_1            46 non-null     object \n",
      " 4   level_2            46 non-null     object \n",
      " 5   level_3            46 non-null     object \n",
      " 6   level_3_latitude   46 non-null     float64\n",
      " 7   level_3_longitude  46 non-null     float64\n",
      " 8   level_4            46 non-null     object \n",
      " 9   level_4_latitude   46 non-null     float64\n",
      " 10  level_4_longitude  46 non-null     float64\n",
      "dtypes: float64(4), object(7)\n",
      "memory usage: 4.1+ KB\n"
     ]
    }
   ],
   "source": [
    "area_df.info()"
   ]
  },
  {
   "cell_type": "code",
   "execution_count": 510,
   "metadata": {},
   "outputs": [
    {
     "name": "stdout",
     "output_type": "stream",
     "text": [
      "<class 'pandas.core.frame.DataFrame'>\n",
      "RangeIndex: 100 entries, 0 to 99\n",
      "Data columns (total 11 columns):\n",
      " #   Column                  Non-Null Count  Dtype  \n",
      "---  ------                  --------------  -----  \n",
      " 0   id                      100 non-null    object \n",
      " 1   owner_id                100 non-null    object \n",
      " 2   area_id                 100 non-null    object \n",
      " 3   latitude                2 non-null      float64\n",
      " 4   longitude               2 non-null      float64\n",
      " 5   area_hectare            100 non-null    float64\n",
      " 6   planted_year            100 non-null    int64  \n",
      " 7   planted_month           100 non-null    int64  \n",
      " 8   palm_trees_per_hectare  48 non-null     float64\n",
      " 9   soil_type               100 non-null    object \n",
      " 10  seed_type               28 non-null     object \n",
      "dtypes: float64(4), int64(2), object(5)\n",
      "memory usage: 8.7+ KB\n"
     ]
    }
   ],
   "source": [
    "farm_df.info()"
   ]
  },
  {
   "cell_type": "code",
   "execution_count": 511,
   "metadata": {},
   "outputs": [
    {
     "name": "stdout",
     "output_type": "stream",
     "text": [
      "<class 'pandas.core.frame.DataFrame'>\n",
      "RangeIndex: 41 entries, 0 to 40\n",
      "Data columns (total 7 columns):\n",
      " #   Column               Non-Null Count  Dtype  \n",
      "---  ------               --------------  -----  \n",
      " 0   id                   41 non-null     object \n",
      " 1   sku                  41 non-null     object \n",
      " 2   type                 41 non-null     object \n",
      " 3   unit_of_measurement  41 non-null     object \n",
      " 4   name                 41 non-null     object \n",
      " 5   price                41 non-null     float64\n",
      " 6   description          41 non-null     object \n",
      "dtypes: float64(1), object(6)\n",
      "memory usage: 2.4+ KB\n"
     ]
    }
   ],
   "source": [
    "product_df.info()"
   ]
  },
  {
   "cell_type": "code",
   "execution_count": 512,
   "metadata": {},
   "outputs": [
    {
     "name": "stdout",
     "output_type": "stream",
     "text": [
      "<class 'pandas.core.frame.DataFrame'>\n",
      "RangeIndex: 100 entries, 0 to 99\n",
      "Data columns (total 4 columns):\n",
      " #   Column            Non-Null Count  Dtype  \n",
      "---  ------            --------------  -----  \n",
      " 0   id                100 non-null    object \n",
      " 1   user_id           100 non-null    object \n",
      " 2   total_item_price  100 non-null    float64\n",
      " 3   created_at_utc0   100 non-null    int64  \n",
      "dtypes: float64(1), int64(1), object(2)\n",
      "memory usage: 3.3+ KB\n"
     ]
    }
   ],
   "source": [
    "so_df.info()"
   ]
  },
  {
   "cell_type": "code",
   "execution_count": 513,
   "metadata": {},
   "outputs": [
    {
     "name": "stdout",
     "output_type": "stream",
     "text": [
      "<class 'pandas.core.frame.DataFrame'>\n",
      "RangeIndex: 116 entries, 0 to 115\n",
      "Data columns (total 7 columns):\n",
      " #   Column                       Non-Null Count  Dtype  \n",
      "---  ------                       --------------  -----  \n",
      " 0   id                           116 non-null    object \n",
      " 1   sale_order_id                116 non-null    object \n",
      " 2   product_id                   116 non-null    object \n",
      " 3   quantity                     116 non-null    int64  \n",
      " 4   price                        116 non-null    float64\n",
      " 5   clicked_from_recommendation  116 non-null    bool   \n",
      " 6   click_timestamp              0 non-null      object \n",
      "dtypes: bool(1), float64(1), int64(1), object(4)\n",
      "memory usage: 5.7+ KB\n"
     ]
    }
   ],
   "source": [
    "soi_df.info()"
   ]
  },
  {
   "cell_type": "code",
   "execution_count": 514,
   "metadata": {},
   "outputs": [
    {
     "name": "stdout",
     "output_type": "stream",
     "text": [
      "<class 'pandas.core.frame.DataFrame'>\n",
      "RangeIndex: 41 entries, 0 to 40\n",
      "Data columns (total 4 columns):\n",
      " #   Column          Non-Null Count  Dtype \n",
      "---  ------          --------------  ----- \n",
      " 0   feedback_id     41 non-null     object\n",
      " 1   sales_order_id  41 non-null     object\n",
      " 2   rating          41 non-null     object\n",
      " 3   comment         41 non-null     object\n",
      "dtypes: object(4)\n",
      "memory usage: 1.4+ KB\n"
     ]
    }
   ],
   "source": [
    "feedback_df.info()"
   ]
  },
  {
   "cell_type": "code",
   "execution_count": 515,
   "metadata": {},
   "outputs": [
    {
     "name": "stdout",
     "output_type": "stream",
     "text": [
      "<class 'pandas.core.frame.DataFrame'>\n",
      "RangeIndex: 41 entries, 0 to 40\n",
      "Data columns (total 3 columns):\n",
      " #   Column            Non-Null Count  Dtype \n",
      "---  ------            --------------  ----- \n",
      " 0   prodct_clicks_id  41 non-null     object\n",
      " 1   product_id        41 non-null     object\n",
      " 2   timestamp         41 non-null     object\n",
      "dtypes: object(3)\n",
      "memory usage: 1.1+ KB\n"
     ]
    }
   ],
   "source": [
    "product_clicks_df.info()"
   ]
  },
  {
   "cell_type": "code",
   "execution_count": 516,
   "metadata": {},
   "outputs": [
    {
     "name": "stdout",
     "output_type": "stream",
     "text": [
      "<class 'pandas.core.frame.DataFrame'>\n",
      "RangeIndex: 41 entries, 0 to 40\n",
      "Data columns (total 4 columns):\n",
      " #   Column           Non-Null Count  Dtype \n",
      "---  ------           --------------  ----- \n",
      " 0   user_session_id  41 non-null     object\n",
      " 1   user_id          41 non-null     object\n",
      " 2   session_start    41 non-null     object\n",
      " 3   session_end      41 non-null     object\n",
      "dtypes: object(4)\n",
      "memory usage: 1.4+ KB\n"
     ]
    }
   ],
   "source": [
    "user_session_df.info()"
   ]
  },
  {
   "cell_type": "code",
   "execution_count": 517,
   "metadata": {},
   "outputs": [
    {
     "data": {
      "text/html": [
       "<div>\n",
       "<style scoped>\n",
       "    .dataframe tbody tr th:only-of-type {\n",
       "        vertical-align: middle;\n",
       "    }\n",
       "\n",
       "    .dataframe tbody tr th {\n",
       "        vertical-align: top;\n",
       "    }\n",
       "\n",
       "    .dataframe thead th {\n",
       "        text-align: right;\n",
       "    }\n",
       "</style>\n",
       "<table border=\"1\" class=\"dataframe\">\n",
       "  <thead>\n",
       "    <tr style=\"text-align: right;\">\n",
       "      <th></th>\n",
       "      <th>level_3_latitude</th>\n",
       "      <th>level_3_longitude</th>\n",
       "      <th>level_4_latitude</th>\n",
       "      <th>level_4_longitude</th>\n",
       "    </tr>\n",
       "  </thead>\n",
       "  <tbody>\n",
       "    <tr>\n",
       "      <th>count</th>\n",
       "      <td>46.000000</td>\n",
       "      <td>46.000000</td>\n",
       "      <td>46.000000</td>\n",
       "      <td>46.000000</td>\n",
       "    </tr>\n",
       "    <tr>\n",
       "      <th>mean</th>\n",
       "      <td>0.356527</td>\n",
       "      <td>101.338789</td>\n",
       "      <td>0.359234</td>\n",
       "      <td>101.341713</td>\n",
       "    </tr>\n",
       "    <tr>\n",
       "      <th>std</th>\n",
       "      <td>3.117636</td>\n",
       "      <td>3.299132</td>\n",
       "      <td>3.118584</td>\n",
       "      <td>3.295200</td>\n",
       "    </tr>\n",
       "    <tr>\n",
       "      <th>min</th>\n",
       "      <td>-7.097770</td>\n",
       "      <td>97.459770</td>\n",
       "      <td>-7.129365</td>\n",
       "      <td>97.328659</td>\n",
       "    </tr>\n",
       "    <tr>\n",
       "      <th>25%</th>\n",
       "      <td>-1.641203</td>\n",
       "      <td>98.759658</td>\n",
       "      <td>-1.612830</td>\n",
       "      <td>98.774652</td>\n",
       "    </tr>\n",
       "    <tr>\n",
       "      <th>50%</th>\n",
       "      <td>1.689045</td>\n",
       "      <td>100.069371</td>\n",
       "      <td>1.625296</td>\n",
       "      <td>100.112301</td>\n",
       "    </tr>\n",
       "    <tr>\n",
       "      <th>75%</th>\n",
       "      <td>2.956138</td>\n",
       "      <td>102.949610</td>\n",
       "      <td>2.977077</td>\n",
       "      <td>102.942095</td>\n",
       "    </tr>\n",
       "    <tr>\n",
       "      <th>max</th>\n",
       "      <td>3.805560</td>\n",
       "      <td>113.846580</td>\n",
       "      <td>3.847265</td>\n",
       "      <td>113.861448</td>\n",
       "    </tr>\n",
       "  </tbody>\n",
       "</table>\n",
       "</div>"
      ],
      "text/plain": [
       "       level_3_latitude  level_3_longitude  level_4_latitude  \\\n",
       "count         46.000000          46.000000         46.000000   \n",
       "mean           0.356527         101.338789          0.359234   \n",
       "std            3.117636           3.299132          3.118584   \n",
       "min           -7.097770          97.459770         -7.129365   \n",
       "25%           -1.641203          98.759658         -1.612830   \n",
       "50%            1.689045         100.069371          1.625296   \n",
       "75%            2.956138         102.949610          2.977077   \n",
       "max            3.805560         113.846580          3.847265   \n",
       "\n",
       "       level_4_longitude  \n",
       "count          46.000000  \n",
       "mean          101.341713  \n",
       "std             3.295200  \n",
       "min            97.328659  \n",
       "25%            98.774652  \n",
       "50%           100.112301  \n",
       "75%           102.942095  \n",
       "max           113.861448  "
      ]
     },
     "execution_count": 517,
     "metadata": {},
     "output_type": "execute_result"
    }
   ],
   "source": [
    "# show the statistics of the area_df DataFrame\n",
    "area_df.describe()"
   ]
  },
  {
   "cell_type": "code",
   "execution_count": 518,
   "metadata": {},
   "outputs": [
    {
     "data": {
      "text/html": [
       "<div>\n",
       "<style scoped>\n",
       "    .dataframe tbody tr th:only-of-type {\n",
       "        vertical-align: middle;\n",
       "    }\n",
       "\n",
       "    .dataframe tbody tr th {\n",
       "        vertical-align: top;\n",
       "    }\n",
       "\n",
       "    .dataframe thead th {\n",
       "        text-align: right;\n",
       "    }\n",
       "</style>\n",
       "<table border=\"1\" class=\"dataframe\">\n",
       "  <thead>\n",
       "    <tr style=\"text-align: right;\">\n",
       "      <th></th>\n",
       "      <th>latitude</th>\n",
       "      <th>longitude</th>\n",
       "      <th>area_hectare</th>\n",
       "      <th>planted_year</th>\n",
       "      <th>planted_month</th>\n",
       "      <th>palm_trees_per_hectare</th>\n",
       "    </tr>\n",
       "  </thead>\n",
       "  <tbody>\n",
       "    <tr>\n",
       "      <th>count</th>\n",
       "      <td>2.000000</td>\n",
       "      <td>2.000000</td>\n",
       "      <td>100.00000</td>\n",
       "      <td>100.000000</td>\n",
       "      <td>100.000000</td>\n",
       "      <td>48.000000</td>\n",
       "    </tr>\n",
       "    <tr>\n",
       "      <th>mean</th>\n",
       "      <td>-1.438965</td>\n",
       "      <td>102.842845</td>\n",
       "      <td>527.27470</td>\n",
       "      <td>2015.980000</td>\n",
       "      <td>5.170000</td>\n",
       "      <td>172.354167</td>\n",
       "    </tr>\n",
       "    <tr>\n",
       "      <th>std</th>\n",
       "      <td>2.756875</td>\n",
       "      <td>1.986315</td>\n",
       "      <td>1851.99293</td>\n",
       "      <td>5.750678</td>\n",
       "      <td>2.403932</td>\n",
       "      <td>155.785653</td>\n",
       "    </tr>\n",
       "    <tr>\n",
       "      <th>min</th>\n",
       "      <td>-3.388371</td>\n",
       "      <td>101.438309</td>\n",
       "      <td>0.50000</td>\n",
       "      <td>1999.000000</td>\n",
       "      <td>1.000000</td>\n",
       "      <td>1.000000</td>\n",
       "    </tr>\n",
       "    <tr>\n",
       "      <th>25%</th>\n",
       "      <td>-2.413668</td>\n",
       "      <td>102.140577</td>\n",
       "      <td>1.00000</td>\n",
       "      <td>2011.000000</td>\n",
       "      <td>4.000000</td>\n",
       "      <td>125.000000</td>\n",
       "    </tr>\n",
       "    <tr>\n",
       "      <th>50%</th>\n",
       "      <td>-1.438965</td>\n",
       "      <td>102.842845</td>\n",
       "      <td>1.00000</td>\n",
       "      <td>2017.000000</td>\n",
       "      <td>4.000000</td>\n",
       "      <td>130.000000</td>\n",
       "    </tr>\n",
       "    <tr>\n",
       "      <th>75%</th>\n",
       "      <td>-0.464263</td>\n",
       "      <td>103.545114</td>\n",
       "      <td>2.00000</td>\n",
       "      <td>2019.250000</td>\n",
       "      <td>7.000000</td>\n",
       "      <td>140.000000</td>\n",
       "    </tr>\n",
       "    <tr>\n",
       "      <th>max</th>\n",
       "      <td>0.510440</td>\n",
       "      <td>104.247382</td>\n",
       "      <td>10000.00000</td>\n",
       "      <td>2025.000000</td>\n",
       "      <td>12.000000</td>\n",
       "      <td>984.000000</td>\n",
       "    </tr>\n",
       "  </tbody>\n",
       "</table>\n",
       "</div>"
      ],
      "text/plain": [
       "       latitude   longitude  area_hectare  planted_year  planted_month  \\\n",
       "count  2.000000    2.000000     100.00000    100.000000     100.000000   \n",
       "mean  -1.438965  102.842845     527.27470   2015.980000       5.170000   \n",
       "std    2.756875    1.986315    1851.99293      5.750678       2.403932   \n",
       "min   -3.388371  101.438309       0.50000   1999.000000       1.000000   \n",
       "25%   -2.413668  102.140577       1.00000   2011.000000       4.000000   \n",
       "50%   -1.438965  102.842845       1.00000   2017.000000       4.000000   \n",
       "75%   -0.464263  103.545114       2.00000   2019.250000       7.000000   \n",
       "max    0.510440  104.247382   10000.00000   2025.000000      12.000000   \n",
       "\n",
       "       palm_trees_per_hectare  \n",
       "count               48.000000  \n",
       "mean               172.354167  \n",
       "std                155.785653  \n",
       "min                  1.000000  \n",
       "25%                125.000000  \n",
       "50%                130.000000  \n",
       "75%                140.000000  \n",
       "max                984.000000  "
      ]
     },
     "execution_count": 518,
     "metadata": {},
     "output_type": "execute_result"
    }
   ],
   "source": [
    "# show the statistics of the farm_df DataFrame\n",
    "farm_df.describe()  "
   ]
  },
  {
   "cell_type": "code",
   "execution_count": 519,
   "metadata": {},
   "outputs": [
    {
     "data": {
      "text/html": [
       "<div>\n",
       "<style scoped>\n",
       "    .dataframe tbody tr th:only-of-type {\n",
       "        vertical-align: middle;\n",
       "    }\n",
       "\n",
       "    .dataframe tbody tr th {\n",
       "        vertical-align: top;\n",
       "    }\n",
       "\n",
       "    .dataframe thead th {\n",
       "        text-align: right;\n",
       "    }\n",
       "</style>\n",
       "<table border=\"1\" class=\"dataframe\">\n",
       "  <thead>\n",
       "    <tr style=\"text-align: right;\">\n",
       "      <th></th>\n",
       "      <th>price</th>\n",
       "    </tr>\n",
       "  </thead>\n",
       "  <tbody>\n",
       "    <tr>\n",
       "      <th>count</th>\n",
       "      <td>4.100000e+01</td>\n",
       "    </tr>\n",
       "    <tr>\n",
       "      <th>mean</th>\n",
       "      <td>5.036619e+05</td>\n",
       "    </tr>\n",
       "    <tr>\n",
       "      <th>std</th>\n",
       "      <td>3.751362e+05</td>\n",
       "    </tr>\n",
       "    <tr>\n",
       "      <th>min</th>\n",
       "      <td>3.500000e+04</td>\n",
       "    </tr>\n",
       "    <tr>\n",
       "      <th>25%</th>\n",
       "      <td>1.364400e+05</td>\n",
       "    </tr>\n",
       "    <tr>\n",
       "      <th>50%</th>\n",
       "      <td>4.693000e+05</td>\n",
       "    </tr>\n",
       "    <tr>\n",
       "      <th>75%</th>\n",
       "      <td>7.600000e+05</td>\n",
       "    </tr>\n",
       "    <tr>\n",
       "      <th>max</th>\n",
       "      <td>1.399999e+06</td>\n",
       "    </tr>\n",
       "  </tbody>\n",
       "</table>\n",
       "</div>"
      ],
      "text/plain": [
       "              price\n",
       "count  4.100000e+01\n",
       "mean   5.036619e+05\n",
       "std    3.751362e+05\n",
       "min    3.500000e+04\n",
       "25%    1.364400e+05\n",
       "50%    4.693000e+05\n",
       "75%    7.600000e+05\n",
       "max    1.399999e+06"
      ]
     },
     "execution_count": 519,
     "metadata": {},
     "output_type": "execute_result"
    }
   ],
   "source": [
    "# show the statistics of the product_df DataFrame\n",
    "product_df.describe()"
   ]
  },
  {
   "cell_type": "code",
   "execution_count": 520,
   "metadata": {},
   "outputs": [
    {
     "data": {
      "text/html": [
       "<div>\n",
       "<style scoped>\n",
       "    .dataframe tbody tr th:only-of-type {\n",
       "        vertical-align: middle;\n",
       "    }\n",
       "\n",
       "    .dataframe tbody tr th {\n",
       "        vertical-align: top;\n",
       "    }\n",
       "\n",
       "    .dataframe thead th {\n",
       "        text-align: right;\n",
       "    }\n",
       "</style>\n",
       "<table border=\"1\" class=\"dataframe\">\n",
       "  <thead>\n",
       "    <tr style=\"text-align: right;\">\n",
       "      <th></th>\n",
       "      <th>total_item_price</th>\n",
       "      <th>created_at_utc0</th>\n",
       "    </tr>\n",
       "  </thead>\n",
       "  <tbody>\n",
       "    <tr>\n",
       "      <th>count</th>\n",
       "      <td>1.000000e+02</td>\n",
       "      <td>1.000000e+02</td>\n",
       "    </tr>\n",
       "    <tr>\n",
       "      <th>mean</th>\n",
       "      <td>3.592171e+07</td>\n",
       "      <td>1.743403e+12</td>\n",
       "    </tr>\n",
       "    <tr>\n",
       "      <th>std</th>\n",
       "      <td>5.983375e+07</td>\n",
       "      <td>1.224087e+09</td>\n",
       "    </tr>\n",
       "    <tr>\n",
       "      <th>min</th>\n",
       "      <td>3.500000e+04</td>\n",
       "      <td>1.741151e+12</td>\n",
       "    </tr>\n",
       "    <tr>\n",
       "      <th>25%</th>\n",
       "      <td>4.217062e+05</td>\n",
       "      <td>1.742289e+12</td>\n",
       "    </tr>\n",
       "    <tr>\n",
       "      <th>50%</th>\n",
       "      <td>3.967432e+06</td>\n",
       "      <td>1.744048e+12</td>\n",
       "    </tr>\n",
       "    <tr>\n",
       "      <th>75%</th>\n",
       "      <td>6.825500e+07</td>\n",
       "      <td>1.744348e+12</td>\n",
       "    </tr>\n",
       "    <tr>\n",
       "      <th>max</th>\n",
       "      <td>3.345000e+08</td>\n",
       "      <td>1.744879e+12</td>\n",
       "    </tr>\n",
       "  </tbody>\n",
       "</table>\n",
       "</div>"
      ],
      "text/plain": [
       "       total_item_price  created_at_utc0\n",
       "count      1.000000e+02     1.000000e+02\n",
       "mean       3.592171e+07     1.743403e+12\n",
       "std        5.983375e+07     1.224087e+09\n",
       "min        3.500000e+04     1.741151e+12\n",
       "25%        4.217062e+05     1.742289e+12\n",
       "50%        3.967432e+06     1.744048e+12\n",
       "75%        6.825500e+07     1.744348e+12\n",
       "max        3.345000e+08     1.744879e+12"
      ]
     },
     "execution_count": 520,
     "metadata": {},
     "output_type": "execute_result"
    }
   ],
   "source": [
    "# show the statistics of the so_df DataFrame\n",
    "so_df.describe()"
   ]
  },
  {
   "cell_type": "code",
   "execution_count": 521,
   "metadata": {},
   "outputs": [
    {
     "data": {
      "text/html": [
       "<div>\n",
       "<style scoped>\n",
       "    .dataframe tbody tr th:only-of-type {\n",
       "        vertical-align: middle;\n",
       "    }\n",
       "\n",
       "    .dataframe tbody tr th {\n",
       "        vertical-align: top;\n",
       "    }\n",
       "\n",
       "    .dataframe thead th {\n",
       "        text-align: right;\n",
       "    }\n",
       "</style>\n",
       "<table border=\"1\" class=\"dataframe\">\n",
       "  <thead>\n",
       "    <tr style=\"text-align: right;\">\n",
       "      <th></th>\n",
       "      <th>quantity</th>\n",
       "      <th>price</th>\n",
       "    </tr>\n",
       "  </thead>\n",
       "  <tbody>\n",
       "    <tr>\n",
       "      <th>count</th>\n",
       "      <td>116.000000</td>\n",
       "      <td>116.000000</td>\n",
       "    </tr>\n",
       "    <tr>\n",
       "      <th>mean</th>\n",
       "      <td>102.034483</td>\n",
       "      <td>292514.732759</td>\n",
       "    </tr>\n",
       "    <tr>\n",
       "      <th>std</th>\n",
       "      <td>177.234795</td>\n",
       "      <td>130034.019829</td>\n",
       "    </tr>\n",
       "    <tr>\n",
       "      <th>min</th>\n",
       "      <td>1.000000</td>\n",
       "      <td>35000.000000</td>\n",
       "    </tr>\n",
       "    <tr>\n",
       "      <th>25%</th>\n",
       "      <td>1.000000</td>\n",
       "      <td>218093.750000</td>\n",
       "    </tr>\n",
       "    <tr>\n",
       "      <th>50%</th>\n",
       "      <td>10.000000</td>\n",
       "      <td>332500.000000</td>\n",
       "    </tr>\n",
       "    <tr>\n",
       "      <th>75%</th>\n",
       "      <td>200.000000</td>\n",
       "      <td>366250.000000</td>\n",
       "    </tr>\n",
       "    <tr>\n",
       "      <th>max</th>\n",
       "      <td>1000.000000</td>\n",
       "      <td>688750.000000</td>\n",
       "    </tr>\n",
       "  </tbody>\n",
       "</table>\n",
       "</div>"
      ],
      "text/plain": [
       "          quantity          price\n",
       "count   116.000000     116.000000\n",
       "mean    102.034483  292514.732759\n",
       "std     177.234795  130034.019829\n",
       "min       1.000000   35000.000000\n",
       "25%       1.000000  218093.750000\n",
       "50%      10.000000  332500.000000\n",
       "75%     200.000000  366250.000000\n",
       "max    1000.000000  688750.000000"
      ]
     },
     "execution_count": 521,
     "metadata": {},
     "output_type": "execute_result"
    }
   ],
   "source": [
    "# show the statistics of the soi_df DataFrame\n",
    "soi_df.describe()"
   ]
  },
  {
   "cell_type": "code",
   "execution_count": 522,
   "metadata": {},
   "outputs": [
    {
     "data": {
      "text/html": [
       "<div>\n",
       "<style scoped>\n",
       "    .dataframe tbody tr th:only-of-type {\n",
       "        vertical-align: middle;\n",
       "    }\n",
       "\n",
       "    .dataframe tbody tr th {\n",
       "        vertical-align: top;\n",
       "    }\n",
       "\n",
       "    .dataframe thead th {\n",
       "        text-align: right;\n",
       "    }\n",
       "</style>\n",
       "<table border=\"1\" class=\"dataframe\">\n",
       "  <thead>\n",
       "    <tr style=\"text-align: right;\">\n",
       "      <th></th>\n",
       "      <th>feedback_id</th>\n",
       "      <th>sales_order_id</th>\n",
       "      <th>rating</th>\n",
       "      <th>comment</th>\n",
       "    </tr>\n",
       "  </thead>\n",
       "  <tbody>\n",
       "    <tr>\n",
       "      <th>count</th>\n",
       "      <td>41</td>\n",
       "      <td>41</td>\n",
       "      <td>41</td>\n",
       "      <td>41</td>\n",
       "    </tr>\n",
       "    <tr>\n",
       "      <th>unique</th>\n",
       "      <td>41</td>\n",
       "      <td>38</td>\n",
       "      <td>5</td>\n",
       "      <td>41</td>\n",
       "    </tr>\n",
       "    <tr>\n",
       "      <th>top</th>\n",
       "      <td>e4a7c3f1-2d9b-486e-90c5-1d6f8b7a5e3c</td>\n",
       "      <td>d20a9066-aed8-4082-98e6-7abc62b7bf78</td>\n",
       "      <td>5</td>\n",
       "      <td>Exceeded expectations in every way!</td>\n",
       "    </tr>\n",
       "    <tr>\n",
       "      <th>freq</th>\n",
       "      <td>1</td>\n",
       "      <td>3</td>\n",
       "      <td>11</td>\n",
       "      <td>1</td>\n",
       "    </tr>\n",
       "  </tbody>\n",
       "</table>\n",
       "</div>"
      ],
      "text/plain": [
       "                                 feedback_id  \\\n",
       "count                                     41   \n",
       "unique                                    41   \n",
       "top     e4a7c3f1-2d9b-486e-90c5-1d6f8b7a5e3c   \n",
       "freq                                       1   \n",
       "\n",
       "                              sales_order_id rating  \\\n",
       "count                                     41     41   \n",
       "unique                                    38      5   \n",
       "top     d20a9066-aed8-4082-98e6-7abc62b7bf78      5   \n",
       "freq                                       3     11   \n",
       "\n",
       "                                    comment  \n",
       "count                                    41  \n",
       "unique                                   41  \n",
       "top     Exceeded expectations in every way!  \n",
       "freq                                      1  "
      ]
     },
     "execution_count": 522,
     "metadata": {},
     "output_type": "execute_result"
    }
   ],
   "source": [
    "# show the statistics of the feedback_df DataFrame\n",
    "feedback_df.describe()"
   ]
  },
  {
   "cell_type": "code",
   "execution_count": 523,
   "metadata": {},
   "outputs": [
    {
     "data": {
      "text/html": [
       "<div>\n",
       "<style scoped>\n",
       "    .dataframe tbody tr th:only-of-type {\n",
       "        vertical-align: middle;\n",
       "    }\n",
       "\n",
       "    .dataframe tbody tr th {\n",
       "        vertical-align: top;\n",
       "    }\n",
       "\n",
       "    .dataframe thead th {\n",
       "        text-align: right;\n",
       "    }\n",
       "</style>\n",
       "<table border=\"1\" class=\"dataframe\">\n",
       "  <thead>\n",
       "    <tr style=\"text-align: right;\">\n",
       "      <th></th>\n",
       "      <th>prodct_clicks_id</th>\n",
       "      <th>product_id</th>\n",
       "      <th>timestamp</th>\n",
       "    </tr>\n",
       "  </thead>\n",
       "  <tbody>\n",
       "    <tr>\n",
       "      <th>count</th>\n",
       "      <td>41</td>\n",
       "      <td>41</td>\n",
       "      <td>41</td>\n",
       "    </tr>\n",
       "    <tr>\n",
       "      <th>unique</th>\n",
       "      <td>41</td>\n",
       "      <td>41</td>\n",
       "      <td>41</td>\n",
       "    </tr>\n",
       "    <tr>\n",
       "      <th>top</th>\n",
       "      <td>b9c8d7e6-f5a4-4b3c-92d1-e0f9a8b7c6d5</td>\n",
       "      <td>0bd2430a-6613-442a-9d5a-11d64cb095ae</td>\n",
       "      <td>2025/05/01 08:05:00</td>\n",
       "    </tr>\n",
       "    <tr>\n",
       "      <th>freq</th>\n",
       "      <td>1</td>\n",
       "      <td>1</td>\n",
       "      <td>1</td>\n",
       "    </tr>\n",
       "  </tbody>\n",
       "</table>\n",
       "</div>"
      ],
      "text/plain": [
       "                            prodct_clicks_id  \\\n",
       "count                                     41   \n",
       "unique                                    41   \n",
       "top     b9c8d7e6-f5a4-4b3c-92d1-e0f9a8b7c6d5   \n",
       "freq                                       1   \n",
       "\n",
       "                                  product_id            timestamp  \n",
       "count                                     41                   41  \n",
       "unique                                    41                   41  \n",
       "top     0bd2430a-6613-442a-9d5a-11d64cb095ae  2025/05/01 08:05:00  \n",
       "freq                                       1                    1  "
      ]
     },
     "execution_count": 523,
     "metadata": {},
     "output_type": "execute_result"
    }
   ],
   "source": [
    "# show the statistics of the product_clicks_df DataFrame\n",
    "product_clicks_df.describe()"
   ]
  },
  {
   "cell_type": "code",
   "execution_count": 524,
   "metadata": {},
   "outputs": [
    {
     "data": {
      "text/html": [
       "<div>\n",
       "<style scoped>\n",
       "    .dataframe tbody tr th:only-of-type {\n",
       "        vertical-align: middle;\n",
       "    }\n",
       "\n",
       "    .dataframe tbody tr th {\n",
       "        vertical-align: top;\n",
       "    }\n",
       "\n",
       "    .dataframe thead th {\n",
       "        text-align: right;\n",
       "    }\n",
       "</style>\n",
       "<table border=\"1\" class=\"dataframe\">\n",
       "  <thead>\n",
       "    <tr style=\"text-align: right;\">\n",
       "      <th></th>\n",
       "      <th>user_session_id</th>\n",
       "      <th>user_id</th>\n",
       "      <th>session_start</th>\n",
       "      <th>session_end</th>\n",
       "    </tr>\n",
       "  </thead>\n",
       "  <tbody>\n",
       "    <tr>\n",
       "      <th>count</th>\n",
       "      <td>41</td>\n",
       "      <td>41</td>\n",
       "      <td>41</td>\n",
       "      <td>41</td>\n",
       "    </tr>\n",
       "    <tr>\n",
       "      <th>unique</th>\n",
       "      <td>41</td>\n",
       "      <td>35</td>\n",
       "      <td>41</td>\n",
       "      <td>41</td>\n",
       "    </tr>\n",
       "    <tr>\n",
       "      <th>top</th>\n",
       "      <td>d20a9066-aed8-4082-98e6-7abc62b7bf78</td>\n",
       "      <td>444d489c-eabd-4e37-b21b-d11ebeb28f9b</td>\n",
       "      <td>2025/03/15 09:23:17</td>\n",
       "      <td>2025/03/15 10:47:32</td>\n",
       "    </tr>\n",
       "    <tr>\n",
       "      <th>freq</th>\n",
       "      <td>1</td>\n",
       "      <td>5</td>\n",
       "      <td>1</td>\n",
       "      <td>1</td>\n",
       "    </tr>\n",
       "  </tbody>\n",
       "</table>\n",
       "</div>"
      ],
      "text/plain": [
       "                             user_session_id  \\\n",
       "count                                     41   \n",
       "unique                                    41   \n",
       "top     d20a9066-aed8-4082-98e6-7abc62b7bf78   \n",
       "freq                                       1   \n",
       "\n",
       "                                     user_id        session_start  \\\n",
       "count                                     41                   41   \n",
       "unique                                    35                   41   \n",
       "top     444d489c-eabd-4e37-b21b-d11ebeb28f9b  2025/03/15 09:23:17   \n",
       "freq                                       5                    1   \n",
       "\n",
       "                session_end  \n",
       "count                    41  \n",
       "unique                   41  \n",
       "top     2025/03/15 10:47:32  \n",
       "freq                      1  "
      ]
     },
     "execution_count": 524,
     "metadata": {},
     "output_type": "execute_result"
    }
   ],
   "source": [
    "# show the statistics of the user_session_df DataFrame\n",
    "user_session_df.describe()"
   ]
  },
  {
   "cell_type": "code",
   "execution_count": 525,
   "metadata": {},
   "outputs": [
    {
     "data": {
      "text/plain": [
       "id                   0\n",
       "name                 0\n",
       "level_0              0\n",
       "level_1              0\n",
       "level_2              0\n",
       "level_3              0\n",
       "level_3_latitude     0\n",
       "level_3_longitude    0\n",
       "level_4              0\n",
       "level_4_latitude     0\n",
       "level_4_longitude    0\n",
       "dtype: int64"
      ]
     },
     "execution_count": 525,
     "metadata": {},
     "output_type": "execute_result"
    }
   ],
   "source": [
    "# show null values in the area_df DataFrame\n",
    "area_df.isnull().sum()"
   ]
  },
  {
   "cell_type": "code",
   "execution_count": 526,
   "metadata": {},
   "outputs": [
    {
     "data": {
      "text/plain": [
       "id                         0\n",
       "owner_id                   0\n",
       "area_id                    0\n",
       "latitude                  98\n",
       "longitude                 98\n",
       "area_hectare               0\n",
       "planted_year               0\n",
       "planted_month              0\n",
       "palm_trees_per_hectare    52\n",
       "soil_type                  0\n",
       "seed_type                 72\n",
       "dtype: int64"
      ]
     },
     "execution_count": 526,
     "metadata": {},
     "output_type": "execute_result"
    }
   ],
   "source": [
    "# show null values in the farm_df DataFrame\n",
    "farm_df.isnull().sum()"
   ]
  },
  {
   "cell_type": "code",
   "execution_count": 527,
   "metadata": {},
   "outputs": [
    {
     "data": {
      "image/png": "[encoded data removed]",
      "text/plain": [
       "<Figure size 2500x1000 with 2 Axes>"
      ]
     },
     "metadata": {},
     "output_type": "display_data"
    }
   ],
   "source": [
    "# show which rows contain missing values \n",
    "msno.matrix(farm_df)\n",
    "plt.show()"
   ]
  },
  {
   "cell_type": "code",
   "execution_count": 528,
   "metadata": {},
   "outputs": [
    {
     "data": {
      "text/plain": [
       "id                     0\n",
       "sku                    0\n",
       "type                   0\n",
       "unit_of_measurement    0\n",
       "name                   0\n",
       "price                  0\n",
       "description            0\n",
       "dtype: int64"
      ]
     },
     "execution_count": 528,
     "metadata": {},
     "output_type": "execute_result"
    }
   ],
   "source": [
    "# show null values in the product_df DataFrame\n",
    "product_df.isnull().sum()"
   ]
  },
  {
   "cell_type": "code",
   "execution_count": 529,
   "metadata": {},
   "outputs": [
    {
     "data": {
      "text/plain": [
       "id                  0\n",
       "user_id             0\n",
       "total_item_price    0\n",
       "created_at_utc0     0\n",
       "dtype: int64"
      ]
     },
     "execution_count": 529,
     "metadata": {},
     "output_type": "execute_result"
    }
   ],
   "source": [
    "# show null values in the so_df DataFrame\n",
    "so_df.isnull().sum()"
   ]
  },
  {
   "cell_type": "code",
   "execution_count": 530,
   "metadata": {},
   "outputs": [
    {
     "data": {
      "text/plain": [
       "id                               0\n",
       "sale_order_id                    0\n",
       "product_id                       0\n",
       "quantity                         0\n",
       "price                            0\n",
       "clicked_from_recommendation      0\n",
       "click_timestamp                116\n",
       "dtype: int64"
      ]
     },
     "execution_count": 530,
     "metadata": {},
     "output_type": "execute_result"
    }
   ],
   "source": [
    "# show null values in the soi_df DataFrame\n",
    "soi_df.isnull().sum()"
   ]
  },
  {
   "cell_type": "code",
   "execution_count": 531,
   "metadata": {},
   "outputs": [
    {
     "data": {
      "text/plain": [
       "feedback_id       0\n",
       "sales_order_id    0\n",
       "rating            0\n",
       "comment           0\n",
       "dtype: int64"
      ]
     },
     "execution_count": 531,
     "metadata": {},
     "output_type": "execute_result"
    }
   ],
   "source": [
    "# show null values in the feedback_df DataFrame\n",
    "feedback_df.isnull().sum()"
   ]
  },
  {
   "cell_type": "code",
   "execution_count": 532,
   "metadata": {},
   "outputs": [
    {
     "data": {
      "text/plain": [
       "prodct_clicks_id    0\n",
       "product_id          0\n",
       "timestamp           0\n",
       "dtype: int64"
      ]
     },
     "execution_count": 532,
     "metadata": {},
     "output_type": "execute_result"
    }
   ],
   "source": [
    "# show null values in the product_clicks_df DataFrame\n",
    "product_clicks_df.isnull().sum()"
   ]
  },
  {
   "cell_type": "code",
   "execution_count": 533,
   "metadata": {},
   "outputs": [
    {
     "data": {
      "text/plain": [
       "user_session_id    0\n",
       "user_id            0\n",
       "session_start      0\n",
       "session_end        0\n",
       "dtype: int64"
      ]
     },
     "execution_count": 533,
     "metadata": {},
     "output_type": "execute_result"
    }
   ],
   "source": [
    "# show null values in the user_session_df DataFrame\n",
    "user_session_df.isnull().sum()"
   ]
  },
  {
   "cell_type": "code",
   "execution_count": 534,
   "metadata": {},
   "outputs": [
    {
     "data": {
      "text/plain": [
       "id                   46\n",
       "name                 46\n",
       "level_0               1\n",
       "level_1              12\n",
       "level_2              27\n",
       "level_3              35\n",
       "level_3_latitude     35\n",
       "level_3_longitude    34\n",
       "level_4              46\n",
       "level_4_latitude     46\n",
       "level_4_longitude    45\n",
       "dtype: int64"
      ]
     },
     "execution_count": 534,
     "metadata": {},
     "output_type": "execute_result"
    }
   ],
   "source": [
    "# show the cardinality of the area_df DataFrame\n",
    "area_df.nunique()"
   ]
  },
  {
   "cell_type": "code",
   "execution_count": 535,
   "metadata": {},
   "outputs": [
    {
     "data": {
      "text/plain": [
       "id                        100\n",
       "owner_id                   97\n",
       "area_id                    46\n",
       "latitude                    2\n",
       "longitude                   2\n",
       "area_hectare               21\n",
       "planted_year               21\n",
       "planted_month              12\n",
       "palm_trees_per_hectare     18\n",
       "soil_type                   3\n",
       "seed_type                  10\n",
       "dtype: int64"
      ]
     },
     "execution_count": 535,
     "metadata": {},
     "output_type": "execute_result"
    }
   ],
   "source": [
    "# show the cardinality of the farm_df DataFrame\n",
    "farm_df.nunique()"
   ]
  },
  {
   "cell_type": "code",
   "execution_count": 536,
   "metadata": {},
   "outputs": [
    {
     "data": {
      "text/plain": [
       "id                     41\n",
       "sku                    41\n",
       "type                    3\n",
       "unit_of_measurement     2\n",
       "name                   41\n",
       "price                  41\n",
       "description            40\n",
       "dtype: int64"
      ]
     },
     "execution_count": 536,
     "metadata": {},
     "output_type": "execute_result"
    }
   ],
   "source": [
    "# show the cardinality of the product_df DataFrame\n",
    "product_df.nunique()"
   ]
  },
  {
   "cell_type": "code",
   "execution_count": 537,
   "metadata": {},
   "outputs": [
    {
     "data": {
      "text/plain": [
       "id                  100\n",
       "user_id              73\n",
       "total_item_price     89\n",
       "created_at_utc0     100\n",
       "dtype: int64"
      ]
     },
     "execution_count": 537,
     "metadata": {},
     "output_type": "execute_result"
    }
   ],
   "source": [
    "# show the cardinality of the so_df DataFrame\n",
    "so_df.nunique()"
   ]
  },
  {
   "cell_type": "code",
   "execution_count": 538,
   "metadata": {},
   "outputs": [
    {
     "data": {
      "text/plain": [
       "id                             116\n",
       "sale_order_id                  100\n",
       "product_id                      41\n",
       "quantity                        31\n",
       "price                           94\n",
       "clicked_from_recommendation      1\n",
       "click_timestamp                  0\n",
       "dtype: int64"
      ]
     },
     "execution_count": 538,
     "metadata": {},
     "output_type": "execute_result"
    }
   ],
   "source": [
    "# show the cardinality of the soi_df DataFrame\n",
    "soi_df.nunique()"
   ]
  },
  {
   "cell_type": "code",
   "execution_count": 539,
   "metadata": {},
   "outputs": [
    {
     "data": {
      "text/plain": [
       "feedback_id       41\n",
       "sales_order_id    38\n",
       "rating             5\n",
       "comment           41\n",
       "dtype: int64"
      ]
     },
     "execution_count": 539,
     "metadata": {},
     "output_type": "execute_result"
    }
   ],
   "source": [
    "# show the cardinality of the feedback_df DataFrame\n",
    "feedback_df.nunique()"
   ]
  },
  {
   "cell_type": "code",
   "execution_count": 540,
   "metadata": {},
   "outputs": [
    {
     "data": {
      "text/plain": [
       "prodct_clicks_id    41\n",
       "product_id          41\n",
       "timestamp           41\n",
       "dtype: int64"
      ]
     },
     "execution_count": 540,
     "metadata": {},
     "output_type": "execute_result"
    }
   ],
   "source": [
    "# show the cardinality of the product_clicks_df DataFrame\n",
    "product_clicks_df.nunique()"
   ]
  },
  {
   "cell_type": "code",
   "execution_count": 541,
   "metadata": {},
   "outputs": [
    {
     "data": {
      "text/plain": [
       "user_session_id    41\n",
       "user_id            35\n",
       "session_start      41\n",
       "session_end        41\n",
       "dtype: int64"
      ]
     },
     "execution_count": 541,
     "metadata": {},
     "output_type": "execute_result"
    }
   ],
   "source": [
    "# show the cardinality of the user_session_df DataFrame\n",
    "user_session_df.nunique()"
   ]
  },
  {
   "cell_type": "code",
   "execution_count": 542,
   "metadata": {},
   "outputs": [
    {
     "data": {
      "text/plain": [
       "0"
      ]
     },
     "execution_count": 542,
     "metadata": {},
     "output_type": "execute_result"
    }
   ],
   "source": [
    "# check duplicates in the area_df DataFrame\n",
    "area_df.duplicated().sum()  "
   ]
  },
  {
   "cell_type": "code",
   "execution_count": 543,
   "metadata": {},
   "outputs": [
    {
     "data": {
      "text/plain": [
       "0"
      ]
     },
     "execution_count": 543,
     "metadata": {},
     "output_type": "execute_result"
    }
   ],
   "source": [
    "# check duplicates in the farm_df DataFrame\n",
    "farm_df.duplicated().sum()  "
   ]
  },
  {
   "cell_type": "code",
   "execution_count": 544,
   "metadata": {},
   "outputs": [
    {
     "data": {
      "text/plain": [
       "0"
      ]
     },
     "execution_count": 544,
     "metadata": {},
     "output_type": "execute_result"
    }
   ],
   "source": [
    "# check duplicates in the product_df DataFrame\n",
    "product_df.duplicated().sum()"
   ]
  },
  {
   "cell_type": "code",
   "execution_count": 545,
   "metadata": {},
   "outputs": [
    {
     "data": {
      "text/plain": [
       "0"
      ]
     },
     "execution_count": 545,
     "metadata": {},
     "output_type": "execute_result"
    }
   ],
   "source": [
    "# check duplicates in the so_df DataFrame\n",
    "so_df.duplicated().sum()"
   ]
  },
  {
   "cell_type": "code",
   "execution_count": 546,
   "metadata": {},
   "outputs": [
    {
     "data": {
      "text/plain": [
       "0"
      ]
     },
     "execution_count": 546,
     "metadata": {},
     "output_type": "execute_result"
    }
   ],
   "source": [
    "# check duplicates in the soi_df DataFrame  \n",
    "soi_df.duplicated().sum()"
   ]
  },
  {
   "cell_type": "code",
   "execution_count": 547,
   "metadata": {},
   "outputs": [
    {
     "data": {
      "text/plain": [
       "0"
      ]
     },
     "execution_count": 547,
     "metadata": {},
     "output_type": "execute_result"
    }
   ],
   "source": [
    "# check duplicates in the feedback_df DataFrame\n",
    "feedback_df.duplicated().sum()"
   ]
  },
  {
   "cell_type": "code",
   "execution_count": 548,
   "metadata": {},
   "outputs": [
    {
     "data": {
      "text/plain": [
       "0"
      ]
     },
     "execution_count": 548,
     "metadata": {},
     "output_type": "execute_result"
    }
   ],
   "source": [
    "# check duplicates in the product_clicks_df DataFrame\n",
    "product_clicks_df.duplicated().sum()"
   ]
  },
  {
   "cell_type": "code",
   "execution_count": 549,
   "metadata": {},
   "outputs": [
    {
     "data": {
      "text/plain": [
       "0"
      ]
     },
     "execution_count": 549,
     "metadata": {},
     "output_type": "execute_result"
    }
   ],
   "source": [
    "# check duplicates in the user_session_df DataFrame\n",
    "user_session_df.duplicated().sum()"
   ]
  },
  {
   "cell_type": "markdown",
   "metadata": {},
   "source": [
    "### There are no duplicated rows for each table."
   ]
  },
  {
   "cell_type": "code",
   "execution_count": 550,
   "metadata": {},
   "outputs": [
    {
     "data": {
      "text/plain": [
       "array([[<Axes: title={'center': 'level_3_latitude'}>,\n",
       "        <Axes: title={'center': 'level_3_longitude'}>],\n",
       "       [<Axes: title={'center': 'level_4_latitude'}>,\n",
       "        <Axes: title={'center': 'level_4_longitude'}>]], dtype=object)"
      ]
     },
     "execution_count": 550,
     "metadata": {},
     "output_type": "execute_result"
    },
    {
     "data": {
      "image/png": "[encoded data removed]",
      "text/plain": [
       "<Figure size 1000x1000 with 4 Axes>"
      ]
     },
     "metadata": {},
     "output_type": "display_data"
    }
   ],
   "source": [
    "# plot histogram of the area_df DataFrame\n",
    "area_df.hist(figsize=(10, 10), bins=50)"
   ]
  },
  {
   "cell_type": "code",
   "execution_count": 551,
   "metadata": {},
   "outputs": [
    {
     "data": {
      "image/png": "[encoded data removed]",
      "text/plain": [
       "<Figure size 1000x1000 with 6 Axes>"
      ]
     },
     "metadata": {},
     "output_type": "display_data"
    }
   ],
   "source": [
    "# plot histogram of the farm_df DataFrame\n",
    "farm_df.hist(figsize=(10, 10), bins=50)\n",
    "plt.show()"
   ]
  },
  {
   "cell_type": "code",
   "execution_count": 552,
   "metadata": {},
   "outputs": [
    {
     "data": {
      "image/png": "[encoded data removed]",
      "text/plain": [
       "<Figure size 1000x1000 with 1 Axes>"
      ]
     },
     "metadata": {},
     "output_type": "display_data"
    }
   ],
   "source": [
    "# plot histogram of the product_df DataFrame\n",
    "product_df.hist(figsize=(10, 10), bins=50)\n",
    "plt.show()"
   ]
  },
  {
   "cell_type": "code",
   "execution_count": 553,
   "metadata": {},
   "outputs": [
    {
     "data": {
      "image/png": "[encoded data removed]",
      "text/plain": [
       "<Figure size 1000x1000 with 2 Axes>"
      ]
     },
     "metadata": {},
     "output_type": "display_data"
    }
   ],
   "source": [
    "# plot histogram of the so_df DataFrame\n",
    "so_df.hist(figsize=(10, 10), bins=50)\n",
    "plt.show()"
   ]
  },
  {
   "cell_type": "code",
   "execution_count": 554,
   "metadata": {},
   "outputs": [
    {
     "data": {
      "image/png": "[encoded data removed]",
      "text/plain": [
       "<Figure size 1000x1000 with 2 Axes>"
      ]
     },
     "metadata": {},
     "output_type": "display_data"
    }
   ],
   "source": [
    "# plot histogram of the soi_df DataFrame\n",
    "soi_df.hist(figsize=(10, 10), bins=50)\n",
    "plt.show()"
   ]
  },
  {
   "cell_type": "markdown",
   "metadata": {},
   "source": [
    "### Renaming of columns for easier interpretability"
   ]
  },
  {
   "cell_type": "code",
   "execution_count": 555,
   "metadata": {},
   "outputs": [
    {
     "data": {
      "text/plain": [
       "Index(['id', 'name', 'level_0', 'level_1', 'level_2', 'level_3',\n",
       "       'level_3_latitude', 'level_3_longitude', 'level_4', 'level_4_latitude',\n",
       "       'level_4_longitude'],\n",
       "      dtype='object')"
      ]
     },
     "execution_count": 555,
     "metadata": {},
     "output_type": "execute_result"
    }
   ],
   "source": [
    "area_df.columns"
   ]
  },
  {
   "cell_type": "code",
   "execution_count": 556,
   "metadata": {},
   "outputs": [
    {
     "data": {
      "text/plain": [
       "Index(['id', 'owner_id', 'area_id', 'latitude', 'longitude', 'area_hectare',\n",
       "       'planted_year', 'planted_month', 'palm_trees_per_hectare', 'soil_type',\n",
       "       'seed_type'],\n",
       "      dtype='object')"
      ]
     },
     "execution_count": 556,
     "metadata": {},
     "output_type": "execute_result"
    }
   ],
   "source": [
    "farm_df.columns"
   ]
  },
  {
   "cell_type": "code",
   "execution_count": 557,
   "metadata": {},
   "outputs": [
    {
     "data": {
      "text/plain": [
       "Index(['id', 'sale_order_id', 'product_id', 'quantity', 'price',\n",
       "       'clicked_from_recommendation', 'click_timestamp'],\n",
       "      dtype='object')"
      ]
     },
     "execution_count": 557,
     "metadata": {},
     "output_type": "execute_result"
    }
   ],
   "source": [
    "soi_df.columns"
   ]
  },
  {
   "cell_type": "code",
   "execution_count": 558,
   "metadata": {},
   "outputs": [
    {
     "data": {
      "text/plain": [
       "Index(['id', 'user_id', 'total_item_price', 'created_at_utc0'], dtype='object')"
      ]
     },
     "execution_count": 558,
     "metadata": {},
     "output_type": "execute_result"
    }
   ],
   "source": [
    "so_df.columns"
   ]
  },
  {
   "cell_type": "code",
   "execution_count": 559,
   "metadata": {},
   "outputs": [
    {
     "data": {
      "text/plain": [
       "Index(['id', 'sku', 'type', 'unit_of_measurement', 'name', 'price',\n",
       "       'description'],\n",
       "      dtype='object')"
      ]
     },
     "execution_count": 559,
     "metadata": {},
     "output_type": "execute_result"
    }
   ],
   "source": [
    "product_df.columns"
   ]
  },
  {
   "cell_type": "code",
   "execution_count": 560,
   "metadata": {},
   "outputs": [
    {
     "data": {
      "text/plain": [
       "Index(['area_id', 'name', 'level_0', 'level_1', 'level_2', 'level_3',\n",
       "       'level_3_latitude', 'level_3_longitude', 'level_4', 'level_4_latitude',\n",
       "       'level_4_longitude'],\n",
       "      dtype='object')"
      ]
     },
     "execution_count": 560,
     "metadata": {},
     "output_type": "execute_result"
    }
   ],
   "source": [
    "# rename area_df columns\n",
    "area_df.rename(columns={'id': 'area_id'}, inplace=True)\n",
    "area_df.columns"
   ]
  },
  {
   "cell_type": "code",
   "execution_count": 561,
   "metadata": {},
   "outputs": [
    {
     "data": {
      "text/plain": [
       "Index(['farm_id', 'owner_id', 'area_id', 'latitude', 'longitude',\n",
       "       'area_hectare', 'planted_year', 'planted_month',\n",
       "       'palm_trees_per_hectare', 'soil_type', 'seed_type'],\n",
       "      dtype='object')"
      ]
     },
     "execution_count": 561,
     "metadata": {},
     "output_type": "execute_result"
    }
   ],
   "source": [
    "# rename farm_df columns\n",
    "farm_df.rename(columns={'id': 'farm_id'}, inplace=True)\n",
    "farm_df.columns"
   ]
  },
  {
   "cell_type": "code",
   "execution_count": 562,
   "metadata": {},
   "outputs": [
    {
     "data": {
      "text/plain": [
       "Index(['product_id', 'sku', 'type', 'unit_of_measurement', 'name',\n",
       "       'product_price', 'description'],\n",
       "      dtype='object')"
      ]
     },
     "execution_count": 562,
     "metadata": {},
     "output_type": "execute_result"
    }
   ],
   "source": [
    "# rename product_df columns\n",
    "product_df.rename(columns={'id': 'product_id', 'price': 'product_price'}, inplace=True)\n",
    "product_df.columns"
   ]
  },
  {
   "cell_type": "code",
   "execution_count": 563,
   "metadata": {},
   "outputs": [
    {
     "data": {
      "text/plain": [
       "Index(['sale_order_item_id', 'sale_order_id', 'product_id', 'quantity',\n",
       "       'sale_order_item_price', 'clicked_from_recommendation',\n",
       "       'click_timestamp'],\n",
       "      dtype='object')"
      ]
     },
     "execution_count": 563,
     "metadata": {},
     "output_type": "execute_result"
    }
   ],
   "source": [
    "# rename soi_df columns\n",
    "soi_df.rename(columns={'id': 'sale_order_item_id', 'price': 'sale_order_item_price'}, inplace=True)\n",
    "soi_df.columns"
   ]
  },
  {
   "cell_type": "code",
   "execution_count": 564,
   "metadata": {},
   "outputs": [
    {
     "data": {
      "text/plain": [
       "Index(['sale_order_id', 'user_id', 'total_item_price', 'created_at_utc0'], dtype='object')"
      ]
     },
     "execution_count": 564,
     "metadata": {},
     "output_type": "execute_result"
    }
   ],
   "source": [
    "# rename so_df columns\n",
    "so_df.rename(columns={'id': 'sale_order_id'}, inplace=True)\n",
    "so_df.columns"
   ]
  },
  {
   "cell_type": "code",
   "execution_count": 565,
   "metadata": {},
   "outputs": [
    {
     "data": {
      "text/html": [
       "<div>\n",
       "<style scoped>\n",
       "    .dataframe tbody tr th:only-of-type {\n",
       "        vertical-align: middle;\n",
       "    }\n",
       "\n",
       "    .dataframe tbody tr th {\n",
       "        vertical-align: top;\n",
       "    }\n",
       "\n",
       "    .dataframe thead th {\n",
       "        text-align: right;\n",
       "    }\n",
       "</style>\n",
       "<table border=\"1\" class=\"dataframe\">\n",
       "  <thead>\n",
       "    <tr style=\"text-align: right;\">\n",
       "      <th></th>\n",
       "      <th>sale_order_id</th>\n",
       "      <th>user_id</th>\n",
       "      <th>total_item_price</th>\n",
       "      <th>created_at_utc0</th>\n",
       "      <th>created_at</th>\n",
       "    </tr>\n",
       "  </thead>\n",
       "  <tbody>\n",
       "    <tr>\n",
       "      <th>0</th>\n",
       "      <td>74be876e-f74b-4633-b403-e07fa9861943</td>\n",
       "      <td>9c605d36-9c37-4f1e-bac1-c87146fae1f0</td>\n",
       "      <td>102000000.0</td>\n",
       "      <td>1744879059936</td>\n",
       "      <td>2025-04-17 08:37:39.936</td>\n",
       "    </tr>\n",
       "    <tr>\n",
       "      <th>1</th>\n",
       "      <td>911a4c25-75d1-4f67-9a8a-40cb365b4cf0</td>\n",
       "      <td>49ad56f8-8d32-408f-9f88-36cad5310680</td>\n",
       "      <td>433200.0</td>\n",
       "      <td>1744875110464</td>\n",
       "      <td>2025-04-17 07:31:50.464</td>\n",
       "    </tr>\n",
       "    <tr>\n",
       "      <th>2</th>\n",
       "      <td>e5819416-6b56-4337-9271-dc2c701ac7bd</td>\n",
       "      <td>49ad56f8-8d32-408f-9f88-36cad5310680</td>\n",
       "      <td>1377500.0</td>\n",
       "      <td>1744874598061</td>\n",
       "      <td>2025-04-17 07:23:18.061</td>\n",
       "    </tr>\n",
       "    <tr>\n",
       "      <th>3</th>\n",
       "      <td>61e68625-9e6a-435d-9bdd-6c2187ca1817</td>\n",
       "      <td>49ad56f8-8d32-408f-9f88-36cad5310680</td>\n",
       "      <td>433200.0</td>\n",
       "      <td>1744868860328</td>\n",
       "      <td>2025-04-17 05:47:40.328</td>\n",
       "    </tr>\n",
       "    <tr>\n",
       "      <th>4</th>\n",
       "      <td>667698fd-6694-4b97-b7f3-e993f1cd7756</td>\n",
       "      <td>231e825c-16af-4695-bda8-91deb60777e5</td>\n",
       "      <td>50000.0</td>\n",
       "      <td>1744859221323</td>\n",
       "      <td>2025-04-17 03:07:01.323</td>\n",
       "    </tr>\n",
       "  </tbody>\n",
       "</table>\n",
       "</div>"
      ],
      "text/plain": [
       "                          sale_order_id                               user_id  \\\n",
       "0  74be876e-f74b-4633-b403-e07fa9861943  9c605d36-9c37-4f1e-bac1-c87146fae1f0   \n",
       "1  911a4c25-75d1-4f67-9a8a-40cb365b4cf0  49ad56f8-8d32-408f-9f88-36cad5310680   \n",
       "2  e5819416-6b56-4337-9271-dc2c701ac7bd  49ad56f8-8d32-408f-9f88-36cad5310680   \n",
       "3  61e68625-9e6a-435d-9bdd-6c2187ca1817  49ad56f8-8d32-408f-9f88-36cad5310680   \n",
       "4  667698fd-6694-4b97-b7f3-e993f1cd7756  231e825c-16af-4695-bda8-91deb60777e5   \n",
       "\n",
       "   total_item_price  created_at_utc0              created_at  \n",
       "0       102000000.0    1744879059936 2025-04-17 08:37:39.936  \n",
       "1          433200.0    1744875110464 2025-04-17 07:31:50.464  \n",
       "2         1377500.0    1744874598061 2025-04-17 07:23:18.061  \n",
       "3          433200.0    1744868860328 2025-04-17 05:47:40.328  \n",
       "4           50000.0    1744859221323 2025-04-17 03:07:01.323  "
      ]
     },
     "execution_count": 565,
     "metadata": {},
     "output_type": "execute_result"
    }
   ],
   "source": [
    "# Convert from milliseconds to datetime\n",
    "so_df['created_at'] = pd.to_datetime(so_df['created_at_utc0'], unit='ms')\n",
    "so_df.head()"
   ]
  },
  {
   "cell_type": "code",
   "execution_count": 566,
   "metadata": {},
   "outputs": [
    {
     "data": {
      "text/plain": [
       "(Timestamp('2025-03-05 05:02:26.062000'),\n",
       " Timestamp('2025-04-17 08:37:39.936000'))"
      ]
     },
     "execution_count": 566,
     "metadata": {},
     "output_type": "execute_result"
    }
   ],
   "source": [
    "# minmax date of created_at\n",
    "so_df['created_at'].min(), so_df['created_at'].max()"
   ]
  },
  {
   "cell_type": "markdown",
   "metadata": {},
   "source": [
    "### View cardinality of level variables "
   ]
  },
  {
   "cell_type": "code",
   "execution_count": 567,
   "metadata": {},
   "outputs": [
    {
     "data": {
      "text/plain": [
       "level_1\n",
       "Sumatera Utara               20\n",
       "Jambi                         9\n",
       "Aceh                          4\n",
       "Riau                          3\n",
       "Sumatera Selatan              2\n",
       "Kepulauan Bangka Belitung     2\n",
       "Sumatera Barat                1\n",
       "Bengkulu                      1\n",
       "Lampung                       1\n",
       "Dki Jakarta                   1\n",
       "Jawa Barat                    1\n",
       "Jawa Timur                    1\n",
       "Name: count, dtype: int64"
      ]
     },
     "execution_count": 567,
     "metadata": {},
     "output_type": "execute_result"
    }
   ],
   "source": [
    "# show values for area_df for level variables\n",
    "area_df['level_1'].value_counts()"
   ]
  },
  {
   "cell_type": "code",
   "execution_count": 568,
   "metadata": {},
   "outputs": [
    {
     "data": {
      "text/plain": [
       "level_2\n",
       "Langkat                    7\n",
       "Labuhan Batu Utara         5\n",
       "Bungo                      4\n",
       "Aceh Selatan               2\n",
       "Asahan                     2\n",
       "Bangka                     2\n",
       "Labuhan Batu Selatan       2\n",
       "Aceh Tenggara              2\n",
       "Muaro Jambi                2\n",
       "Sumedang                   1\n",
       "Kota Adm. Jakarta Barat    1\n",
       "Lampung Tengah             1\n",
       "Bengkulu Tengah            1\n",
       "Kota Prabumulih            1\n",
       "Ogan Komering Ulu          1\n",
       "Tebo                       1\n",
       "Kota Pekanbaru             1\n",
       "Tanjung Jabung Timur       1\n",
       "Batang Hari                1\n",
       "Rokan Hilir                1\n",
       "Kampar                     1\n",
       "Sijunjung                  1\n",
       "Labuhanbatu Utara          1\n",
       "Padang Lawas Utara         1\n",
       "Labuhan Batu               1\n",
       "Deli Serdang               1\n",
       "Sumenep                    1\n",
       "Name: count, dtype: int64"
      ]
     },
     "execution_count": 568,
     "metadata": {},
     "output_type": "execute_result"
    }
   ],
   "source": [
    "area_df['level_2'].value_counts()"
   ]
  },
  {
   "cell_type": "code",
   "execution_count": 569,
   "metadata": {},
   "outputs": [
    {
     "data": {
      "text/plain": [
       "level_3\n",
       "Marbau                     4\n",
       "Pelepat Ilir               3\n",
       "Bahorok                    3\n",
       "Sawit Seberang             3\n",
       "Jambi Luar Kota            2\n",
       "Silangkitang               2\n",
       "Kedaton Peninjauan Raya    1\n",
       "Mendahara Ulu              1\n",
       "Bungo Dani                 1\n",
       "Tebo Tengah                1\n",
       "Kluet Selatan              1\n",
       "Cambai                     1\n",
       "Muara Tembesi              1\n",
       "Seputih Banyak             1\n",
       "Mendo Barat                1\n",
       "Puding Besar               1\n",
       "Kebon Jeruk                1\n",
       "Wado                       1\n",
       "Pematang Tiga              1\n",
       "Kampa                      1\n",
       "Limapuluh                  1\n",
       "Rantau Kopar               1\n",
       "Kluet Timur                1\n",
       "Sumpur Kudus               1\n",
       "Kualuh Hilir               1\n",
       "Kualuh Hulu                1\n",
       "Simangambat                1\n",
       "Bilah Hulu                 1\n",
       "Aek Songsongan             1\n",
       "Aek Kuasan                 1\n",
       "Hamparan Perak             1\n",
       "Binjai                     1\n",
       "Bambel                     1\n",
       "Lawe Sigala-Gala           1\n",
       "Saronggi                   1\n",
       "Name: count, dtype: int64"
      ]
     },
     "execution_count": 569,
     "metadata": {},
     "output_type": "execute_result"
    }
   ],
   "source": [
    "area_df['level_3'].value_counts()"
   ]
  },
  {
   "cell_type": "code",
   "execution_count": 570,
   "metadata": {},
   "outputs": [
    {
     "data": {
      "text/plain": [
       "level_4\n",
       "Ujung Pasir             1\n",
       "Kuning Gading           1\n",
       "Pulau Birandang         1\n",
       "Rantau Kopar            1\n",
       "Tanjung Rhu             1\n",
       "Pasar Muara Tembesi     1\n",
       "Pijoan                  1\n",
       "Mendalo Darat           1\n",
       "Simpang Tuan            1\n",
       "Daya Murni              1\n",
       "Tirta Mulia             1\n",
       "Sungai Pinang           1\n",
       "Pucuk Lembang           1\n",
       "Muara Tebo              1\n",
       "Bunglai                 1\n",
       "Muara Sungai            1\n",
       "Senabah                 1\n",
       "Setia Bumi              1\n",
       "Kemuja                  1\n",
       "Tanah Bawah             1\n",
       "Kebon Jeruk             1\n",
       "Wado                    1\n",
       "Sisawah                 1\n",
       "Sumber Mulyo            1\n",
       "Belongkut               1\n",
       "Sipare Pare Tengah      1\n",
       "Suka Maju               1\n",
       "Terutung Seperai        1\n",
       "Lau Damak               1\n",
       "Timbang Lawan           1\n",
       "Simpang Pulo Rambung    1\n",
       "Sukamakmur              1\n",
       "Sawit Seberang          1\n",
       "Sawit Hulu              1\n",
       "Mekar Sawit             1\n",
       "Kota Datar              1\n",
       "Rawa Sari               1\n",
       "Lobu Rappa              1\n",
       "Lingga Tiga             1\n",
       "Kosik Putih             1\n",
       "Binanga Dua             1\n",
       "Aek Goti                1\n",
       "Pulo Dogom              1\n",
       "Sei Apung               1\n",
       "Pulo Bargot             1\n",
       "Pagarbatu               1\n",
       "Name: count, dtype: int64"
      ]
     },
     "execution_count": 570,
     "metadata": {},
     "output_type": "execute_result"
    }
   ],
   "source": [
    "area_df['level_4'].value_counts()"
   ]
  },
  {
   "cell_type": "markdown",
   "metadata": {},
   "source": [
    "### Merging of Dataframes"
   ]
  },
  {
   "cell_type": "code",
   "execution_count": 571,
   "metadata": {},
   "outputs": [
    {
     "data": {
      "text/html": [
       "<div>\n",
       "<style scoped>\n",
       "    .dataframe tbody tr th:only-of-type {\n",
       "        vertical-align: middle;\n",
       "    }\n",
       "\n",
       "    .dataframe tbody tr th {\n",
       "        vertical-align: top;\n",
       "    }\n",
       "\n",
       "    .dataframe thead th {\n",
       "        text-align: right;\n",
       "    }\n",
       "</style>\n",
       "<table border=\"1\" class=\"dataframe\">\n",
       "  <thead>\n",
       "    <tr style=\"text-align: right;\">\n",
       "      <th></th>\n",
       "      <th>sale_order_item_id</th>\n",
       "      <th>sale_order_id</th>\n",
       "      <th>product_id</th>\n",
       "      <th>quantity</th>\n",
       "      <th>sale_order_item_price</th>\n",
       "      <th>clicked_from_recommendation</th>\n",
       "      <th>click_timestamp</th>\n",
       "      <th>user_id</th>\n",
       "      <th>total_item_price</th>\n",
       "      <th>created_at_utc0</th>\n",
       "      <th>created_at</th>\n",
       "    </tr>\n",
       "  </thead>\n",
       "  <tbody>\n",
       "    <tr>\n",
       "      <th>0</th>\n",
       "      <td>d4dc9c06-177e-494c-ba72-7e2954ce8ced</td>\n",
       "      <td>3ddca641-cb59-4a27-8698-cb16ff2932f2</td>\n",
       "      <td>80957603-6cec-4f63-8dcd-aba6ded5cbdd</td>\n",
       "      <td>200</td>\n",
       "      <td>326000.0</td>\n",
       "      <td>False</td>\n",
       "      <td>None</td>\n",
       "      <td>13f5223e-f04a-4fa8-9ef2-cf36060f0d6d</td>\n",
       "      <td>90200000.0</td>\n",
       "      <td>1744078798583</td>\n",
       "      <td>2025-04-08 02:19:58.583</td>\n",
       "    </tr>\n",
       "    <tr>\n",
       "      <th>1</th>\n",
       "      <td>7eefa7db-26bf-4a8b-b207-f44a52ed0aba</td>\n",
       "      <td>3ddca641-cb59-4a27-8698-cb16ff2932f2</td>\n",
       "      <td>b53ce31c-3789-42d7-96a0-5fe058cac7a5</td>\n",
       "      <td>200</td>\n",
       "      <td>125000.0</td>\n",
       "      <td>False</td>\n",
       "      <td>None</td>\n",
       "      <td>13f5223e-f04a-4fa8-9ef2-cf36060f0d6d</td>\n",
       "      <td>90200000.0</td>\n",
       "      <td>1744078798583</td>\n",
       "      <td>2025-04-08 02:19:58.583</td>\n",
       "    </tr>\n",
       "    <tr>\n",
       "      <th>2</th>\n",
       "      <td>e9b32dc3-4e0f-4a69-bb3d-c7f11277f97f</td>\n",
       "      <td>787bc8b7-e679-4772-be5d-af4afac9adf5</td>\n",
       "      <td>5952d124-7dc6-4a6a-baa2-e2e502ecd6fe</td>\n",
       "      <td>1</td>\n",
       "      <td>109000.0</td>\n",
       "      <td>False</td>\n",
       "      <td>None</td>\n",
       "      <td>1e75f22f-b609-4ebc-9536-4a26aef73302</td>\n",
       "      <td>109000.0</td>\n",
       "      <td>1744182202966</td>\n",
       "      <td>2025-04-09 07:03:22.966</td>\n",
       "    </tr>\n",
       "    <tr>\n",
       "      <th>3</th>\n",
       "      <td>86a41dec-9936-4c8f-9150-e8b367a4959f</td>\n",
       "      <td>4d47dd32-1618-4376-a846-66bcf065e173</td>\n",
       "      <td>0bd2430a-6613-442a-9d5a-11d64cb095ae</td>\n",
       "      <td>1</td>\n",
       "      <td>65000.0</td>\n",
       "      <td>False</td>\n",
       "      <td>None</td>\n",
       "      <td>344963f8-9a3a-4de3-b3a9-c8716fa37c0e</td>\n",
       "      <td>65000.0</td>\n",
       "      <td>1742438712361</td>\n",
       "      <td>2025-03-20 02:45:12.361</td>\n",
       "    </tr>\n",
       "    <tr>\n",
       "      <th>4</th>\n",
       "      <td>61cf5f3f-2a24-4080-bc4f-50af3506479d</td>\n",
       "      <td>e5819416-6b56-4337-9271-dc2c701ac7bd</td>\n",
       "      <td>80957603-6cec-4f63-8dcd-aba6ded5cbdd</td>\n",
       "      <td>2</td>\n",
       "      <td>688750.0</td>\n",
       "      <td>False</td>\n",
       "      <td>None</td>\n",
       "      <td>49ad56f8-8d32-408f-9f88-36cad5310680</td>\n",
       "      <td>1377500.0</td>\n",
       "      <td>1744874598061</td>\n",
       "      <td>2025-04-17 07:23:18.061</td>\n",
       "    </tr>\n",
       "  </tbody>\n",
       "</table>\n",
       "</div>"
      ],
      "text/plain": [
       "                     sale_order_item_id                         sale_order_id  \\\n",
       "0  d4dc9c06-177e-494c-ba72-7e2954ce8ced  3ddca641-cb59-4a27-8698-cb16ff2932f2   \n",
       "1  7eefa7db-26bf-4a8b-b207-f44a52ed0aba  3ddca641-cb59-4a27-8698-cb16ff2932f2   \n",
       "2  e9b32dc3-4e0f-4a69-bb3d-c7f11277f97f  787bc8b7-e679-4772-be5d-af4afac9adf5   \n",
       "3  86a41dec-9936-4c8f-9150-e8b367a4959f  4d47dd32-1618-4376-a846-66bcf065e173   \n",
       "4  61cf5f3f-2a24-4080-bc4f-50af3506479d  e5819416-6b56-4337-9271-dc2c701ac7bd   \n",
       "\n",
       "                             product_id  quantity  sale_order_item_price  \\\n",
       "0  80957603-6cec-4f63-8dcd-aba6ded5cbdd       200               326000.0   \n",
       "1  b53ce31c-3789-42d7-96a0-5fe058cac7a5       200               125000.0   \n",
       "2  5952d124-7dc6-4a6a-baa2-e2e502ecd6fe         1               109000.0   \n",
       "3  0bd2430a-6613-442a-9d5a-11d64cb095ae         1                65000.0   \n",
       "4  80957603-6cec-4f63-8dcd-aba6ded5cbdd         2               688750.0   \n",
       "\n",
       "   clicked_from_recommendation click_timestamp  \\\n",
       "0                        False            None   \n",
       "1                        False            None   \n",
       "2                        False            None   \n",
       "3                        False            None   \n",
       "4                        False            None   \n",
       "\n",
       "                                user_id  total_item_price  created_at_utc0  \\\n",
       "0  13f5223e-f04a-4fa8-9ef2-cf36060f0d6d        90200000.0    1744078798583   \n",
       "1  13f5223e-f04a-4fa8-9ef2-cf36060f0d6d        90200000.0    1744078798583   \n",
       "2  1e75f22f-b609-4ebc-9536-4a26aef73302          109000.0    1744182202966   \n",
       "3  344963f8-9a3a-4de3-b3a9-c8716fa37c0e           65000.0    1742438712361   \n",
       "4  49ad56f8-8d32-408f-9f88-36cad5310680         1377500.0    1744874598061   \n",
       "\n",
       "               created_at  \n",
       "0 2025-04-08 02:19:58.583  \n",
       "1 2025-04-08 02:19:58.583  \n",
       "2 2025-04-09 07:03:22.966  \n",
       "3 2025-03-20 02:45:12.361  \n",
       "4 2025-04-17 07:23:18.061  "
      ]
     },
     "execution_count": 571,
     "metadata": {},
     "output_type": "execute_result"
    }
   ],
   "source": [
    "merged_data = soi_df.merge(so_df, on='sale_order_id')\n",
    "merged_data.head()"
   ]
  },
  {
   "cell_type": "code",
   "execution_count": 572,
   "metadata": {},
   "outputs": [
    {
     "data": {
      "text/html": [
       "<div>\n",
       "<style scoped>\n",
       "    .dataframe tbody tr th:only-of-type {\n",
       "        vertical-align: middle;\n",
       "    }\n",
       "\n",
       "    .dataframe tbody tr th {\n",
       "        vertical-align: top;\n",
       "    }\n",
       "\n",
       "    .dataframe thead th {\n",
       "        text-align: right;\n",
       "    }\n",
       "</style>\n",
       "<table border=\"1\" class=\"dataframe\">\n",
       "  <thead>\n",
       "    <tr style=\"text-align: right;\">\n",
       "      <th></th>\n",
       "      <th>sale_order_item_id</th>\n",
       "      <th>sale_order_id</th>\n",
       "      <th>product_id</th>\n",
       "      <th>quantity</th>\n",
       "      <th>sale_order_item_price</th>\n",
       "      <th>clicked_from_recommendation</th>\n",
       "      <th>click_timestamp</th>\n",
       "      <th>user_id</th>\n",
       "      <th>total_item_price</th>\n",
       "      <th>created_at_utc0</th>\n",
       "      <th>created_at</th>\n",
       "      <th>sku</th>\n",
       "      <th>type</th>\n",
       "      <th>unit_of_measurement</th>\n",
       "      <th>name</th>\n",
       "      <th>product_price</th>\n",
       "      <th>description</th>\n",
       "    </tr>\n",
       "  </thead>\n",
       "  <tbody>\n",
       "    <tr>\n",
       "      <th>0</th>\n",
       "      <td>d4dc9c06-177e-494c-ba72-7e2954ce8ced</td>\n",
       "      <td>3ddca641-cb59-4a27-8698-cb16ff2932f2</td>\n",
       "      <td>80957603-6cec-4f63-8dcd-aba6ded5cbdd</td>\n",
       "      <td>200</td>\n",
       "      <td>326000.0</td>\n",
       "      <td>False</td>\n",
       "      <td>None</td>\n",
       "      <td>13f5223e-f04a-4fa8-9ef2-cf36060f0d6d</td>\n",
       "      <td>90200000.0</td>\n",
       "      <td>1744078798583</td>\n",
       "      <td>2025-04-08 02:19:58.583</td>\n",
       "      <td>101110501601</td>\n",
       "      <td>GOODS</td>\n",
       "      <td>kg</td>\n",
       "      <td>MOP/KCL Canada Cap Mahkota 50kg</td>\n",
       "      <td>712500.0</td>\n",
       "      <td>Pupuk MOP/KCL untuk meningkatkan Kualitas dan Kuantitas Buah. &lt;p&gt;&lt;strong&gt;&lt;em&gt;&lt;u&gt;Deskripsi&lt;/u&gt;&lt;/em&gt;&lt;/strong&gt;&lt;/p&gt;&lt;p&gt;&lt;br&gt;&lt;/p&gt;&lt;p&gt;Pupuk MOP/KCL Mahkota mengandung kalium (K2O) minimal 60% dan berguna untuk membantu meningkatkan hasil dan kualitas panen. Pupuk ini juga mengoptimalkan penyerapan unsur hara lainnya dan meningkatkan ketahanan tanaman terhadap hama dan penyakit. Penggunaan KCL sangat penting untuk tanaman tahunan yang membutuhkan kalium tinggi.&lt;/p&gt;&lt;p&gt;&lt;br&gt;&lt;/p&gt;&lt;p&gt;&lt;strong&gt;&lt;em&gt;&lt;u&gt;Manfaat &lt;/u&gt;&lt;/em&gt;&lt;/strong&gt;&lt;/p&gt;&lt;p&gt;Pupuk kalium oksida (K2O) meningkatkan pertumbuhan dan hasil tanaman dengan menyuplai kalium yang penting untuk daya tahan tanaman terhadap stres, serta mendukung pembentukan buah, bunga, dan umbi. Pupuk ini juga memperbaiki kualitas hasil panen dan efisiensi penggunaan air serta nutrisi, menjadikannya bermanfaat untuk tanaman yang membutuhkan kalium tinggi, seperti padi, jagung, dan tanaman hortikultura.&lt;/p&gt;&lt;p&gt;&lt;br&gt;&lt;/p&gt;&lt;p&gt;&lt;strong&gt;&lt;em&gt;&lt;u&gt;Kandungan dan Spesifikasi &lt;/u&gt;&lt;/em&gt;&lt;/strong&gt;&lt;/p&gt;&lt;p&gt;&lt;br&gt;&lt;/p&gt;&lt;p&gt;Kalium oksida 60%&lt;/p&gt;&lt;p&gt;Bentuk / Warna: Kristal / Dominan merah&lt;/p&gt;&lt;p&gt;&lt;br&gt;&lt;/p&gt;&lt;p&gt;&lt;strong&gt;&lt;em&gt;&lt;u&gt;Produk Teruji Lab?&lt;/u&gt; &lt;/em&gt;&lt;/strong&gt;Ya&lt;/p&gt;</td>\n",
       "    </tr>\n",
       "    <tr>\n",
       "      <th>1</th>\n",
       "      <td>7eefa7db-26bf-4a8b-b207-f44a52ed0aba</td>\n",
       "      <td>3ddca641-cb59-4a27-8698-cb16ff2932f2</td>\n",
       "      <td>b53ce31c-3789-42d7-96a0-5fe058cac7a5</td>\n",
       "      <td>200</td>\n",
       "      <td>125000.0</td>\n",
       "      <td>False</td>\n",
       "      <td>None</td>\n",
       "      <td>13f5223e-f04a-4fa8-9ef2-cf36060f0d6d</td>\n",
       "      <td>90200000.0</td>\n",
       "      <td>1744078798583</td>\n",
       "      <td>2025-04-08 02:19:58.583</td>\n",
       "      <td>101110502101</td>\n",
       "      <td>GOODS</td>\n",
       "      <td>kg</td>\n",
       "      <td>RP Mahkota 50kg - Egypt</td>\n",
       "      <td>352688.0</td>\n",
       "      <td>Rock Phosphate (RP) adalah salah satu sumber fosfat terbaik di dunia yang diolah secara efisien tanpa proses kimia. &lt;p&gt;&lt;strong&gt;Deskripsi&lt;/strong&gt;&lt;/p&gt;&lt;p&gt;&lt;br&gt;&lt;/p&gt;&lt;p&gt;Pupuk RP Mesir adalah pupuk yang diproses dari bahan baku galian yang mengandung mineral kalsium fosfat, yang berasal dari batuan yang diolah menjadi bubuk (powder) untuk digunakan langsung dalam pertanian. Pupuk ini dapat diterapkan dalam bentuk bubuk, butiran, atau granular.&lt;/p&gt;&lt;p&gt;&lt;br&gt;&lt;/p&gt;&lt;p&gt;&lt;strong&gt;Manfaat&lt;/strong&gt;&lt;/p&gt;&lt;p&gt;&lt;br&gt;&lt;/p&gt;&lt;p&gt;Memberikan unsur fosfor alami yang dibutuhkan tanaman, mendukung perkembangan akar dan batang, meningkatkan kualitas akar serta batang tanaman, memperbaiki kemampuan tanaman dalam menyerap air dan nutrisi, serta melindungi tanaman dari serangan hama.&lt;/p&gt;&lt;p&gt;&lt;br&gt;&lt;/p&gt;&lt;p&gt;&lt;strong&gt;Kandungan dan Spesifikasi&lt;/strong&gt;&lt;/p&gt;&lt;p&gt;&lt;br&gt;&lt;/p&gt;&lt;p&gt;Fosfor pentoksida 26-28%&lt;/p&gt;&lt;p&gt;&lt;br&gt;&lt;/p&gt;&lt;p&gt;&lt;strong&gt;Produk Teruji Lab?&lt;/strong&gt; Ya&lt;/p&gt;</td>\n",
       "    </tr>\n",
       "    <tr>\n",
       "      <th>2</th>\n",
       "      <td>e9b32dc3-4e0f-4a69-bb3d-c7f11277f97f</td>\n",
       "      <td>787bc8b7-e679-4772-be5d-af4afac9adf5</td>\n",
       "      <td>5952d124-7dc6-4a6a-baa2-e2e502ecd6fe</td>\n",
       "      <td>1</td>\n",
       "      <td>109000.0</td>\n",
       "      <td>False</td>\n",
       "      <td>None</td>\n",
       "      <td>1e75f22f-b609-4ebc-9536-4a26aef73302</td>\n",
       "      <td>109000.0</td>\n",
       "      <td>1744182202966</td>\n",
       "      <td>2025-04-09 07:03:22.966</td>\n",
       "      <td>TUP/PLN/100</td>\n",
       "      <td>DIGITAL</td>\n",
       "      <td></td>\n",
       "      <td>Token PLN 100.000</td>\n",
       "      <td>109000.0</td>\n",
       "      <td>Topup PLN 100.000 Topup PLN 100.000</td>\n",
       "    </tr>\n",
       "    <tr>\n",
       "      <th>3</th>\n",
       "      <td>86a41dec-9936-4c8f-9150-e8b367a4959f</td>\n",
       "      <td>4d47dd32-1618-4376-a846-66bcf065e173</td>\n",
       "      <td>0bd2430a-6613-442a-9d5a-11d64cb095ae</td>\n",
       "      <td>1</td>\n",
       "      <td>65000.0</td>\n",
       "      <td>False</td>\n",
       "      <td>None</td>\n",
       "      <td>344963f8-9a3a-4de3-b3a9-c8716fa37c0e</td>\n",
       "      <td>65000.0</td>\n",
       "      <td>1742438712361</td>\n",
       "      <td>2025-03-20 02:45:12.361</td>\n",
       "      <td>MERCH-SAWITPRO-SHIRT-02</td>\n",
       "      <td>GOODS</td>\n",
       "      <td>kg</td>\n",
       "      <td>Kaos SIBRONDOL SawitPRO size XL</td>\n",
       "      <td>100000.0</td>\n",
       "      <td>&lt;p&gt;Kaos tidak berkerah warna Putih bertuliskan \"Sibrondol SawitPRO\".&lt;/p&gt;&lt;p&gt;Ukuran All-size (XL)&lt;/p&gt;</td>\n",
       "    </tr>\n",
       "    <tr>\n",
       "      <th>4</th>\n",
       "      <td>61cf5f3f-2a24-4080-bc4f-50af3506479d</td>\n",
       "      <td>e5819416-6b56-4337-9271-dc2c701ac7bd</td>\n",
       "      <td>80957603-6cec-4f63-8dcd-aba6ded5cbdd</td>\n",
       "      <td>2</td>\n",
       "      <td>688750.0</td>\n",
       "      <td>False</td>\n",
       "      <td>None</td>\n",
       "      <td>49ad56f8-8d32-408f-9f88-36cad5310680</td>\n",
       "      <td>1377500.0</td>\n",
       "      <td>1744874598061</td>\n",
       "      <td>2025-04-17 07:23:18.061</td>\n",
       "      <td>101110501601</td>\n",
       "      <td>GOODS</td>\n",
       "      <td>kg</td>\n",
       "      <td>MOP/KCL Canada Cap Mahkota 50kg</td>\n",
       "      <td>712500.0</td>\n",
       "      <td>Pupuk MOP/KCL untuk meningkatkan Kualitas dan Kuantitas Buah. &lt;p&gt;&lt;strong&gt;&lt;em&gt;&lt;u&gt;Deskripsi&lt;/u&gt;&lt;/em&gt;&lt;/strong&gt;&lt;/p&gt;&lt;p&gt;&lt;br&gt;&lt;/p&gt;&lt;p&gt;Pupuk MOP/KCL Mahkota mengandung kalium (K2O) minimal 60% dan berguna untuk membantu meningkatkan hasil dan kualitas panen. Pupuk ini juga mengoptimalkan penyerapan unsur hara lainnya dan meningkatkan ketahanan tanaman terhadap hama dan penyakit. Penggunaan KCL sangat penting untuk tanaman tahunan yang membutuhkan kalium tinggi.&lt;/p&gt;&lt;p&gt;&lt;br&gt;&lt;/p&gt;&lt;p&gt;&lt;strong&gt;&lt;em&gt;&lt;u&gt;Manfaat &lt;/u&gt;&lt;/em&gt;&lt;/strong&gt;&lt;/p&gt;&lt;p&gt;Pupuk kalium oksida (K2O) meningkatkan pertumbuhan dan hasil tanaman dengan menyuplai kalium yang penting untuk daya tahan tanaman terhadap stres, serta mendukung pembentukan buah, bunga, dan umbi. Pupuk ini juga memperbaiki kualitas hasil panen dan efisiensi penggunaan air serta nutrisi, menjadikannya bermanfaat untuk tanaman yang membutuhkan kalium tinggi, seperti padi, jagung, dan tanaman hortikultura.&lt;/p&gt;&lt;p&gt;&lt;br&gt;&lt;/p&gt;&lt;p&gt;&lt;strong&gt;&lt;em&gt;&lt;u&gt;Kandungan dan Spesifikasi &lt;/u&gt;&lt;/em&gt;&lt;/strong&gt;&lt;/p&gt;&lt;p&gt;&lt;br&gt;&lt;/p&gt;&lt;p&gt;Kalium oksida 60%&lt;/p&gt;&lt;p&gt;Bentuk / Warna: Kristal / Dominan merah&lt;/p&gt;&lt;p&gt;&lt;br&gt;&lt;/p&gt;&lt;p&gt;&lt;strong&gt;&lt;em&gt;&lt;u&gt;Produk Teruji Lab?&lt;/u&gt; &lt;/em&gt;&lt;/strong&gt;Ya&lt;/p&gt;</td>\n",
       "    </tr>\n",
       "  </tbody>\n",
       "</table>\n",
       "</div>"
      ],
      "text/plain": [
       "                     sale_order_item_id                         sale_order_id  \\\n",
       "0  d4dc9c06-177e-494c-ba72-7e2954ce8ced  3ddca641-cb59-4a27-8698-cb16ff2932f2   \n",
       "1  7eefa7db-26bf-4a8b-b207-f44a52ed0aba  3ddca641-cb59-4a27-8698-cb16ff2932f2   \n",
       "2  e9b32dc3-4e0f-4a69-bb3d-c7f11277f97f  787bc8b7-e679-4772-be5d-af4afac9adf5   \n",
       "3  86a41dec-9936-4c8f-9150-e8b367a4959f  4d47dd32-1618-4376-a846-66bcf065e173   \n",
       "4  61cf5f3f-2a24-4080-bc4f-50af3506479d  e5819416-6b56-4337-9271-dc2c701ac7bd   \n",
       "\n",
       "                             product_id  quantity  sale_order_item_price  \\\n",
       "0  80957603-6cec-4f63-8dcd-aba6ded5cbdd       200               326000.0   \n",
       "1  b53ce31c-3789-42d7-96a0-5fe058cac7a5       200               125000.0   \n",
       "2  5952d124-7dc6-4a6a-baa2-e2e502ecd6fe         1               109000.0   \n",
       "3  0bd2430a-6613-442a-9d5a-11d64cb095ae         1                65000.0   \n",
       "4  80957603-6cec-4f63-8dcd-aba6ded5cbdd         2               688750.0   \n",
       "\n",
       "   clicked_from_recommendation click_timestamp  \\\n",
       "0                        False            None   \n",
       "1                        False            None   \n",
       "2                        False            None   \n",
       "3                        False            None   \n",
       "4                        False            None   \n",
       "\n",
       "                                user_id  total_item_price  created_at_utc0  \\\n",
       "0  13f5223e-f04a-4fa8-9ef2-cf36060f0d6d        90200000.0    1744078798583   \n",
       "1  13f5223e-f04a-4fa8-9ef2-cf36060f0d6d        90200000.0    1744078798583   \n",
       "2  1e75f22f-b609-4ebc-9536-4a26aef73302          109000.0    1744182202966   \n",
       "3  344963f8-9a3a-4de3-b3a9-c8716fa37c0e           65000.0    1742438712361   \n",
       "4  49ad56f8-8d32-408f-9f88-36cad5310680         1377500.0    1744874598061   \n",
       "\n",
       "               created_at                      sku     type  \\\n",
       "0 2025-04-08 02:19:58.583             101110501601    GOODS   \n",
       "1 2025-04-08 02:19:58.583             101110502101    GOODS   \n",
       "2 2025-04-09 07:03:22.966              TUP/PLN/100  DIGITAL   \n",
       "3 2025-03-20 02:45:12.361  MERCH-SAWITPRO-SHIRT-02    GOODS   \n",
       "4 2025-04-17 07:23:18.061             101110501601    GOODS   \n",
       "\n",
       "  unit_of_measurement                             name  product_price  \\\n",
       "0                  kg  MOP/KCL Canada Cap Mahkota 50kg       712500.0   \n",
       "1                  kg          RP Mahkota 50kg - Egypt       352688.0   \n",
       "2                                    Token PLN 100.000       109000.0   \n",
       "3                  kg  Kaos SIBRONDOL SawitPRO size XL       100000.0   \n",
       "4                  kg  MOP/KCL Canada Cap Mahkota 50kg       712500.0   \n",
       "\n",
       "                                                                                                                                                                                                                                                                                                                                                                                                                                                                                                                                                                                                                                                                                                                                                                                                                                                                                                                                                                                                                                                                                                                                                                                                   description  \n",
       "0  Pupuk MOP/KCL untuk meningkatkan Kualitas dan Kuantitas Buah. <p><strong><em><u>Deskripsi</u></em></strong></p><p><br></p><p>Pupuk MOP/KCL Mahkota mengandung kalium (K2O) minimal 60% dan berguna untuk membantu meningkatkan hasil dan kualitas panen. Pupuk ini juga mengoptimalkan penyerapan unsur hara lainnya dan meningkatkan ketahanan tanaman terhadap hama dan penyakit. Penggunaan KCL sangat penting untuk tanaman tahunan yang membutuhkan kalium tinggi.</p><p><br></p><p><strong><em><u>Manfaat </u></em></strong></p><p>Pupuk kalium oksida (K2O) meningkatkan pertumbuhan dan hasil tanaman dengan menyuplai kalium yang penting untuk daya tahan tanaman terhadap stres, serta mendukung pembentukan buah, bunga, dan umbi. Pupuk ini juga memperbaiki kualitas hasil panen dan efisiensi penggunaan air serta nutrisi, menjadikannya bermanfaat untuk tanaman yang membutuhkan kalium tinggi, seperti padi, jagung, dan tanaman hortikultura.</p><p><br></p><p><strong><em><u>Kandungan dan Spesifikasi </u></em></strong></p><p><br></p><p>Kalium oksida 60%</p><p>Bentuk / Warna: Kristal / Dominan merah</p><p><br></p><p><strong><em><u>Produk Teruji Lab?</u> </em></strong>Ya</p>  \n",
       "1                                                                                                                                                                                                                                                             Rock Phosphate (RP) adalah salah satu sumber fosfat terbaik di dunia yang diolah secara efisien tanpa proses kimia. <p><strong>Deskripsi</strong></p><p><br></p><p>Pupuk RP Mesir adalah pupuk yang diproses dari bahan baku galian yang mengandung mineral kalsium fosfat, yang berasal dari batuan yang diolah menjadi bubuk (powder) untuk digunakan langsung dalam pertanian. Pupuk ini dapat diterapkan dalam bentuk bubuk, butiran, atau granular.</p><p><br></p><p><strong>Manfaat</strong></p><p><br></p><p>Memberikan unsur fosfor alami yang dibutuhkan tanaman, mendukung perkembangan akar dan batang, meningkatkan kualitas akar serta batang tanaman, memperbaiki kemampuan tanaman dalam menyerap air dan nutrisi, serta melindungi tanaman dari serangan hama.</p><p><br></p><p><strong>Kandungan dan Spesifikasi</strong></p><p><br></p><p>Fosfor pentoksida 26-28%</p><p><br></p><p><strong>Produk Teruji Lab?</strong> Ya</p>  \n",
       "2                                                                                                                                                                                                                                                                                                                                                                                                                                                                                                                                                                                                                                                                                                                                                                                                                                                                                                                                                                                                                                                                                                                                                                          Topup PLN 100.000 Topup PLN 100.000  \n",
       "3                                                                                                                                                                                                                                                                                                                                                                                                                                                                                                                                                                                                                                                                                                                                                                                                                                                                                                                                                                                                                                                                                                          <p>Kaos tidak berkerah warna Putih bertuliskan \"Sibrondol SawitPRO\".</p><p>Ukuran All-size (XL)</p>  \n",
       "4  Pupuk MOP/KCL untuk meningkatkan Kualitas dan Kuantitas Buah. <p><strong><em><u>Deskripsi</u></em></strong></p><p><br></p><p>Pupuk MOP/KCL Mahkota mengandung kalium (K2O) minimal 60% dan berguna untuk membantu meningkatkan hasil dan kualitas panen. Pupuk ini juga mengoptimalkan penyerapan unsur hara lainnya dan meningkatkan ketahanan tanaman terhadap hama dan penyakit. Penggunaan KCL sangat penting untuk tanaman tahunan yang membutuhkan kalium tinggi.</p><p><br></p><p><strong><em><u>Manfaat </u></em></strong></p><p>Pupuk kalium oksida (K2O) meningkatkan pertumbuhan dan hasil tanaman dengan menyuplai kalium yang penting untuk daya tahan tanaman terhadap stres, serta mendukung pembentukan buah, bunga, dan umbi. Pupuk ini juga memperbaiki kualitas hasil panen dan efisiensi penggunaan air serta nutrisi, menjadikannya bermanfaat untuk tanaman yang membutuhkan kalium tinggi, seperti padi, jagung, dan tanaman hortikultura.</p><p><br></p><p><strong><em><u>Kandungan dan Spesifikasi </u></em></strong></p><p><br></p><p>Kalium oksida 60%</p><p>Bentuk / Warna: Kristal / Dominan merah</p><p><br></p><p><strong><em><u>Produk Teruji Lab?</u> </em></strong>Ya</p>  "
      ]
     },
     "execution_count": 572,
     "metadata": {},
     "output_type": "execute_result"
    }
   ],
   "source": [
    "merged_data = merged_data.merge(product_df, on='product_id')\n",
    "merged_data.head()"
   ]
  },
  {
   "cell_type": "code",
   "execution_count": 573,
   "metadata": {},
   "outputs": [
    {
     "data": {
      "text/html": [
       "<div>\n",
       "<style scoped>\n",
       "    .dataframe tbody tr th:only-of-type {\n",
       "        vertical-align: middle;\n",
       "    }\n",
       "\n",
       "    .dataframe tbody tr th {\n",
       "        vertical-align: top;\n",
       "    }\n",
       "\n",
       "    .dataframe thead th {\n",
       "        text-align: right;\n",
       "    }\n",
       "</style>\n",
       "<table border=\"1\" class=\"dataframe\">\n",
       "  <thead>\n",
       "    <tr style=\"text-align: right;\">\n",
       "      <th></th>\n",
       "      <th>description</th>\n",
       "    </tr>\n",
       "  </thead>\n",
       "  <tbody>\n",
       "    <tr>\n",
       "      <th>0</th>\n",
       "      <td>Pupuk MOP/KCL untuk meningkatkan Kualitas dan Kuantitas Buah. DeskripsiPupuk MOP/KCL Mahkota mengandung kalium (K2O) minimal 60% dan berguna untuk membantu meningkatkan hasil dan kualitas panen. Pupuk ini juga mengoptimalkan penyerapan unsur hara lainnya dan meningkatkan ketahanan tanaman terhadap hama dan penyakit. Penggunaan KCL sangat penting untuk tanaman tahunan yang membutuhkan kalium tinggi.Manfaat Pupuk kalium oksida (K2O) meningkatkan pertumbuhan dan hasil tanaman dengan menyuplai kalium yang penting untuk daya tahan tanaman terhadap stres, serta mendukung pembentukan buah, bunga, dan umbi. Pupuk ini juga memperbaiki kualitas hasil panen dan efisiensi penggunaan air serta nutrisi, menjadikannya bermanfaat untuk tanaman yang membutuhkan kalium tinggi, seperti padi, jagung, dan tanaman hortikultura.Kandungan dan Spesifikasi Kalium oksida 60%Bentuk / Warna: Kristal / Dominan merahProduk Teruji Lab? Ya</td>\n",
       "    </tr>\n",
       "    <tr>\n",
       "      <th>1</th>\n",
       "      <td>Rock Phosphate (RP) adalah salah satu sumber fosfat terbaik di dunia yang diolah secara efisien tanpa proses kimia. DeskripsiPupuk RP Mesir adalah pupuk yang diproses dari bahan baku galian yang mengandung mineral kalsium fosfat, yang berasal dari batuan yang diolah menjadi bubuk (powder) untuk digunakan langsung dalam pertanian. Pupuk ini dapat diterapkan dalam bentuk bubuk, butiran, atau granular.ManfaatMemberikan unsur fosfor alami yang dibutuhkan tanaman, mendukung perkembangan akar dan batang, meningkatkan kualitas akar serta batang tanaman, memperbaiki kemampuan tanaman dalam menyerap air dan nutrisi, serta melindungi tanaman dari serangan hama.Kandungan dan SpesifikasiFosfor pentoksida 26-28%Produk Teruji Lab? Ya</td>\n",
       "    </tr>\n",
       "    <tr>\n",
       "      <th>2</th>\n",
       "      <td>Topup PLN 100.000 Topup PLN 100.000</td>\n",
       "    </tr>\n",
       "    <tr>\n",
       "      <th>3</th>\n",
       "      <td>Kaos tidak berkerah warna Putih bertuliskan \"Sibrondol SawitPRO\".Ukuran All-size (XL)</td>\n",
       "    </tr>\n",
       "    <tr>\n",
       "      <th>4</th>\n",
       "      <td>Pupuk MOP/KCL untuk meningkatkan Kualitas dan Kuantitas Buah. DeskripsiPupuk MOP/KCL Mahkota mengandung kalium (K2O) minimal 60% dan berguna untuk membantu meningkatkan hasil dan kualitas panen. Pupuk ini juga mengoptimalkan penyerapan unsur hara lainnya dan meningkatkan ketahanan tanaman terhadap hama dan penyakit. Penggunaan KCL sangat penting untuk tanaman tahunan yang membutuhkan kalium tinggi.Manfaat Pupuk kalium oksida (K2O) meningkatkan pertumbuhan dan hasil tanaman dengan menyuplai kalium yang penting untuk daya tahan tanaman terhadap stres, serta mendukung pembentukan buah, bunga, dan umbi. Pupuk ini juga memperbaiki kualitas hasil panen dan efisiensi penggunaan air serta nutrisi, menjadikannya bermanfaat untuk tanaman yang membutuhkan kalium tinggi, seperti padi, jagung, dan tanaman hortikultura.Kandungan dan Spesifikasi Kalium oksida 60%Bentuk / Warna: Kristal / Dominan merahProduk Teruji Lab? Ya</td>\n",
       "    </tr>\n",
       "  </tbody>\n",
       "</table>\n",
       "</div>"
      ],
      "text/plain": [
       "                                                                                                                                                                                                                                                                                                                                                                                                                                                                                                                                                                                                                                                                                                                                                                                                                                                                                                                                                description\n",
       "0  Pupuk MOP/KCL untuk meningkatkan Kualitas dan Kuantitas Buah. DeskripsiPupuk MOP/KCL Mahkota mengandung kalium (K2O) minimal 60% dan berguna untuk membantu meningkatkan hasil dan kualitas panen. Pupuk ini juga mengoptimalkan penyerapan unsur hara lainnya dan meningkatkan ketahanan tanaman terhadap hama dan penyakit. Penggunaan KCL sangat penting untuk tanaman tahunan yang membutuhkan kalium tinggi.Manfaat Pupuk kalium oksida (K2O) meningkatkan pertumbuhan dan hasil tanaman dengan menyuplai kalium yang penting untuk daya tahan tanaman terhadap stres, serta mendukung pembentukan buah, bunga, dan umbi. Pupuk ini juga memperbaiki kualitas hasil panen dan efisiensi penggunaan air serta nutrisi, menjadikannya bermanfaat untuk tanaman yang membutuhkan kalium tinggi, seperti padi, jagung, dan tanaman hortikultura.Kandungan dan Spesifikasi Kalium oksida 60%Bentuk / Warna: Kristal / Dominan merahProduk Teruji Lab? Ya\n",
       "1                                                                                                                                                                                                 Rock Phosphate (RP) adalah salah satu sumber fosfat terbaik di dunia yang diolah secara efisien tanpa proses kimia. DeskripsiPupuk RP Mesir adalah pupuk yang diproses dari bahan baku galian yang mengandung mineral kalsium fosfat, yang berasal dari batuan yang diolah menjadi bubuk (powder) untuk digunakan langsung dalam pertanian. Pupuk ini dapat diterapkan dalam bentuk bubuk, butiran, atau granular.ManfaatMemberikan unsur fosfor alami yang dibutuhkan tanaman, mendukung perkembangan akar dan batang, meningkatkan kualitas akar serta batang tanaman, memperbaiki kemampuan tanaman dalam menyerap air dan nutrisi, serta melindungi tanaman dari serangan hama.Kandungan dan SpesifikasiFosfor pentoksida 26-28%Produk Teruji Lab? Ya\n",
       "2                                                                                                                                                                                                                                                                                                                                                                                                                                                                                                                                                                                                                                                                                                                                                                                                                                                                                                                       Topup PLN 100.000 Topup PLN 100.000\n",
       "3                                                                                                                                                                                                                                                                                                                                                                                                                                                                                                                                                                                                                                                                                                                                                                                                                                                                     Kaos tidak berkerah warna Putih bertuliskan \"Sibrondol SawitPRO\".Ukuran All-size (XL)\n",
       "4  Pupuk MOP/KCL untuk meningkatkan Kualitas dan Kuantitas Buah. DeskripsiPupuk MOP/KCL Mahkota mengandung kalium (K2O) minimal 60% dan berguna untuk membantu meningkatkan hasil dan kualitas panen. Pupuk ini juga mengoptimalkan penyerapan unsur hara lainnya dan meningkatkan ketahanan tanaman terhadap hama dan penyakit. Penggunaan KCL sangat penting untuk tanaman tahunan yang membutuhkan kalium tinggi.Manfaat Pupuk kalium oksida (K2O) meningkatkan pertumbuhan dan hasil tanaman dengan menyuplai kalium yang penting untuk daya tahan tanaman terhadap stres, serta mendukung pembentukan buah, bunga, dan umbi. Pupuk ini juga memperbaiki kualitas hasil panen dan efisiensi penggunaan air serta nutrisi, menjadikannya bermanfaat untuk tanaman yang membutuhkan kalium tinggi, seperti padi, jagung, dan tanaman hortikultura.Kandungan dan Spesifikasi Kalium oksida 60%Bentuk / Warna: Kristal / Dominan merahProduk Teruji Lab? Ya"
      ]
     },
     "execution_count": 573,
     "metadata": {},
     "output_type": "execute_result"
    }
   ],
   "source": [
    "def clean_html(raw_html):\n",
    "    # Remove HTML tags\n",
    "    clean_text = re.sub(r'<[^>]+>', '', raw_html)\n",
    "    # Remove leading/trailing whitespaces and normalize spaces\n",
    "    clean_text = re.sub(r'\\s+', ' ', clean_text).strip()\n",
    "    return clean_text\n",
    "\n",
    "# Apply to the 'description' column\n",
    "merged_data['description'] = merged_data['description'].astype(str).apply(clean_html)\n",
    "\n",
    "# Preview the cleaned descriptions\n",
    "merged_data[['description']].head()\n"
   ]
  },
  {
   "cell_type": "code",
   "execution_count": 574,
   "metadata": {},
   "outputs": [
    {
     "data": {
      "text/html": [
       "<div>\n",
       "<style scoped>\n",
       "    .dataframe tbody tr th:only-of-type {\n",
       "        vertical-align: middle;\n",
       "    }\n",
       "\n",
       "    .dataframe tbody tr th {\n",
       "        vertical-align: top;\n",
       "    }\n",
       "\n",
       "    .dataframe thead th {\n",
       "        text-align: right;\n",
       "    }\n",
       "</style>\n",
       "<table border=\"1\" class=\"dataframe\">\n",
       "  <thead>\n",
       "    <tr style=\"text-align: right;\">\n",
       "      <th></th>\n",
       "      <th>sale_order_item_id</th>\n",
       "      <th>sale_order_id</th>\n",
       "      <th>product_id</th>\n",
       "      <th>quantity</th>\n",
       "      <th>sale_order_item_price</th>\n",
       "      <th>clicked_from_recommendation</th>\n",
       "      <th>click_timestamp</th>\n",
       "      <th>user_id</th>\n",
       "      <th>total_item_price</th>\n",
       "      <th>created_at_utc0</th>\n",
       "      <th>created_at</th>\n",
       "      <th>sku</th>\n",
       "      <th>type</th>\n",
       "      <th>unit_of_measurement</th>\n",
       "      <th>name</th>\n",
       "      <th>product_price</th>\n",
       "      <th>description</th>\n",
       "    </tr>\n",
       "  </thead>\n",
       "  <tbody>\n",
       "    <tr>\n",
       "      <th>0</th>\n",
       "      <td>d4dc9c06-177e-494c-ba72-7e2954ce8ced</td>\n",
       "      <td>3ddca641-cb59-4a27-8698-cb16ff2932f2</td>\n",
       "      <td>80957603-6cec-4f63-8dcd-aba6ded5cbdd</td>\n",
       "      <td>200</td>\n",
       "      <td>326000.0</td>\n",
       "      <td>False</td>\n",
       "      <td>None</td>\n",
       "      <td>13f5223e-f04a-4fa8-9ef2-cf36060f0d6d</td>\n",
       "      <td>90200000.0</td>\n",
       "      <td>1744078798583</td>\n",
       "      <td>2025-04-08 02:19:58.583</td>\n",
       "      <td>101110501601</td>\n",
       "      <td>GOODS</td>\n",
       "      <td>kg</td>\n",
       "      <td>MOP/KCL Canada Cap Mahkota 50kg</td>\n",
       "      <td>712500.0</td>\n",
       "      <td>Pupuk MOP/KCL untuk meningkatkan Kualitas dan Kuantitas Buah. DeskripsiPupuk MOP/KCL Mahkota mengandung kalium (K2O) minimal 60% dan berguna untuk membantu meningkatkan hasil dan kualitas panen. Pupuk ini juga mengoptimalkan penyerapan unsur hara lainnya dan meningkatkan ketahanan tanaman terhadap hama dan penyakit. Penggunaan KCL sangat penting untuk tanaman tahunan yang membutuhkan kalium tinggi.Manfaat Pupuk kalium oksida (K2O) meningkatkan pertumbuhan dan hasil tanaman dengan menyuplai kalium yang penting untuk daya tahan tanaman terhadap stres, serta mendukung pembentukan buah, bunga, dan umbi. Pupuk ini juga memperbaiki kualitas hasil panen dan efisiensi penggunaan air serta nutrisi, menjadikannya bermanfaat untuk tanaman yang membutuhkan kalium tinggi, seperti padi, jagung, dan tanaman hortikultura.Kandungan dan Spesifikasi Kalium oksida 60%Bentuk / Warna: Kristal / Dominan merahProduk Teruji Lab? Ya</td>\n",
       "    </tr>\n",
       "    <tr>\n",
       "      <th>1</th>\n",
       "      <td>7eefa7db-26bf-4a8b-b207-f44a52ed0aba</td>\n",
       "      <td>3ddca641-cb59-4a27-8698-cb16ff2932f2</td>\n",
       "      <td>b53ce31c-3789-42d7-96a0-5fe058cac7a5</td>\n",
       "      <td>200</td>\n",
       "      <td>125000.0</td>\n",
       "      <td>False</td>\n",
       "      <td>None</td>\n",
       "      <td>13f5223e-f04a-4fa8-9ef2-cf36060f0d6d</td>\n",
       "      <td>90200000.0</td>\n",
       "      <td>1744078798583</td>\n",
       "      <td>2025-04-08 02:19:58.583</td>\n",
       "      <td>101110502101</td>\n",
       "      <td>GOODS</td>\n",
       "      <td>kg</td>\n",
       "      <td>RP Mahkota 50kg - Egypt</td>\n",
       "      <td>352688.0</td>\n",
       "      <td>Rock Phosphate (RP) adalah salah satu sumber fosfat terbaik di dunia yang diolah secara efisien tanpa proses kimia. DeskripsiPupuk RP Mesir adalah pupuk yang diproses dari bahan baku galian yang mengandung mineral kalsium fosfat, yang berasal dari batuan yang diolah menjadi bubuk (powder) untuk digunakan langsung dalam pertanian. Pupuk ini dapat diterapkan dalam bentuk bubuk, butiran, atau granular.ManfaatMemberikan unsur fosfor alami yang dibutuhkan tanaman, mendukung perkembangan akar dan batang, meningkatkan kualitas akar serta batang tanaman, memperbaiki kemampuan tanaman dalam menyerap air dan nutrisi, serta melindungi tanaman dari serangan hama.Kandungan dan SpesifikasiFosfor pentoksida 26-28%Produk Teruji Lab? Ya</td>\n",
       "    </tr>\n",
       "    <tr>\n",
       "      <th>2</th>\n",
       "      <td>e9b32dc3-4e0f-4a69-bb3d-c7f11277f97f</td>\n",
       "      <td>787bc8b7-e679-4772-be5d-af4afac9adf5</td>\n",
       "      <td>5952d124-7dc6-4a6a-baa2-e2e502ecd6fe</td>\n",
       "      <td>1</td>\n",
       "      <td>109000.0</td>\n",
       "      <td>False</td>\n",
       "      <td>None</td>\n",
       "      <td>1e75f22f-b609-4ebc-9536-4a26aef73302</td>\n",
       "      <td>109000.0</td>\n",
       "      <td>1744182202966</td>\n",
       "      <td>2025-04-09 07:03:22.966</td>\n",
       "      <td>TUP/PLN/100</td>\n",
       "      <td>DIGITAL</td>\n",
       "      <td></td>\n",
       "      <td>Token PLN 100.000</td>\n",
       "      <td>109000.0</td>\n",
       "      <td>Topup PLN 100.000 Topup PLN 100.000</td>\n",
       "    </tr>\n",
       "    <tr>\n",
       "      <th>3</th>\n",
       "      <td>86a41dec-9936-4c8f-9150-e8b367a4959f</td>\n",
       "      <td>4d47dd32-1618-4376-a846-66bcf065e173</td>\n",
       "      <td>0bd2430a-6613-442a-9d5a-11d64cb095ae</td>\n",
       "      <td>1</td>\n",
       "      <td>65000.0</td>\n",
       "      <td>False</td>\n",
       "      <td>None</td>\n",
       "      <td>344963f8-9a3a-4de3-b3a9-c8716fa37c0e</td>\n",
       "      <td>65000.0</td>\n",
       "      <td>1742438712361</td>\n",
       "      <td>2025-03-20 02:45:12.361</td>\n",
       "      <td>MERCH-SAWITPRO-SHIRT-02</td>\n",
       "      <td>GOODS</td>\n",
       "      <td>kg</td>\n",
       "      <td>Kaos SIBRONDOL SawitPRO size XL</td>\n",
       "      <td>100000.0</td>\n",
       "      <td>Kaos tidak berkerah warna Putih bertuliskan \"Sibrondol SawitPRO\".Ukuran All-size (XL)</td>\n",
       "    </tr>\n",
       "    <tr>\n",
       "      <th>4</th>\n",
       "      <td>61cf5f3f-2a24-4080-bc4f-50af3506479d</td>\n",
       "      <td>e5819416-6b56-4337-9271-dc2c701ac7bd</td>\n",
       "      <td>80957603-6cec-4f63-8dcd-aba6ded5cbdd</td>\n",
       "      <td>2</td>\n",
       "      <td>688750.0</td>\n",
       "      <td>False</td>\n",
       "      <td>None</td>\n",
       "      <td>49ad56f8-8d32-408f-9f88-36cad5310680</td>\n",
       "      <td>1377500.0</td>\n",
       "      <td>1744874598061</td>\n",
       "      <td>2025-04-17 07:23:18.061</td>\n",
       "      <td>101110501601</td>\n",
       "      <td>GOODS</td>\n",
       "      <td>kg</td>\n",
       "      <td>MOP/KCL Canada Cap Mahkota 50kg</td>\n",
       "      <td>712500.0</td>\n",
       "      <td>Pupuk MOP/KCL untuk meningkatkan Kualitas dan Kuantitas Buah. DeskripsiPupuk MOP/KCL Mahkota mengandung kalium (K2O) minimal 60% dan berguna untuk membantu meningkatkan hasil dan kualitas panen. Pupuk ini juga mengoptimalkan penyerapan unsur hara lainnya dan meningkatkan ketahanan tanaman terhadap hama dan penyakit. Penggunaan KCL sangat penting untuk tanaman tahunan yang membutuhkan kalium tinggi.Manfaat Pupuk kalium oksida (K2O) meningkatkan pertumbuhan dan hasil tanaman dengan menyuplai kalium yang penting untuk daya tahan tanaman terhadap stres, serta mendukung pembentukan buah, bunga, dan umbi. Pupuk ini juga memperbaiki kualitas hasil panen dan efisiensi penggunaan air serta nutrisi, menjadikannya bermanfaat untuk tanaman yang membutuhkan kalium tinggi, seperti padi, jagung, dan tanaman hortikultura.Kandungan dan Spesifikasi Kalium oksida 60%Bentuk / Warna: Kristal / Dominan merahProduk Teruji Lab? Ya</td>\n",
       "    </tr>\n",
       "  </tbody>\n",
       "</table>\n",
       "</div>"
      ],
      "text/plain": [
       "                     sale_order_item_id                         sale_order_id  \\\n",
       "0  d4dc9c06-177e-494c-ba72-7e2954ce8ced  3ddca641-cb59-4a27-8698-cb16ff2932f2   \n",
       "1  7eefa7db-26bf-4a8b-b207-f44a52ed0aba  3ddca641-cb59-4a27-8698-cb16ff2932f2   \n",
       "2  e9b32dc3-4e0f-4a69-bb3d-c7f11277f97f  787bc8b7-e679-4772-be5d-af4afac9adf5   \n",
       "3  86a41dec-9936-4c8f-9150-e8b367a4959f  4d47dd32-1618-4376-a846-66bcf065e173   \n",
       "4  61cf5f3f-2a24-4080-bc4f-50af3506479d  e5819416-6b56-4337-9271-dc2c701ac7bd   \n",
       "\n",
       "                             product_id  quantity  sale_order_item_price  \\\n",
       "0  80957603-6cec-4f63-8dcd-aba6ded5cbdd       200               326000.0   \n",
       "1  b53ce31c-3789-42d7-96a0-5fe058cac7a5       200               125000.0   \n",
       "2  5952d124-7dc6-4a6a-baa2-e2e502ecd6fe         1               109000.0   \n",
       "3  0bd2430a-6613-442a-9d5a-11d64cb095ae         1                65000.0   \n",
       "4  80957603-6cec-4f63-8dcd-aba6ded5cbdd         2               688750.0   \n",
       "\n",
       "   clicked_from_recommendation click_timestamp  \\\n",
       "0                        False            None   \n",
       "1                        False            None   \n",
       "2                        False            None   \n",
       "3                        False            None   \n",
       "4                        False            None   \n",
       "\n",
       "                                user_id  total_item_price  created_at_utc0  \\\n",
       "0  13f5223e-f04a-4fa8-9ef2-cf36060f0d6d        90200000.0    1744078798583   \n",
       "1  13f5223e-f04a-4fa8-9ef2-cf36060f0d6d        90200000.0    1744078798583   \n",
       "2  1e75f22f-b609-4ebc-9536-4a26aef73302          109000.0    1744182202966   \n",
       "3  344963f8-9a3a-4de3-b3a9-c8716fa37c0e           65000.0    1742438712361   \n",
       "4  49ad56f8-8d32-408f-9f88-36cad5310680         1377500.0    1744874598061   \n",
       "\n",
       "               created_at                      sku     type  \\\n",
       "0 2025-04-08 02:19:58.583             101110501601    GOODS   \n",
       "1 2025-04-08 02:19:58.583             101110502101    GOODS   \n",
       "2 2025-04-09 07:03:22.966              TUP/PLN/100  DIGITAL   \n",
       "3 2025-03-20 02:45:12.361  MERCH-SAWITPRO-SHIRT-02    GOODS   \n",
       "4 2025-04-17 07:23:18.061             101110501601    GOODS   \n",
       "\n",
       "  unit_of_measurement                             name  product_price  \\\n",
       "0                  kg  MOP/KCL Canada Cap Mahkota 50kg       712500.0   \n",
       "1                  kg          RP Mahkota 50kg - Egypt       352688.0   \n",
       "2                                    Token PLN 100.000       109000.0   \n",
       "3                  kg  Kaos SIBRONDOL SawitPRO size XL       100000.0   \n",
       "4                  kg  MOP/KCL Canada Cap Mahkota 50kg       712500.0   \n",
       "\n",
       "                                                                                                                                                                                                                                                                                                                                                                                                                                                                                                                                                                                                                                                                                                                                                                                                                                                                                                                                                description  \n",
       "0  Pupuk MOP/KCL untuk meningkatkan Kualitas dan Kuantitas Buah. DeskripsiPupuk MOP/KCL Mahkota mengandung kalium (K2O) minimal 60% dan berguna untuk membantu meningkatkan hasil dan kualitas panen. Pupuk ini juga mengoptimalkan penyerapan unsur hara lainnya dan meningkatkan ketahanan tanaman terhadap hama dan penyakit. Penggunaan KCL sangat penting untuk tanaman tahunan yang membutuhkan kalium tinggi.Manfaat Pupuk kalium oksida (K2O) meningkatkan pertumbuhan dan hasil tanaman dengan menyuplai kalium yang penting untuk daya tahan tanaman terhadap stres, serta mendukung pembentukan buah, bunga, dan umbi. Pupuk ini juga memperbaiki kualitas hasil panen dan efisiensi penggunaan air serta nutrisi, menjadikannya bermanfaat untuk tanaman yang membutuhkan kalium tinggi, seperti padi, jagung, dan tanaman hortikultura.Kandungan dan Spesifikasi Kalium oksida 60%Bentuk / Warna: Kristal / Dominan merahProduk Teruji Lab? Ya  \n",
       "1                                                                                                                                                                                                 Rock Phosphate (RP) adalah salah satu sumber fosfat terbaik di dunia yang diolah secara efisien tanpa proses kimia. DeskripsiPupuk RP Mesir adalah pupuk yang diproses dari bahan baku galian yang mengandung mineral kalsium fosfat, yang berasal dari batuan yang diolah menjadi bubuk (powder) untuk digunakan langsung dalam pertanian. Pupuk ini dapat diterapkan dalam bentuk bubuk, butiran, atau granular.ManfaatMemberikan unsur fosfor alami yang dibutuhkan tanaman, mendukung perkembangan akar dan batang, meningkatkan kualitas akar serta batang tanaman, memperbaiki kemampuan tanaman dalam menyerap air dan nutrisi, serta melindungi tanaman dari serangan hama.Kandungan dan SpesifikasiFosfor pentoksida 26-28%Produk Teruji Lab? Ya  \n",
       "2                                                                                                                                                                                                                                                                                                                                                                                                                                                                                                                                                                                                                                                                                                                                                                                                                                                                                                                       Topup PLN 100.000 Topup PLN 100.000  \n",
       "3                                                                                                                                                                                                                                                                                                                                                                                                                                                                                                                                                                                                                                                                                                                                                                                                                                                                     Kaos tidak berkerah warna Putih bertuliskan \"Sibrondol SawitPRO\".Ukuran All-size (XL)  \n",
       "4  Pupuk MOP/KCL untuk meningkatkan Kualitas dan Kuantitas Buah. DeskripsiPupuk MOP/KCL Mahkota mengandung kalium (K2O) minimal 60% dan berguna untuk membantu meningkatkan hasil dan kualitas panen. Pupuk ini juga mengoptimalkan penyerapan unsur hara lainnya dan meningkatkan ketahanan tanaman terhadap hama dan penyakit. Penggunaan KCL sangat penting untuk tanaman tahunan yang membutuhkan kalium tinggi.Manfaat Pupuk kalium oksida (K2O) meningkatkan pertumbuhan dan hasil tanaman dengan menyuplai kalium yang penting untuk daya tahan tanaman terhadap stres, serta mendukung pembentukan buah, bunga, dan umbi. Pupuk ini juga memperbaiki kualitas hasil panen dan efisiensi penggunaan air serta nutrisi, menjadikannya bermanfaat untuk tanaman yang membutuhkan kalium tinggi, seperti padi, jagung, dan tanaman hortikultura.Kandungan dan Spesifikasi Kalium oksida 60%Bentuk / Warna: Kristal / Dominan merahProduk Teruji Lab? Ya  "
      ]
     },
     "execution_count": 574,
     "metadata": {},
     "output_type": "execute_result"
    }
   ],
   "source": [
    "merged_data.head()"
   ]
  },
  {
   "cell_type": "code",
   "execution_count": 575,
   "metadata": {},
   "outputs": [
    {
     "name": "stdout",
     "output_type": "stream",
     "text": [
      "<class 'pandas.core.frame.DataFrame'>\n",
      "RangeIndex: 116 entries, 0 to 115\n",
      "Data columns (total 17 columns):\n",
      " #   Column                       Non-Null Count  Dtype         \n",
      "---  ------                       --------------  -----         \n",
      " 0   sale_order_item_id           116 non-null    object        \n",
      " 1   sale_order_id                116 non-null    object        \n",
      " 2   product_id                   116 non-null    object        \n",
      " 3   quantity                     116 non-null    int64         \n",
      " 4   sale_order_item_price        116 non-null    float64       \n",
      " 5   clicked_from_recommendation  116 non-null    bool          \n",
      " 6   click_timestamp              0 non-null      object        \n",
      " 7   user_id                      116 non-null    object        \n",
      " 8   total_item_price             116 non-null    float64       \n",
      " 9   created_at_utc0              116 non-null    int64         \n",
      " 10  created_at                   116 non-null    datetime64[ns]\n",
      " 11  sku                          116 non-null    object        \n",
      " 12  type                         116 non-null    object        \n",
      " 13  unit_of_measurement          116 non-null    object        \n",
      " 14  name                         116 non-null    object        \n",
      " 15  product_price                116 non-null    float64       \n",
      " 16  description                  116 non-null    object        \n",
      "dtypes: bool(1), datetime64[ns](1), float64(3), int64(2), object(10)\n",
      "memory usage: 14.7+ KB\n"
     ]
    }
   ],
   "source": [
    "merged_data.info()"
   ]
  },
  {
   "cell_type": "markdown",
   "metadata": {},
   "source": [
    "## Association Rule"
   ]
  },
  {
   "cell_type": "code",
   "execution_count": 576,
   "metadata": {},
   "outputs": [],
   "source": [
    "from mlxtend.frequent_patterns import apriori, association_rules\n",
    "from mlxtend.preprocessing import TransactionEncoder\n",
    "from sklearn.preprocessing import LabelEncoder"
   ]
  },
  {
   "cell_type": "code",
   "execution_count": 577,
   "metadata": {},
   "outputs": [
    {
     "data": {
      "text/html": [
       "<div>\n",
       "<style scoped>\n",
       "    .dataframe tbody tr th:only-of-type {\n",
       "        vertical-align: middle;\n",
       "    }\n",
       "\n",
       "    .dataframe tbody tr th {\n",
       "        vertical-align: top;\n",
       "    }\n",
       "\n",
       "    .dataframe thead th {\n",
       "        text-align: right;\n",
       "    }\n",
       "</style>\n",
       "<table border=\"1\" class=\"dataframe\">\n",
       "  <thead>\n",
       "    <tr style=\"text-align: right;\">\n",
       "      <th></th>\n",
       "      <th>sale_order_item_id</th>\n",
       "      <th>sale_order_id</th>\n",
       "      <th>product_id</th>\n",
       "      <th>quantity</th>\n",
       "      <th>sale_order_item_price</th>\n",
       "      <th>clicked_from_recommendation</th>\n",
       "      <th>click_timestamp</th>\n",
       "      <th>user_id</th>\n",
       "      <th>total_item_price</th>\n",
       "      <th>created_at_utc0</th>\n",
       "      <th>created_at</th>\n",
       "      <th>sku</th>\n",
       "      <th>type</th>\n",
       "      <th>unit_of_measurement</th>\n",
       "      <th>name</th>\n",
       "      <th>product_price</th>\n",
       "      <th>description</th>\n",
       "      <th>season</th>\n",
       "    </tr>\n",
       "  </thead>\n",
       "  <tbody>\n",
       "    <tr>\n",
       "      <th>0</th>\n",
       "      <td>d4dc9c06-177e-494c-ba72-7e2954ce8ced</td>\n",
       "      <td>3ddca641-cb59-4a27-8698-cb16ff2932f2</td>\n",
       "      <td>80957603-6cec-4f63-8dcd-aba6ded5cbdd</td>\n",
       "      <td>200</td>\n",
       "      <td>326000.0</td>\n",
       "      <td>False</td>\n",
       "      <td>None</td>\n",
       "      <td>13f5223e-f04a-4fa8-9ef2-cf36060f0d6d</td>\n",
       "      <td>90200000.0</td>\n",
       "      <td>1744078798583</td>\n",
       "      <td>2025-04-08 02:19:58.583</td>\n",
       "      <td>101110501601</td>\n",
       "      <td>GOODS</td>\n",
       "      <td>kg</td>\n",
       "      <td>MOP/KCL Canada Cap Mahkota 50kg</td>\n",
       "      <td>712500.0</td>\n",
       "      <td>Pupuk MOP/KCL untuk meningkatkan Kualitas dan Kuantitas Buah. DeskripsiPupuk MOP/KCL Mahkota mengandung kalium (K2O) minimal 60% dan berguna untuk membantu meningkatkan hasil dan kualitas panen. Pupuk ini juga mengoptimalkan penyerapan unsur hara lainnya dan meningkatkan ketahanan tanaman terhadap hama dan penyakit. Penggunaan KCL sangat penting untuk tanaman tahunan yang membutuhkan kalium tinggi.Manfaat Pupuk kalium oksida (K2O) meningkatkan pertumbuhan dan hasil tanaman dengan menyuplai kalium yang penting untuk daya tahan tanaman terhadap stres, serta mendukung pembentukan buah, bunga, dan umbi. Pupuk ini juga memperbaiki kualitas hasil panen dan efisiensi penggunaan air serta nutrisi, menjadikannya bermanfaat untuk tanaman yang membutuhkan kalium tinggi, seperti padi, jagung, dan tanaman hortikultura.Kandungan dan Spesifikasi Kalium oksida 60%Bentuk / Warna: Kristal / Dominan merahProduk Teruji Lab? Ya</td>\n",
       "      <td>dry_season</td>\n",
       "    </tr>\n",
       "    <tr>\n",
       "      <th>1</th>\n",
       "      <td>7eefa7db-26bf-4a8b-b207-f44a52ed0aba</td>\n",
       "      <td>3ddca641-cb59-4a27-8698-cb16ff2932f2</td>\n",
       "      <td>b53ce31c-3789-42d7-96a0-5fe058cac7a5</td>\n",
       "      <td>200</td>\n",
       "      <td>125000.0</td>\n",
       "      <td>False</td>\n",
       "      <td>None</td>\n",
       "      <td>13f5223e-f04a-4fa8-9ef2-cf36060f0d6d</td>\n",
       "      <td>90200000.0</td>\n",
       "      <td>1744078798583</td>\n",
       "      <td>2025-04-08 02:19:58.583</td>\n",
       "      <td>101110502101</td>\n",
       "      <td>GOODS</td>\n",
       "      <td>kg</td>\n",
       "      <td>RP Mahkota 50kg - Egypt</td>\n",
       "      <td>352688.0</td>\n",
       "      <td>Rock Phosphate (RP) adalah salah satu sumber fosfat terbaik di dunia yang diolah secara efisien tanpa proses kimia. DeskripsiPupuk RP Mesir adalah pupuk yang diproses dari bahan baku galian yang mengandung mineral kalsium fosfat, yang berasal dari batuan yang diolah menjadi bubuk (powder) untuk digunakan langsung dalam pertanian. Pupuk ini dapat diterapkan dalam bentuk bubuk, butiran, atau granular.ManfaatMemberikan unsur fosfor alami yang dibutuhkan tanaman, mendukung perkembangan akar dan batang, meningkatkan kualitas akar serta batang tanaman, memperbaiki kemampuan tanaman dalam menyerap air dan nutrisi, serta melindungi tanaman dari serangan hama.Kandungan dan SpesifikasiFosfor pentoksida 26-28%Produk Teruji Lab? Ya</td>\n",
       "      <td>dry_season</td>\n",
       "    </tr>\n",
       "    <tr>\n",
       "      <th>2</th>\n",
       "      <td>e9b32dc3-4e0f-4a69-bb3d-c7f11277f97f</td>\n",
       "      <td>787bc8b7-e679-4772-be5d-af4afac9adf5</td>\n",
       "      <td>5952d124-7dc6-4a6a-baa2-e2e502ecd6fe</td>\n",
       "      <td>1</td>\n",
       "      <td>109000.0</td>\n",
       "      <td>False</td>\n",
       "      <td>None</td>\n",
       "      <td>1e75f22f-b609-4ebc-9536-4a26aef73302</td>\n",
       "      <td>109000.0</td>\n",
       "      <td>1744182202966</td>\n",
       "      <td>2025-04-09 07:03:22.966</td>\n",
       "      <td>TUP/PLN/100</td>\n",
       "      <td>DIGITAL</td>\n",
       "      <td></td>\n",
       "      <td>Token PLN 100.000</td>\n",
       "      <td>109000.0</td>\n",
       "      <td>Topup PLN 100.000 Topup PLN 100.000</td>\n",
       "      <td>dry_season</td>\n",
       "    </tr>\n",
       "    <tr>\n",
       "      <th>3</th>\n",
       "      <td>86a41dec-9936-4c8f-9150-e8b367a4959f</td>\n",
       "      <td>4d47dd32-1618-4376-a846-66bcf065e173</td>\n",
       "      <td>0bd2430a-6613-442a-9d5a-11d64cb095ae</td>\n",
       "      <td>1</td>\n",
       "      <td>65000.0</td>\n",
       "      <td>False</td>\n",
       "      <td>None</td>\n",
       "      <td>344963f8-9a3a-4de3-b3a9-c8716fa37c0e</td>\n",
       "      <td>65000.0</td>\n",
       "      <td>1742438712361</td>\n",
       "      <td>2025-03-20 02:45:12.361</td>\n",
       "      <td>MERCH-SAWITPRO-SHIRT-02</td>\n",
       "      <td>GOODS</td>\n",
       "      <td>kg</td>\n",
       "      <td>Kaos SIBRONDOL SawitPRO size XL</td>\n",
       "      <td>100000.0</td>\n",
       "      <td>Kaos tidak berkerah warna Putih bertuliskan \"Sibrondol SawitPRO\".Ukuran All-size (XL)</td>\n",
       "      <td>wet_season</td>\n",
       "    </tr>\n",
       "    <tr>\n",
       "      <th>4</th>\n",
       "      <td>61cf5f3f-2a24-4080-bc4f-50af3506479d</td>\n",
       "      <td>e5819416-6b56-4337-9271-dc2c701ac7bd</td>\n",
       "      <td>80957603-6cec-4f63-8dcd-aba6ded5cbdd</td>\n",
       "      <td>2</td>\n",
       "      <td>688750.0</td>\n",
       "      <td>False</td>\n",
       "      <td>None</td>\n",
       "      <td>49ad56f8-8d32-408f-9f88-36cad5310680</td>\n",
       "      <td>1377500.0</td>\n",
       "      <td>1744874598061</td>\n",
       "      <td>2025-04-17 07:23:18.061</td>\n",
       "      <td>101110501601</td>\n",
       "      <td>GOODS</td>\n",
       "      <td>kg</td>\n",
       "      <td>MOP/KCL Canada Cap Mahkota 50kg</td>\n",
       "      <td>712500.0</td>\n",
       "      <td>Pupuk MOP/KCL untuk meningkatkan Kualitas dan Kuantitas Buah. DeskripsiPupuk MOP/KCL Mahkota mengandung kalium (K2O) minimal 60% dan berguna untuk membantu meningkatkan hasil dan kualitas panen. Pupuk ini juga mengoptimalkan penyerapan unsur hara lainnya dan meningkatkan ketahanan tanaman terhadap hama dan penyakit. Penggunaan KCL sangat penting untuk tanaman tahunan yang membutuhkan kalium tinggi.Manfaat Pupuk kalium oksida (K2O) meningkatkan pertumbuhan dan hasil tanaman dengan menyuplai kalium yang penting untuk daya tahan tanaman terhadap stres, serta mendukung pembentukan buah, bunga, dan umbi. Pupuk ini juga memperbaiki kualitas hasil panen dan efisiensi penggunaan air serta nutrisi, menjadikannya bermanfaat untuk tanaman yang membutuhkan kalium tinggi, seperti padi, jagung, dan tanaman hortikultura.Kandungan dan Spesifikasi Kalium oksida 60%Bentuk / Warna: Kristal / Dominan merahProduk Teruji Lab? Ya</td>\n",
       "      <td>dry_season</td>\n",
       "    </tr>\n",
       "  </tbody>\n",
       "</table>\n",
       "</div>"
      ],
      "text/plain": [
       "                     sale_order_item_id                         sale_order_id  \\\n",
       "0  d4dc9c06-177e-494c-ba72-7e2954ce8ced  3ddca641-cb59-4a27-8698-cb16ff2932f2   \n",
       "1  7eefa7db-26bf-4a8b-b207-f44a52ed0aba  3ddca641-cb59-4a27-8698-cb16ff2932f2   \n",
       "2  e9b32dc3-4e0f-4a69-bb3d-c7f11277f97f  787bc8b7-e679-4772-be5d-af4afac9adf5   \n",
       "3  86a41dec-9936-4c8f-9150-e8b367a4959f  4d47dd32-1618-4376-a846-66bcf065e173   \n",
       "4  61cf5f3f-2a24-4080-bc4f-50af3506479d  e5819416-6b56-4337-9271-dc2c701ac7bd   \n",
       "\n",
       "                             product_id  quantity  sale_order_item_price  \\\n",
       "0  80957603-6cec-4f63-8dcd-aba6ded5cbdd       200               326000.0   \n",
       "1  b53ce31c-3789-42d7-96a0-5fe058cac7a5       200               125000.0   \n",
       "2  5952d124-7dc6-4a6a-baa2-e2e502ecd6fe         1               109000.0   \n",
       "3  0bd2430a-6613-442a-9d5a-11d64cb095ae         1                65000.0   \n",
       "4  80957603-6cec-4f63-8dcd-aba6ded5cbdd         2               688750.0   \n",
       "\n",
       "   clicked_from_recommendation click_timestamp  \\\n",
       "0                        False            None   \n",
       "1                        False            None   \n",
       "2                        False            None   \n",
       "3                        False            None   \n",
       "4                        False            None   \n",
       "\n",
       "                                user_id  total_item_price  created_at_utc0  \\\n",
       "0  13f5223e-f04a-4fa8-9ef2-cf36060f0d6d        90200000.0    1744078798583   \n",
       "1  13f5223e-f04a-4fa8-9ef2-cf36060f0d6d        90200000.0    1744078798583   \n",
       "2  1e75f22f-b609-4ebc-9536-4a26aef73302          109000.0    1744182202966   \n",
       "3  344963f8-9a3a-4de3-b3a9-c8716fa37c0e           65000.0    1742438712361   \n",
       "4  49ad56f8-8d32-408f-9f88-36cad5310680         1377500.0    1744874598061   \n",
       "\n",
       "               created_at                      sku     type  \\\n",
       "0 2025-04-08 02:19:58.583             101110501601    GOODS   \n",
       "1 2025-04-08 02:19:58.583             101110502101    GOODS   \n",
       "2 2025-04-09 07:03:22.966              TUP/PLN/100  DIGITAL   \n",
       "3 2025-03-20 02:45:12.361  MERCH-SAWITPRO-SHIRT-02    GOODS   \n",
       "4 2025-04-17 07:23:18.061             101110501601    GOODS   \n",
       "\n",
       "  unit_of_measurement                             name  product_price  \\\n",
       "0                  kg  MOP/KCL Canada Cap Mahkota 50kg       712500.0   \n",
       "1                  kg          RP Mahkota 50kg - Egypt       352688.0   \n",
       "2                                    Token PLN 100.000       109000.0   \n",
       "3                  kg  Kaos SIBRONDOL SawitPRO size XL       100000.0   \n",
       "4                  kg  MOP/KCL Canada Cap Mahkota 50kg       712500.0   \n",
       "\n",
       "                                                                                                                                                                                                                                                                                                                                                                                                                                                                                                                                                                                                                                                                                                                                                                                                                                                                                                                                                description  \\\n",
       "0  Pupuk MOP/KCL untuk meningkatkan Kualitas dan Kuantitas Buah. DeskripsiPupuk MOP/KCL Mahkota mengandung kalium (K2O) minimal 60% dan berguna untuk membantu meningkatkan hasil dan kualitas panen. Pupuk ini juga mengoptimalkan penyerapan unsur hara lainnya dan meningkatkan ketahanan tanaman terhadap hama dan penyakit. Penggunaan KCL sangat penting untuk tanaman tahunan yang membutuhkan kalium tinggi.Manfaat Pupuk kalium oksida (K2O) meningkatkan pertumbuhan dan hasil tanaman dengan menyuplai kalium yang penting untuk daya tahan tanaman terhadap stres, serta mendukung pembentukan buah, bunga, dan umbi. Pupuk ini juga memperbaiki kualitas hasil panen dan efisiensi penggunaan air serta nutrisi, menjadikannya bermanfaat untuk tanaman yang membutuhkan kalium tinggi, seperti padi, jagung, dan tanaman hortikultura.Kandungan dan Spesifikasi Kalium oksida 60%Bentuk / Warna: Kristal / Dominan merahProduk Teruji Lab? Ya   \n",
       "1                                                                                                                                                                                                 Rock Phosphate (RP) adalah salah satu sumber fosfat terbaik di dunia yang diolah secara efisien tanpa proses kimia. DeskripsiPupuk RP Mesir adalah pupuk yang diproses dari bahan baku galian yang mengandung mineral kalsium fosfat, yang berasal dari batuan yang diolah menjadi bubuk (powder) untuk digunakan langsung dalam pertanian. Pupuk ini dapat diterapkan dalam bentuk bubuk, butiran, atau granular.ManfaatMemberikan unsur fosfor alami yang dibutuhkan tanaman, mendukung perkembangan akar dan batang, meningkatkan kualitas akar serta batang tanaman, memperbaiki kemampuan tanaman dalam menyerap air dan nutrisi, serta melindungi tanaman dari serangan hama.Kandungan dan SpesifikasiFosfor pentoksida 26-28%Produk Teruji Lab? Ya   \n",
       "2                                                                                                                                                                                                                                                                                                                                                                                                                                                                                                                                                                                                                                                                                                                                                                                                                                                                                                                       Topup PLN 100.000 Topup PLN 100.000   \n",
       "3                                                                                                                                                                                                                                                                                                                                                                                                                                                                                                                                                                                                                                                                                                                                                                                                                                                                     Kaos tidak berkerah warna Putih bertuliskan \"Sibrondol SawitPRO\".Ukuran All-size (XL)   \n",
       "4  Pupuk MOP/KCL untuk meningkatkan Kualitas dan Kuantitas Buah. DeskripsiPupuk MOP/KCL Mahkota mengandung kalium (K2O) minimal 60% dan berguna untuk membantu meningkatkan hasil dan kualitas panen. Pupuk ini juga mengoptimalkan penyerapan unsur hara lainnya dan meningkatkan ketahanan tanaman terhadap hama dan penyakit. Penggunaan KCL sangat penting untuk tanaman tahunan yang membutuhkan kalium tinggi.Manfaat Pupuk kalium oksida (K2O) meningkatkan pertumbuhan dan hasil tanaman dengan menyuplai kalium yang penting untuk daya tahan tanaman terhadap stres, serta mendukung pembentukan buah, bunga, dan umbi. Pupuk ini juga memperbaiki kualitas hasil panen dan efisiensi penggunaan air serta nutrisi, menjadikannya bermanfaat untuk tanaman yang membutuhkan kalium tinggi, seperti padi, jagung, dan tanaman hortikultura.Kandungan dan Spesifikasi Kalium oksida 60%Bentuk / Warna: Kristal / Dominan merahProduk Teruji Lab? Ya   \n",
       "\n",
       "       season  \n",
       "0  dry_season  \n",
       "1  dry_season  \n",
       "2  dry_season  \n",
       "3  wet_season  \n",
       "4  dry_season  "
      ]
     },
     "execution_count": 577,
     "metadata": {},
     "output_type": "execute_result"
    }
   ],
   "source": [
    "# define season type in indonesia\n",
    "from datetime import datetime\n",
    "\n",
    "def month_to_season(month):\n",
    "    if month in [10, 11, 12, 1, 2, 3]:\n",
    "        return 'wet_season'\n",
    "    else:\n",
    "        return 'dry_season'\n",
    "\n",
    "merged_data['created_at'] = pd.to_datetime(merged_data['created_at_utc0'], unit='ms')\n",
    "merged_data['season'] = merged_data['created_at'].dt.month.apply(month_to_season)\n",
    "merged_data.head()"
   ]
  },
  {
   "cell_type": "code",
   "execution_count": 578,
   "metadata": {},
   "outputs": [],
   "source": [
    "# Sum total_item_price per product per season\n",
    "seasonal_sales = (\n",
    "    merged_data\n",
    "    .groupby(['season', 'product_id'])['total_item_price']\n",
    "    .sum()\n",
    "    .reset_index()\n",
    "    .rename(columns={'total_item_price': 'season_sales'})\n",
    ")\n"
   ]
  },
  {
   "cell_type": "code",
   "execution_count": 579,
   "metadata": {},
   "outputs": [],
   "source": [
    "# Get average sales per product within each season\n",
    "season_avg = seasonal_sales.groupby('season')['season_sales'].mean().to_dict()\n",
    "\n",
    "# Calculate boost = product's sales / average sales that season\n",
    "seasonal_sales['boost'] = seasonal_sales.apply(\n",
    "    lambda row: row['season_sales'] / season_avg[row['season']], axis=1\n",
    ")\n"
   ]
  },
  {
   "cell_type": "code",
   "execution_count": 591,
   "metadata": {},
   "outputs": [
    {
     "name": "stdout",
     "output_type": "stream",
     "text": [
      "{'dry_season': {'1af0394e-3aea-42b4-8698-b6832e35f8ce': 0.0020966041870326044, '4cac8d01-b78e-4017-9113-c627ac1866a5': 6.15002595851629, '5952d124-7dc6-4a6a-baa2-e2e502ecd6fe': 0.000849553369466743, '6c27fc9c-e7e9-4e9b-9017-292175250df1': 0.006752780177119139, '6eccf249-a997-4091-8d64-29f1e9accd85': 0.0022318312600624023, '701928af-24e9-4a13-aaad-63ede44be9c8': 0.0020998153428878363, '80957603-6cec-4f63-8dcd-aba6ded5cbdd': 9.561516630556532, '8152e395-0f7a-4dda-8df9-6655a726c4e1': 0.22414179632224399, '8acff85f-f70a-4308-801f-763b22bb25c7': 0.6270327392073346, '8fcfd7a8-5980-4e7e-b463-6d30823caac4': 0.12189921741706294, '944f4171-813b-4423-ad89-3c73d67f9986': 0.010112802723698156, 'a48adaed-ab06-4245-8da6-5d560636a1d9': 0.18597035020331396, 'b53ce31c-3789-42d7-96a0-5fe058cac7a5': 0.7240513442970562, 'b67588d2-e8fe-4ee4-9931-e9d18241d04c': 0.015868721653525583, 'beb17fe4-5d92-4738-adaa-2d62ffb83516': 3.1659502630953305, 'c1d06ac3-5bea-4b4d-8648-ae3fa531f059': 0.00038970338048933164, 'c2b3d62f-6c48-4051-beb1-3ec66d30c1da': 0.03542403728648025, 'c5e57af4-0df9-4e2b-87e4-9024b8e6cf53': 0.015868721653525583, 'c7768e6d-d8d9-469f-960d-879b5401d83c': 0.001636754198055193, 'd3999f4e-890a-473f-bb92-2fd2178da3fb': 0.0029617456917189204, 'e8898291-543b-439c-907f-bd80075f02a0': 0.17535093308497968, 'ece9fda2-1006-4cf9-a283-74e10b330512': 3.7855786380733676, 'ecef7b49-b297-4c53-bf53-628861221da7': 0.008487739627057643, 'fc02857f-92ea-48a1-96b5-95acf43b922e': 0.0022318312600624023, 'ff58b8c4-1058-4753-bfc0-c04d091c8485': 0.17146948741530593}, 'wet_season': {'0bd2430a-6613-442a-9d5a-11d64cb095ae': 0.002132721718677636, '1033503b-8faa-4d5c-97c2-50bb19fbb897': 4.617666169660667, '1af0394e-3aea-42b4-8698-b6832e35f8ce': 0.1291072294283501, '2485b082-5258-44c1-b6aa-983387d540a7': 0.001387909672308677, '2b8fe2f0-5d07-459c-8781-22305a61980a': 0.1747191254147448, '369cfbc5-f536-41f5-8a80-267d55dec802': 0.1291072294283501, '4698d965-a133-4701-838b-f60e38c66b39': 2.3674272188404557, '487f2886-5150-4269-94e2-63fbc7314971': 1.3288496862529886, '4cac8d01-b78e-4017-9113-c627ac1866a5': 4.062588790805664, '5110ed03-9e1e-44bd-913c-4f56de2dcf0b': 0.0011483886177494963, '5501ce77-7a08-4086-8dda-858c92326fc6': 0.058239708471581594, '6c27fc9c-e7e9-4e9b-9017-292175250df1': 0.6544584704795968, '76fddc47-aea9-4942-9dbd-19d90f31cdd4': 0.007943961857730459, '80957603-6cec-4f63-8dcd-aba6ded5cbdd': 5.9290726530876245, '89f26d03-4933-4924-ae31-5eef6981122f': 2.3117883152881467, '8acff85f-f70a-4308-801f-763b22bb25c7': 0.14515632128353634, '8df8c2e5-5ad8-490f-83b2-57fa0c961f84': 0.013610865953083851, '9e7cc609-f4ef-4246-89e7-756861e623d8': 0.6249333991172573, 'a48adaed-ab06-4245-8da6-5d560636a1d9': 0.1291072294283501, 'af58006e-c0d7-44ec-9089-609b74e9ece2': 0.0021229111987717186, 'b53ce31c-3789-42d7-96a0-5fe058cac7a5': 0.13947553809145985, 'c2b3d62f-6c48-4051-beb1-3ec66d30c1da': 0.18453174523127722, 'c7768e6d-d8d9-469f-960d-879b5401d83c': 0.006890331706496978, 'd3999f4e-890a-473f-bb92-2fd2178da3fb': 0.6857520603132706, 'd8232157-edeb-4ac8-ba5a-0cf53e3c8a06': 0.6352828085848292, 'e41e1522-bbe0-4e9b-b638-5470e82e13a5': 0.04938071056322834, 'ece9fda2-1006-4cf9-a283-74e10b330512': 4.512839156721878, 'ecef7b49-b297-4c53-bf53-628861221da7': 0.04606219556896594, 'fc02857f-92ea-48a1-96b5-95acf43b922e': 0.049217147212957446}}\n"
     ]
    },
    {
     "name": "stderr",
     "output_type": "stream",
     "text": [
      "C:\\Users\\user\\AppData\\Local\\Temp\\ipykernel_20448\\1471582812.py:4: DeprecationWarning: DataFrameGroupBy.apply operated on the grouping columns. This behavior is deprecated, and in a future version of pandas the grouping columns will be excluded from the operation. Either pass `include_groups=False` to exclude the groupings or explicitly select the grouping columns after groupby to silence this warning.\n",
      "  .apply(lambda df: dict(zip(df['product_id'], df['boost'])))\n"
     ]
    }
   ],
   "source": [
    "seasonal_boost = (\n",
    "    seasonal_sales\n",
    "    .groupby('season')\n",
    "    .apply(lambda df: dict(zip(df['product_id'], df['boost'])))\n",
    "    .to_dict()\n",
    ")\n",
    "print(seasonal_boost)"
   ]
  },
  {
   "cell_type": "code",
   "execution_count": 581,
   "metadata": {},
   "outputs": [],
   "source": [
    "current_season = month_to_season(datetime.now().month)\n",
    "season_multiplier = seasonal_boost.get(current_season, {}).get(product_id, 1.0)\n"
   ]
  },
  {
   "cell_type": "code",
   "execution_count": 582,
   "metadata": {},
   "outputs": [
    {
     "name": "stderr",
     "output_type": "stream",
     "text": [
      "C:\\Users\\user\\AppData\\Local\\Temp\\ipykernel_20448\\1414791051.py:9: FutureWarning: DataFrame.applymap has been deprecated. Use DataFrame.map instead.\n",
      "  basket = basket.applymap(lambda x: 1 if x > 0 else 0)\n"
     ]
    },
    {
     "data": {
      "text/html": [
       "<div>\n",
       "<style scoped>\n",
       "    .dataframe tbody tr th:only-of-type {\n",
       "        vertical-align: middle;\n",
       "    }\n",
       "\n",
       "    .dataframe tbody tr th {\n",
       "        vertical-align: top;\n",
       "    }\n",
       "\n",
       "    .dataframe thead th {\n",
       "        text-align: right;\n",
       "    }\n",
       "</style>\n",
       "<table border=\"1\" class=\"dataframe\">\n",
       "  <thead>\n",
       "    <tr style=\"text-align: right;\">\n",
       "      <th>product_id</th>\n",
       "      <th>0bd2430a-6613-442a-9d5a-11d64cb095ae</th>\n",
       "      <th>1033503b-8faa-4d5c-97c2-50bb19fbb897</th>\n",
       "      <th>1af0394e-3aea-42b4-8698-b6832e35f8ce</th>\n",
       "      <th>2485b082-5258-44c1-b6aa-983387d540a7</th>\n",
       "      <th>2b8fe2f0-5d07-459c-8781-22305a61980a</th>\n",
       "      <th>369cfbc5-f536-41f5-8a80-267d55dec802</th>\n",
       "      <th>4698d965-a133-4701-838b-f60e38c66b39</th>\n",
       "      <th>487f2886-5150-4269-94e2-63fbc7314971</th>\n",
       "      <th>4cac8d01-b78e-4017-9113-c627ac1866a5</th>\n",
       "      <th>5110ed03-9e1e-44bd-913c-4f56de2dcf0b</th>\n",
       "      <th>5501ce77-7a08-4086-8dda-858c92326fc6</th>\n",
       "      <th>5952d124-7dc6-4a6a-baa2-e2e502ecd6fe</th>\n",
       "      <th>6c27fc9c-e7e9-4e9b-9017-292175250df1</th>\n",
       "      <th>6eccf249-a997-4091-8d64-29f1e9accd85</th>\n",
       "      <th>701928af-24e9-4a13-aaad-63ede44be9c8</th>\n",
       "      <th>76fddc47-aea9-4942-9dbd-19d90f31cdd4</th>\n",
       "      <th>80957603-6cec-4f63-8dcd-aba6ded5cbdd</th>\n",
       "      <th>8152e395-0f7a-4dda-8df9-6655a726c4e1</th>\n",
       "      <th>89f26d03-4933-4924-ae31-5eef6981122f</th>\n",
       "      <th>8acff85f-f70a-4308-801f-763b22bb25c7</th>\n",
       "      <th>8df8c2e5-5ad8-490f-83b2-57fa0c961f84</th>\n",
       "      <th>8fcfd7a8-5980-4e7e-b463-6d30823caac4</th>\n",
       "      <th>944f4171-813b-4423-ad89-3c73d67f9986</th>\n",
       "      <th>9e7cc609-f4ef-4246-89e7-756861e623d8</th>\n",
       "      <th>a48adaed-ab06-4245-8da6-5d560636a1d9</th>\n",
       "      <th>af58006e-c0d7-44ec-9089-609b74e9ece2</th>\n",
       "      <th>b53ce31c-3789-42d7-96a0-5fe058cac7a5</th>\n",
       "      <th>b67588d2-e8fe-4ee4-9931-e9d18241d04c</th>\n",
       "      <th>beb17fe4-5d92-4738-adaa-2d62ffb83516</th>\n",
       "      <th>c1d06ac3-5bea-4b4d-8648-ae3fa531f059</th>\n",
       "      <th>c2b3d62f-6c48-4051-beb1-3ec66d30c1da</th>\n",
       "      <th>c5e57af4-0df9-4e2b-87e4-9024b8e6cf53</th>\n",
       "      <th>c7768e6d-d8d9-469f-960d-879b5401d83c</th>\n",
       "      <th>d3999f4e-890a-473f-bb92-2fd2178da3fb</th>\n",
       "      <th>d8232157-edeb-4ac8-ba5a-0cf53e3c8a06</th>\n",
       "      <th>e41e1522-bbe0-4e9b-b638-5470e82e13a5</th>\n",
       "      <th>e8898291-543b-439c-907f-bd80075f02a0</th>\n",
       "      <th>ece9fda2-1006-4cf9-a283-74e10b330512</th>\n",
       "      <th>ecef7b49-b297-4c53-bf53-628861221da7</th>\n",
       "      <th>fc02857f-92ea-48a1-96b5-95acf43b922e</th>\n",
       "      <th>ff58b8c4-1058-4753-bfc0-c04d091c8485</th>\n",
       "    </tr>\n",
       "    <tr>\n",
       "      <th>user_id</th>\n",
       "      <th></th>\n",
       "      <th></th>\n",
       "      <th></th>\n",
       "      <th></th>\n",
       "      <th></th>\n",
       "      <th></th>\n",
       "      <th></th>\n",
       "      <th></th>\n",
       "      <th></th>\n",
       "      <th></th>\n",
       "      <th></th>\n",
       "      <th></th>\n",
       "      <th></th>\n",
       "      <th></th>\n",
       "      <th></th>\n",
       "      <th></th>\n",
       "      <th></th>\n",
       "      <th></th>\n",
       "      <th></th>\n",
       "      <th></th>\n",
       "      <th></th>\n",
       "      <th></th>\n",
       "      <th></th>\n",
       "      <th></th>\n",
       "      <th></th>\n",
       "      <th></th>\n",
       "      <th></th>\n",
       "      <th></th>\n",
       "      <th></th>\n",
       "      <th></th>\n",
       "      <th></th>\n",
       "      <th></th>\n",
       "      <th></th>\n",
       "      <th></th>\n",
       "      <th></th>\n",
       "      <th></th>\n",
       "      <th></th>\n",
       "      <th></th>\n",
       "      <th></th>\n",
       "      <th></th>\n",
       "      <th></th>\n",
       "    </tr>\n",
       "  </thead>\n",
       "  <tbody>\n",
       "    <tr>\n",
       "      <th>02b2724f-0227-4c94-a7a0-8cf37f7aee70</th>\n",
       "      <td>0</td>\n",
       "      <td>0</td>\n",
       "      <td>0</td>\n",
       "      <td>0</td>\n",
       "      <td>0</td>\n",
       "      <td>0</td>\n",
       "      <td>0</td>\n",
       "      <td>0</td>\n",
       "      <td>0</td>\n",
       "      <td>0</td>\n",
       "      <td>0</td>\n",
       "      <td>0</td>\n",
       "      <td>0</td>\n",
       "      <td>0</td>\n",
       "      <td>0</td>\n",
       "      <td>0</td>\n",
       "      <td>0</td>\n",
       "      <td>0</td>\n",
       "      <td>0</td>\n",
       "      <td>0</td>\n",
       "      <td>0</td>\n",
       "      <td>0</td>\n",
       "      <td>0</td>\n",
       "      <td>0</td>\n",
       "      <td>0</td>\n",
       "      <td>0</td>\n",
       "      <td>0</td>\n",
       "      <td>0</td>\n",
       "      <td>0</td>\n",
       "      <td>0</td>\n",
       "      <td>0</td>\n",
       "      <td>0</td>\n",
       "      <td>0</td>\n",
       "      <td>0</td>\n",
       "      <td>0</td>\n",
       "      <td>0</td>\n",
       "      <td>0</td>\n",
       "      <td>0</td>\n",
       "      <td>0</td>\n",
       "      <td>1</td>\n",
       "      <td>0</td>\n",
       "    </tr>\n",
       "    <tr>\n",
       "      <th>05dfbe78-f1f3-486d-8bc8-91ef41b3ae78</th>\n",
       "      <td>0</td>\n",
       "      <td>0</td>\n",
       "      <td>0</td>\n",
       "      <td>0</td>\n",
       "      <td>0</td>\n",
       "      <td>0</td>\n",
       "      <td>0</td>\n",
       "      <td>0</td>\n",
       "      <td>0</td>\n",
       "      <td>0</td>\n",
       "      <td>1</td>\n",
       "      <td>0</td>\n",
       "      <td>0</td>\n",
       "      <td>0</td>\n",
       "      <td>0</td>\n",
       "      <td>0</td>\n",
       "      <td>0</td>\n",
       "      <td>0</td>\n",
       "      <td>0</td>\n",
       "      <td>0</td>\n",
       "      <td>0</td>\n",
       "      <td>0</td>\n",
       "      <td>0</td>\n",
       "      <td>0</td>\n",
       "      <td>0</td>\n",
       "      <td>0</td>\n",
       "      <td>0</td>\n",
       "      <td>0</td>\n",
       "      <td>0</td>\n",
       "      <td>0</td>\n",
       "      <td>0</td>\n",
       "      <td>0</td>\n",
       "      <td>0</td>\n",
       "      <td>0</td>\n",
       "      <td>0</td>\n",
       "      <td>0</td>\n",
       "      <td>0</td>\n",
       "      <td>0</td>\n",
       "      <td>0</td>\n",
       "      <td>0</td>\n",
       "      <td>0</td>\n",
       "    </tr>\n",
       "    <tr>\n",
       "      <th>05ebeca1-5a73-46ec-88fc-323b29d468cc</th>\n",
       "      <td>0</td>\n",
       "      <td>0</td>\n",
       "      <td>0</td>\n",
       "      <td>0</td>\n",
       "      <td>0</td>\n",
       "      <td>0</td>\n",
       "      <td>0</td>\n",
       "      <td>0</td>\n",
       "      <td>0</td>\n",
       "      <td>0</td>\n",
       "      <td>0</td>\n",
       "      <td>0</td>\n",
       "      <td>0</td>\n",
       "      <td>0</td>\n",
       "      <td>0</td>\n",
       "      <td>0</td>\n",
       "      <td>1</td>\n",
       "      <td>0</td>\n",
       "      <td>0</td>\n",
       "      <td>0</td>\n",
       "      <td>0</td>\n",
       "      <td>0</td>\n",
       "      <td>0</td>\n",
       "      <td>0</td>\n",
       "      <td>0</td>\n",
       "      <td>0</td>\n",
       "      <td>0</td>\n",
       "      <td>0</td>\n",
       "      <td>0</td>\n",
       "      <td>0</td>\n",
       "      <td>0</td>\n",
       "      <td>0</td>\n",
       "      <td>0</td>\n",
       "      <td>0</td>\n",
       "      <td>0</td>\n",
       "      <td>0</td>\n",
       "      <td>0</td>\n",
       "      <td>0</td>\n",
       "      <td>0</td>\n",
       "      <td>0</td>\n",
       "      <td>0</td>\n",
       "    </tr>\n",
       "    <tr>\n",
       "      <th>0600fab5-173c-4333-b3c3-c18b37148acf</th>\n",
       "      <td>0</td>\n",
       "      <td>0</td>\n",
       "      <td>0</td>\n",
       "      <td>0</td>\n",
       "      <td>0</td>\n",
       "      <td>0</td>\n",
       "      <td>0</td>\n",
       "      <td>0</td>\n",
       "      <td>1</td>\n",
       "      <td>0</td>\n",
       "      <td>0</td>\n",
       "      <td>0</td>\n",
       "      <td>0</td>\n",
       "      <td>0</td>\n",
       "      <td>0</td>\n",
       "      <td>0</td>\n",
       "      <td>0</td>\n",
       "      <td>0</td>\n",
       "      <td>0</td>\n",
       "      <td>0</td>\n",
       "      <td>0</td>\n",
       "      <td>0</td>\n",
       "      <td>0</td>\n",
       "      <td>0</td>\n",
       "      <td>0</td>\n",
       "      <td>0</td>\n",
       "      <td>0</td>\n",
       "      <td>0</td>\n",
       "      <td>0</td>\n",
       "      <td>0</td>\n",
       "      <td>0</td>\n",
       "      <td>0</td>\n",
       "      <td>0</td>\n",
       "      <td>0</td>\n",
       "      <td>0</td>\n",
       "      <td>0</td>\n",
       "      <td>0</td>\n",
       "      <td>0</td>\n",
       "      <td>0</td>\n",
       "      <td>0</td>\n",
       "      <td>0</td>\n",
       "    </tr>\n",
       "    <tr>\n",
       "      <th>0baaaa63-a05f-492d-8f87-9532257d85f9</th>\n",
       "      <td>0</td>\n",
       "      <td>0</td>\n",
       "      <td>0</td>\n",
       "      <td>0</td>\n",
       "      <td>0</td>\n",
       "      <td>0</td>\n",
       "      <td>0</td>\n",
       "      <td>0</td>\n",
       "      <td>0</td>\n",
       "      <td>0</td>\n",
       "      <td>0</td>\n",
       "      <td>0</td>\n",
       "      <td>0</td>\n",
       "      <td>0</td>\n",
       "      <td>0</td>\n",
       "      <td>0</td>\n",
       "      <td>0</td>\n",
       "      <td>0</td>\n",
       "      <td>0</td>\n",
       "      <td>1</td>\n",
       "      <td>0</td>\n",
       "      <td>0</td>\n",
       "      <td>0</td>\n",
       "      <td>0</td>\n",
       "      <td>0</td>\n",
       "      <td>0</td>\n",
       "      <td>0</td>\n",
       "      <td>0</td>\n",
       "      <td>0</td>\n",
       "      <td>0</td>\n",
       "      <td>0</td>\n",
       "      <td>0</td>\n",
       "      <td>0</td>\n",
       "      <td>0</td>\n",
       "      <td>0</td>\n",
       "      <td>0</td>\n",
       "      <td>0</td>\n",
       "      <td>0</td>\n",
       "      <td>0</td>\n",
       "      <td>0</td>\n",
       "      <td>0</td>\n",
       "    </tr>\n",
       "  </tbody>\n",
       "</table>\n",
       "</div>"
      ],
      "text/plain": [
       "product_id                            0bd2430a-6613-442a-9d5a-11d64cb095ae  \\\n",
       "user_id                                                                      \n",
       "02b2724f-0227-4c94-a7a0-8cf37f7aee70                                     0   \n",
       "05dfbe78-f1f3-486d-8bc8-91ef41b3ae78                                     0   \n",
       "05ebeca1-5a73-46ec-88fc-323b29d468cc                                     0   \n",
       "0600fab5-173c-4333-b3c3-c18b37148acf                                     0   \n",
       "0baaaa63-a05f-492d-8f87-9532257d85f9                                     0   \n",
       "\n",
       "product_id                            1033503b-8faa-4d5c-97c2-50bb19fbb897  \\\n",
       "user_id                                                                      \n",
       "02b2724f-0227-4c94-a7a0-8cf37f7aee70                                     0   \n",
       "05dfbe78-f1f3-486d-8bc8-91ef41b3ae78                                     0   \n",
       "05ebeca1-5a73-46ec-88fc-323b29d468cc                                     0   \n",
       "0600fab5-173c-4333-b3c3-c18b37148acf                                     0   \n",
       "0baaaa63-a05f-492d-8f87-9532257d85f9                                     0   \n",
       "\n",
       "product_id                            1af0394e-3aea-42b4-8698-b6832e35f8ce  \\\n",
       "user_id                                                                      \n",
       "02b2724f-0227-4c94-a7a0-8cf37f7aee70                                     0   \n",
       "05dfbe78-f1f3-486d-8bc8-91ef41b3ae78                                     0   \n",
       "05ebeca1-5a73-46ec-88fc-323b29d468cc                                     0   \n",
       "0600fab5-173c-4333-b3c3-c18b37148acf                                     0   \n",
       "0baaaa63-a05f-492d-8f87-9532257d85f9                                     0   \n",
       "\n",
       "product_id                            2485b082-5258-44c1-b6aa-983387d540a7  \\\n",
       "user_id                                                                      \n",
       "02b2724f-0227-4c94-a7a0-8cf37f7aee70                                     0   \n",
       "05dfbe78-f1f3-486d-8bc8-91ef41b3ae78                                     0   \n",
       "05ebeca1-5a73-46ec-88fc-323b29d468cc                                     0   \n",
       "0600fab5-173c-4333-b3c3-c18b37148acf                                     0   \n",
       "0baaaa63-a05f-492d-8f87-9532257d85f9                                     0   \n",
       "\n",
       "product_id                            2b8fe2f0-5d07-459c-8781-22305a61980a  \\\n",
       "user_id                                                                      \n",
       "02b2724f-0227-4c94-a7a0-8cf37f7aee70                                     0   \n",
       "05dfbe78-f1f3-486d-8bc8-91ef41b3ae78                                     0   \n",
       "05ebeca1-5a73-46ec-88fc-323b29d468cc                                     0   \n",
       "0600fab5-173c-4333-b3c3-c18b37148acf                                     0   \n",
       "0baaaa63-a05f-492d-8f87-9532257d85f9                                     0   \n",
       "\n",
       "product_id                            369cfbc5-f536-41f5-8a80-267d55dec802  \\\n",
       "user_id                                                                      \n",
       "02b2724f-0227-4c94-a7a0-8cf37f7aee70                                     0   \n",
       "05dfbe78-f1f3-486d-8bc8-91ef41b3ae78                                     0   \n",
       "05ebeca1-5a73-46ec-88fc-323b29d468cc                                     0   \n",
       "0600fab5-173c-4333-b3c3-c18b37148acf                                     0   \n",
       "0baaaa63-a05f-492d-8f87-9532257d85f9                                     0   \n",
       "\n",
       "product_id                            4698d965-a133-4701-838b-f60e38c66b39  \\\n",
       "user_id                                                                      \n",
       "02b2724f-0227-4c94-a7a0-8cf37f7aee70                                     0   \n",
       "05dfbe78-f1f3-486d-8bc8-91ef41b3ae78                                     0   \n",
       "05ebeca1-5a73-46ec-88fc-323b29d468cc                                     0   \n",
       "0600fab5-173c-4333-b3c3-c18b37148acf                                     0   \n",
       "0baaaa63-a05f-492d-8f87-9532257d85f9                                     0   \n",
       "\n",
       "product_id                            487f2886-5150-4269-94e2-63fbc7314971  \\\n",
       "user_id                                                                      \n",
       "02b2724f-0227-4c94-a7a0-8cf37f7aee70                                     0   \n",
       "05dfbe78-f1f3-486d-8bc8-91ef41b3ae78                                     0   \n",
       "05ebeca1-5a73-46ec-88fc-323b29d468cc                                     0   \n",
       "0600fab5-173c-4333-b3c3-c18b37148acf                                     0   \n",
       "0baaaa63-a05f-492d-8f87-9532257d85f9                                     0   \n",
       "\n",
       "product_id                            4cac8d01-b78e-4017-9113-c627ac1866a5  \\\n",
       "user_id                                                                      \n",
       "02b2724f-0227-4c94-a7a0-8cf37f7aee70                                     0   \n",
       "05dfbe78-f1f3-486d-8bc8-91ef41b3ae78                                     0   \n",
       "05ebeca1-5a73-46ec-88fc-323b29d468cc                                     0   \n",
       "0600fab5-173c-4333-b3c3-c18b37148acf                                     1   \n",
       "0baaaa63-a05f-492d-8f87-9532257d85f9                                     0   \n",
       "\n",
       "product_id                            5110ed03-9e1e-44bd-913c-4f56de2dcf0b  \\\n",
       "user_id                                                                      \n",
       "02b2724f-0227-4c94-a7a0-8cf37f7aee70                                     0   \n",
       "05dfbe78-f1f3-486d-8bc8-91ef41b3ae78                                     0   \n",
       "05ebeca1-5a73-46ec-88fc-323b29d468cc                                     0   \n",
       "0600fab5-173c-4333-b3c3-c18b37148acf                                     0   \n",
       "0baaaa63-a05f-492d-8f87-9532257d85f9                                     0   \n",
       "\n",
       "product_id                            5501ce77-7a08-4086-8dda-858c92326fc6  \\\n",
       "user_id                                                                      \n",
       "02b2724f-0227-4c94-a7a0-8cf37f7aee70                                     0   \n",
       "05dfbe78-f1f3-486d-8bc8-91ef41b3ae78                                     1   \n",
       "05ebeca1-5a73-46ec-88fc-323b29d468cc                                     0   \n",
       "0600fab5-173c-4333-b3c3-c18b37148acf                                     0   \n",
       "0baaaa63-a05f-492d-8f87-9532257d85f9                                     0   \n",
       "\n",
       "product_id                            5952d124-7dc6-4a6a-baa2-e2e502ecd6fe  \\\n",
       "user_id                                                                      \n",
       "02b2724f-0227-4c94-a7a0-8cf37f7aee70                                     0   \n",
       "05dfbe78-f1f3-486d-8bc8-91ef41b3ae78                                     0   \n",
       "05ebeca1-5a73-46ec-88fc-323b29d468cc                                     0   \n",
       "0600fab5-173c-4333-b3c3-c18b37148acf                                     0   \n",
       "0baaaa63-a05f-492d-8f87-9532257d85f9                                     0   \n",
       "\n",
       "product_id                            6c27fc9c-e7e9-4e9b-9017-292175250df1  \\\n",
       "user_id                                                                      \n",
       "02b2724f-0227-4c94-a7a0-8cf37f7aee70                                     0   \n",
       "05dfbe78-f1f3-486d-8bc8-91ef41b3ae78                                     0   \n",
       "05ebeca1-5a73-46ec-88fc-323b29d468cc                                     0   \n",
       "0600fab5-173c-4333-b3c3-c18b37148acf                                     0   \n",
       "0baaaa63-a05f-492d-8f87-9532257d85f9                                     0   \n",
       "\n",
       "product_id                            6eccf249-a997-4091-8d64-29f1e9accd85  \\\n",
       "user_id                                                                      \n",
       "02b2724f-0227-4c94-a7a0-8cf37f7aee70                                     0   \n",
       "05dfbe78-f1f3-486d-8bc8-91ef41b3ae78                                     0   \n",
       "05ebeca1-5a73-46ec-88fc-323b29d468cc                                     0   \n",
       "0600fab5-173c-4333-b3c3-c18b37148acf                                     0   \n",
       "0baaaa63-a05f-492d-8f87-9532257d85f9                                     0   \n",
       "\n",
       "product_id                            701928af-24e9-4a13-aaad-63ede44be9c8  \\\n",
       "user_id                                                                      \n",
       "02b2724f-0227-4c94-a7a0-8cf37f7aee70                                     0   \n",
       "05dfbe78-f1f3-486d-8bc8-91ef41b3ae78                                     0   \n",
       "05ebeca1-5a73-46ec-88fc-323b29d468cc                                     0   \n",
       "0600fab5-173c-4333-b3c3-c18b37148acf                                     0   \n",
       "0baaaa63-a05f-492d-8f87-9532257d85f9                                     0   \n",
       "\n",
       "product_id                            76fddc47-aea9-4942-9dbd-19d90f31cdd4  \\\n",
       "user_id                                                                      \n",
       "02b2724f-0227-4c94-a7a0-8cf37f7aee70                                     0   \n",
       "05dfbe78-f1f3-486d-8bc8-91ef41b3ae78                                     0   \n",
       "05ebeca1-5a73-46ec-88fc-323b29d468cc                                     0   \n",
       "0600fab5-173c-4333-b3c3-c18b37148acf                                     0   \n",
       "0baaaa63-a05f-492d-8f87-9532257d85f9                                     0   \n",
       "\n",
       "product_id                            80957603-6cec-4f63-8dcd-aba6ded5cbdd  \\\n",
       "user_id                                                                      \n",
       "02b2724f-0227-4c94-a7a0-8cf37f7aee70                                     0   \n",
       "05dfbe78-f1f3-486d-8bc8-91ef41b3ae78                                     0   \n",
       "05ebeca1-5a73-46ec-88fc-323b29d468cc                                     1   \n",
       "0600fab5-173c-4333-b3c3-c18b37148acf                                     0   \n",
       "0baaaa63-a05f-492d-8f87-9532257d85f9                                     0   \n",
       "\n",
       "product_id                            8152e395-0f7a-4dda-8df9-6655a726c4e1  \\\n",
       "user_id                                                                      \n",
       "02b2724f-0227-4c94-a7a0-8cf37f7aee70                                     0   \n",
       "05dfbe78-f1f3-486d-8bc8-91ef41b3ae78                                     0   \n",
       "05ebeca1-5a73-46ec-88fc-323b29d468cc                                     0   \n",
       "0600fab5-173c-4333-b3c3-c18b37148acf                                     0   \n",
       "0baaaa63-a05f-492d-8f87-9532257d85f9                                     0   \n",
       "\n",
       "product_id                            89f26d03-4933-4924-ae31-5eef6981122f  \\\n",
       "user_id                                                                      \n",
       "02b2724f-0227-4c94-a7a0-8cf37f7aee70                                     0   \n",
       "05dfbe78-f1f3-486d-8bc8-91ef41b3ae78                                     0   \n",
       "05ebeca1-5a73-46ec-88fc-323b29d468cc                                     0   \n",
       "0600fab5-173c-4333-b3c3-c18b37148acf                                     0   \n",
       "0baaaa63-a05f-492d-8f87-9532257d85f9                                     0   \n",
       "\n",
       "product_id                            8acff85f-f70a-4308-801f-763b22bb25c7  \\\n",
       "user_id                                                                      \n",
       "02b2724f-0227-4c94-a7a0-8cf37f7aee70                                     0   \n",
       "05dfbe78-f1f3-486d-8bc8-91ef41b3ae78                                     0   \n",
       "05ebeca1-5a73-46ec-88fc-323b29d468cc                                     0   \n",
       "0600fab5-173c-4333-b3c3-c18b37148acf                                     0   \n",
       "0baaaa63-a05f-492d-8f87-9532257d85f9                                     1   \n",
       "\n",
       "product_id                            8df8c2e5-5ad8-490f-83b2-57fa0c961f84  \\\n",
       "user_id                                                                      \n",
       "02b2724f-0227-4c94-a7a0-8cf37f7aee70                                     0   \n",
       "05dfbe78-f1f3-486d-8bc8-91ef41b3ae78                                     0   \n",
       "05ebeca1-5a73-46ec-88fc-323b29d468cc                                     0   \n",
       "0600fab5-173c-4333-b3c3-c18b37148acf                                     0   \n",
       "0baaaa63-a05f-492d-8f87-9532257d85f9                                     0   \n",
       "\n",
       "product_id                            8fcfd7a8-5980-4e7e-b463-6d30823caac4  \\\n",
       "user_id                                                                      \n",
       "02b2724f-0227-4c94-a7a0-8cf37f7aee70                                     0   \n",
       "05dfbe78-f1f3-486d-8bc8-91ef41b3ae78                                     0   \n",
       "05ebeca1-5a73-46ec-88fc-323b29d468cc                                     0   \n",
       "0600fab5-173c-4333-b3c3-c18b37148acf                                     0   \n",
       "0baaaa63-a05f-492d-8f87-9532257d85f9                                     0   \n",
       "\n",
       "product_id                            944f4171-813b-4423-ad89-3c73d67f9986  \\\n",
       "user_id                                                                      \n",
       "02b2724f-0227-4c94-a7a0-8cf37f7aee70                                     0   \n",
       "05dfbe78-f1f3-486d-8bc8-91ef41b3ae78                                     0   \n",
       "05ebeca1-5a73-46ec-88fc-323b29d468cc                                     0   \n",
       "0600fab5-173c-4333-b3c3-c18b37148acf                                     0   \n",
       "0baaaa63-a05f-492d-8f87-9532257d85f9                                     0   \n",
       "\n",
       "product_id                            9e7cc609-f4ef-4246-89e7-756861e623d8  \\\n",
       "user_id                                                                      \n",
       "02b2724f-0227-4c94-a7a0-8cf37f7aee70                                     0   \n",
       "05dfbe78-f1f3-486d-8bc8-91ef41b3ae78                                     0   \n",
       "05ebeca1-5a73-46ec-88fc-323b29d468cc                                     0   \n",
       "0600fab5-173c-4333-b3c3-c18b37148acf                                     0   \n",
       "0baaaa63-a05f-492d-8f87-9532257d85f9                                     0   \n",
       "\n",
       "product_id                            a48adaed-ab06-4245-8da6-5d560636a1d9  \\\n",
       "user_id                                                                      \n",
       "02b2724f-0227-4c94-a7a0-8cf37f7aee70                                     0   \n",
       "05dfbe78-f1f3-486d-8bc8-91ef41b3ae78                                     0   \n",
       "05ebeca1-5a73-46ec-88fc-323b29d468cc                                     0   \n",
       "0600fab5-173c-4333-b3c3-c18b37148acf                                     0   \n",
       "0baaaa63-a05f-492d-8f87-9532257d85f9                                     0   \n",
       "\n",
       "product_id                            af58006e-c0d7-44ec-9089-609b74e9ece2  \\\n",
       "user_id                                                                      \n",
       "02b2724f-0227-4c94-a7a0-8cf37f7aee70                                     0   \n",
       "05dfbe78-f1f3-486d-8bc8-91ef41b3ae78                                     0   \n",
       "05ebeca1-5a73-46ec-88fc-323b29d468cc                                     0   \n",
       "0600fab5-173c-4333-b3c3-c18b37148acf                                     0   \n",
       "0baaaa63-a05f-492d-8f87-9532257d85f9                                     0   \n",
       "\n",
       "product_id                            b53ce31c-3789-42d7-96a0-5fe058cac7a5  \\\n",
       "user_id                                                                      \n",
       "02b2724f-0227-4c94-a7a0-8cf37f7aee70                                     0   \n",
       "05dfbe78-f1f3-486d-8bc8-91ef41b3ae78                                     0   \n",
       "05ebeca1-5a73-46ec-88fc-323b29d468cc                                     0   \n",
       "0600fab5-173c-4333-b3c3-c18b37148acf                                     0   \n",
       "0baaaa63-a05f-492d-8f87-9532257d85f9                                     0   \n",
       "\n",
       "product_id                            b67588d2-e8fe-4ee4-9931-e9d18241d04c  \\\n",
       "user_id                                                                      \n",
       "02b2724f-0227-4c94-a7a0-8cf37f7aee70                                     0   \n",
       "05dfbe78-f1f3-486d-8bc8-91ef41b3ae78                                     0   \n",
       "05ebeca1-5a73-46ec-88fc-323b29d468cc                                     0   \n",
       "0600fab5-173c-4333-b3c3-c18b37148acf                                     0   \n",
       "0baaaa63-a05f-492d-8f87-9532257d85f9                                     0   \n",
       "\n",
       "product_id                            beb17fe4-5d92-4738-adaa-2d62ffb83516  \\\n",
       "user_id                                                                      \n",
       "02b2724f-0227-4c94-a7a0-8cf37f7aee70                                     0   \n",
       "05dfbe78-f1f3-486d-8bc8-91ef41b3ae78                                     0   \n",
       "05ebeca1-5a73-46ec-88fc-323b29d468cc                                     0   \n",
       "0600fab5-173c-4333-b3c3-c18b37148acf                                     0   \n",
       "0baaaa63-a05f-492d-8f87-9532257d85f9                                     0   \n",
       "\n",
       "product_id                            c1d06ac3-5bea-4b4d-8648-ae3fa531f059  \\\n",
       "user_id                                                                      \n",
       "02b2724f-0227-4c94-a7a0-8cf37f7aee70                                     0   \n",
       "05dfbe78-f1f3-486d-8bc8-91ef41b3ae78                                     0   \n",
       "05ebeca1-5a73-46ec-88fc-323b29d468cc                                     0   \n",
       "0600fab5-173c-4333-b3c3-c18b37148acf                                     0   \n",
       "0baaaa63-a05f-492d-8f87-9532257d85f9                                     0   \n",
       "\n",
       "product_id                            c2b3d62f-6c48-4051-beb1-3ec66d30c1da  \\\n",
       "user_id                                                                      \n",
       "02b2724f-0227-4c94-a7a0-8cf37f7aee70                                     0   \n",
       "05dfbe78-f1f3-486d-8bc8-91ef41b3ae78                                     0   \n",
       "05ebeca1-5a73-46ec-88fc-323b29d468cc                                     0   \n",
       "0600fab5-173c-4333-b3c3-c18b37148acf                                     0   \n",
       "0baaaa63-a05f-492d-8f87-9532257d85f9                                     0   \n",
       "\n",
       "product_id                            c5e57af4-0df9-4e2b-87e4-9024b8e6cf53  \\\n",
       "user_id                                                                      \n",
       "02b2724f-0227-4c94-a7a0-8cf37f7aee70                                     0   \n",
       "05dfbe78-f1f3-486d-8bc8-91ef41b3ae78                                     0   \n",
       "05ebeca1-5a73-46ec-88fc-323b29d468cc                                     0   \n",
       "0600fab5-173c-4333-b3c3-c18b37148acf                                     0   \n",
       "0baaaa63-a05f-492d-8f87-9532257d85f9                                     0   \n",
       "\n",
       "product_id                            c7768e6d-d8d9-469f-960d-879b5401d83c  \\\n",
       "user_id                                                                      \n",
       "02b2724f-0227-4c94-a7a0-8cf37f7aee70                                     0   \n",
       "05dfbe78-f1f3-486d-8bc8-91ef41b3ae78                                     0   \n",
       "05ebeca1-5a73-46ec-88fc-323b29d468cc                                     0   \n",
       "0600fab5-173c-4333-b3c3-c18b37148acf                                     0   \n",
       "0baaaa63-a05f-492d-8f87-9532257d85f9                                     0   \n",
       "\n",
       "product_id                            d3999f4e-890a-473f-bb92-2fd2178da3fb  \\\n",
       "user_id                                                                      \n",
       "02b2724f-0227-4c94-a7a0-8cf37f7aee70                                     0   \n",
       "05dfbe78-f1f3-486d-8bc8-91ef41b3ae78                                     0   \n",
       "05ebeca1-5a73-46ec-88fc-323b29d468cc                                     0   \n",
       "0600fab5-173c-4333-b3c3-c18b37148acf                                     0   \n",
       "0baaaa63-a05f-492d-8f87-9532257d85f9                                     0   \n",
       "\n",
       "product_id                            d8232157-edeb-4ac8-ba5a-0cf53e3c8a06  \\\n",
       "user_id                                                                      \n",
       "02b2724f-0227-4c94-a7a0-8cf37f7aee70                                     0   \n",
       "05dfbe78-f1f3-486d-8bc8-91ef41b3ae78                                     0   \n",
       "05ebeca1-5a73-46ec-88fc-323b29d468cc                                     0   \n",
       "0600fab5-173c-4333-b3c3-c18b37148acf                                     0   \n",
       "0baaaa63-a05f-492d-8f87-9532257d85f9                                     0   \n",
       "\n",
       "product_id                            e41e1522-bbe0-4e9b-b638-5470e82e13a5  \\\n",
       "user_id                                                                      \n",
       "02b2724f-0227-4c94-a7a0-8cf37f7aee70                                     0   \n",
       "05dfbe78-f1f3-486d-8bc8-91ef41b3ae78                                     0   \n",
       "05ebeca1-5a73-46ec-88fc-323b29d468cc                                     0   \n",
       "0600fab5-173c-4333-b3c3-c18b37148acf                                     0   \n",
       "0baaaa63-a05f-492d-8f87-9532257d85f9                                     0   \n",
       "\n",
       "product_id                            e8898291-543b-439c-907f-bd80075f02a0  \\\n",
       "user_id                                                                      \n",
       "02b2724f-0227-4c94-a7a0-8cf37f7aee70                                     0   \n",
       "05dfbe78-f1f3-486d-8bc8-91ef41b3ae78                                     0   \n",
       "05ebeca1-5a73-46ec-88fc-323b29d468cc                                     0   \n",
       "0600fab5-173c-4333-b3c3-c18b37148acf                                     0   \n",
       "0baaaa63-a05f-492d-8f87-9532257d85f9                                     0   \n",
       "\n",
       "product_id                            ece9fda2-1006-4cf9-a283-74e10b330512  \\\n",
       "user_id                                                                      \n",
       "02b2724f-0227-4c94-a7a0-8cf37f7aee70                                     0   \n",
       "05dfbe78-f1f3-486d-8bc8-91ef41b3ae78                                     0   \n",
       "05ebeca1-5a73-46ec-88fc-323b29d468cc                                     0   \n",
       "0600fab5-173c-4333-b3c3-c18b37148acf                                     0   \n",
       "0baaaa63-a05f-492d-8f87-9532257d85f9                                     0   \n",
       "\n",
       "product_id                            ecef7b49-b297-4c53-bf53-628861221da7  \\\n",
       "user_id                                                                      \n",
       "02b2724f-0227-4c94-a7a0-8cf37f7aee70                                     0   \n",
       "05dfbe78-f1f3-486d-8bc8-91ef41b3ae78                                     0   \n",
       "05ebeca1-5a73-46ec-88fc-323b29d468cc                                     0   \n",
       "0600fab5-173c-4333-b3c3-c18b37148acf                                     0   \n",
       "0baaaa63-a05f-492d-8f87-9532257d85f9                                     0   \n",
       "\n",
       "product_id                            fc02857f-92ea-48a1-96b5-95acf43b922e  \\\n",
       "user_id                                                                      \n",
       "02b2724f-0227-4c94-a7a0-8cf37f7aee70                                     1   \n",
       "05dfbe78-f1f3-486d-8bc8-91ef41b3ae78                                     0   \n",
       "05ebeca1-5a73-46ec-88fc-323b29d468cc                                     0   \n",
       "0600fab5-173c-4333-b3c3-c18b37148acf                                     0   \n",
       "0baaaa63-a05f-492d-8f87-9532257d85f9                                     0   \n",
       "\n",
       "product_id                            ff58b8c4-1058-4753-bfc0-c04d091c8485  \n",
       "user_id                                                                     \n",
       "02b2724f-0227-4c94-a7a0-8cf37f7aee70                                     0  \n",
       "05dfbe78-f1f3-486d-8bc8-91ef41b3ae78                                     0  \n",
       "05ebeca1-5a73-46ec-88fc-323b29d468cc                                     0  \n",
       "0600fab5-173c-4333-b3c3-c18b37148acf                                     0  \n",
       "0baaaa63-a05f-492d-8f87-9532257d85f9                                     0  "
      ]
     },
     "execution_count": 582,
     "metadata": {},
     "output_type": "execute_result"
    }
   ],
   "source": [
    "# Use only the current season\n",
    "current_season = month_to_season(datetime.now().month)\n",
    "season_data = merged_data[merged_data['season'] == current_season]\n",
    "\n",
    "# Create a basket matrix (user x product) where each entry is 1 if the user purchased the product, 0 otherwise\n",
    "basket = merged_data.groupby(['user_id', 'product_id'])['quantity'].sum().unstack().fillna(0)\n",
    "\n",
    "# Convert quantities to binary format: 1 if product was purchased, 0 if not\n",
    "basket = basket.applymap(lambda x: 1 if x > 0 else 0)\n",
    "basket.head()   "
   ]
  },
  {
   "cell_type": "code",
   "execution_count": 583,
   "metadata": {},
   "outputs": [
    {
     "data": {
      "text/plain": [
       "(73, 41)"
      ]
     },
     "execution_count": 583,
     "metadata": {},
     "output_type": "execute_result"
    }
   ],
   "source": [
    "basket.shape"
   ]
  },
  {
   "cell_type": "code",
   "execution_count": 584,
   "metadata": {},
   "outputs": [
    {
     "name": "stderr",
     "output_type": "stream",
     "text": [
      "c:\\Users\\user\\anaconda3\\Lib\\site-packages\\mlxtend\\frequent_patterns\\fpcommon.py:161: DeprecationWarning: DataFrames with non-bool types result in worse computationalperformance and their support might be discontinued in the future.Please use a DataFrame with bool type\n",
      "  warnings.warn(\n"
     ]
    },
    {
     "data": {
      "text/html": [
       "<div>\n",
       "<style scoped>\n",
       "    .dataframe tbody tr th:only-of-type {\n",
       "        vertical-align: middle;\n",
       "    }\n",
       "\n",
       "    .dataframe tbody tr th {\n",
       "        vertical-align: top;\n",
       "    }\n",
       "\n",
       "    .dataframe thead th {\n",
       "        text-align: right;\n",
       "    }\n",
       "</style>\n",
       "<table border=\"1\" class=\"dataframe\">\n",
       "  <thead>\n",
       "    <tr style=\"text-align: right;\">\n",
       "      <th></th>\n",
       "      <th>support</th>\n",
       "      <th>itemsets</th>\n",
       "    </tr>\n",
       "  </thead>\n",
       "  <tbody>\n",
       "    <tr>\n",
       "      <th>16</th>\n",
       "      <td>0.178082</td>\n",
       "      <td>(80957603-6cec-4f63-8dcd-aba6ded5cbdd)</td>\n",
       "    </tr>\n",
       "    <tr>\n",
       "      <th>8</th>\n",
       "      <td>0.136986</td>\n",
       "      <td>(4cac8d01-b78e-4017-9113-c627ac1866a5)</td>\n",
       "    </tr>\n",
       "    <tr>\n",
       "      <th>26</th>\n",
       "      <td>0.095890</td>\n",
       "      <td>(b53ce31c-3789-42d7-96a0-5fe058cac7a5)</td>\n",
       "    </tr>\n",
       "    <tr>\n",
       "      <th>6</th>\n",
       "      <td>0.082192</td>\n",
       "      <td>(4698d965-a133-4701-838b-f60e38c66b39)</td>\n",
       "    </tr>\n",
       "    <tr>\n",
       "      <th>17</th>\n",
       "      <td>0.082192</td>\n",
       "      <td>(8152e395-0f7a-4dda-8df9-6655a726c4e1)</td>\n",
       "    </tr>\n",
       "    <tr>\n",
       "      <th>19</th>\n",
       "      <td>0.054795</td>\n",
       "      <td>(8acff85f-f70a-4308-801f-763b22bb25c7)</td>\n",
       "    </tr>\n",
       "    <tr>\n",
       "      <th>37</th>\n",
       "      <td>0.054795</td>\n",
       "      <td>(ece9fda2-1006-4cf9-a283-74e10b330512)</td>\n",
       "    </tr>\n",
       "    <tr>\n",
       "      <th>30</th>\n",
       "      <td>0.054795</td>\n",
       "      <td>(c2b3d62f-6c48-4051-beb1-3ec66d30c1da)</td>\n",
       "    </tr>\n",
       "    <tr>\n",
       "      <th>24</th>\n",
       "      <td>0.054795</td>\n",
       "      <td>(a48adaed-ab06-4245-8da6-5d560636a1d9)</td>\n",
       "    </tr>\n",
       "    <tr>\n",
       "      <th>38</th>\n",
       "      <td>0.054795</td>\n",
       "      <td>(ecef7b49-b297-4c53-bf53-628861221da7)</td>\n",
       "    </tr>\n",
       "  </tbody>\n",
       "</table>\n",
       "</div>"
      ],
      "text/plain": [
       "     support                                itemsets\n",
       "16  0.178082  (80957603-6cec-4f63-8dcd-aba6ded5cbdd)\n",
       "8   0.136986  (4cac8d01-b78e-4017-9113-c627ac1866a5)\n",
       "26  0.095890  (b53ce31c-3789-42d7-96a0-5fe058cac7a5)\n",
       "6   0.082192  (4698d965-a133-4701-838b-f60e38c66b39)\n",
       "17  0.082192  (8152e395-0f7a-4dda-8df9-6655a726c4e1)\n",
       "19  0.054795  (8acff85f-f70a-4308-801f-763b22bb25c7)\n",
       "37  0.054795  (ece9fda2-1006-4cf9-a283-74e10b330512)\n",
       "30  0.054795  (c2b3d62f-6c48-4051-beb1-3ec66d30c1da)\n",
       "24  0.054795  (a48adaed-ab06-4245-8da6-5d560636a1d9)\n",
       "38  0.054795  (ecef7b49-b297-4c53-bf53-628861221da7)"
      ]
     },
     "execution_count": 584,
     "metadata": {},
     "output_type": "execute_result"
    }
   ],
   "source": [
    "# Apply the Apriori algorithm to find frequent itemsets\n",
    "# min_support=0.01 means only include itemsets purchased by at least 1% of all users\n",
    "frequent_itemsets = apriori(basket, min_support=0.01, use_colnames=True)\n",
    "\n",
    "# Display the top 10 most frequent itemsets, sorted by support\n",
    "frequent_itemsets.sort_values(by=\"support\", ascending=False).head(10)"
   ]
  },
  {
   "cell_type": "markdown",
   "metadata": {},
   "source": [
    "apriori identifies all combinations of products (itemsets) that occur together in at least 1% of user transactions (min_support=0.01).\n",
    "\n",
    "The resulting frequent_itemsets DataFrame includes:\n",
    "\n",
    "* support: the proportion of users who purchased the itemset.\n",
    "* itemsets: the combination of items that appear together frequently.\n",
    "\n",
    "Sorting by support helps identify the most commonly co-purchased products."
   ]
  },
  {
   "cell_type": "code",
   "execution_count": 585,
   "metadata": {},
   "outputs": [
    {
     "data": {
      "text/plain": [
       "(200, 2)"
      ]
     },
     "execution_count": 585,
     "metadata": {},
     "output_type": "execute_result"
    }
   ],
   "source": [
    "frequent_itemsets.shape"
   ]
  },
  {
   "cell_type": "code",
   "execution_count": 586,
   "metadata": {},
   "outputs": [
    {
     "data": {
      "text/html": [
       "<div>\n",
       "<style scoped>\n",
       "    .dataframe tbody tr th:only-of-type {\n",
       "        vertical-align: middle;\n",
       "    }\n",
       "\n",
       "    .dataframe tbody tr th {\n",
       "        vertical-align: top;\n",
       "    }\n",
       "\n",
       "    .dataframe thead th {\n",
       "        text-align: right;\n",
       "    }\n",
       "</style>\n",
       "<table border=\"1\" class=\"dataframe\">\n",
       "  <thead>\n",
       "    <tr style=\"text-align: right;\">\n",
       "      <th></th>\n",
       "      <th>antecedents</th>\n",
       "      <th>consequents</th>\n",
       "      <th>antecedent support</th>\n",
       "      <th>consequent support</th>\n",
       "      <th>support</th>\n",
       "      <th>confidence</th>\n",
       "      <th>lift</th>\n",
       "    </tr>\n",
       "  </thead>\n",
       "  <tbody>\n",
       "    <tr>\n",
       "      <th>1012</th>\n",
       "      <td>(c2b3d62f-6c48-4051-beb1-3ec66d30c1da, 1033503b-8faa-4d5c-97c2-50bb19fbb897, b53ce31c-3789-42d7-96a0-5fe058cac7a5)</td>\n",
       "      <td>(1af0394e-3aea-42b4-8698-b6832e35f8ce, 369cfbc5-f536-41f5-8a80-267d55dec802)</td>\n",
       "      <td>0.013699</td>\n",
       "      <td>0.013699</td>\n",
       "      <td>0.013699</td>\n",
       "      <td>1.0</td>\n",
       "      <td>73.0</td>\n",
       "    </tr>\n",
       "    <tr>\n",
       "      <th>867</th>\n",
       "      <td>(a48adaed-ab06-4245-8da6-5d560636a1d9, 80957603-6cec-4f63-8dcd-aba6ded5cbdd, 369cfbc5-f536-41f5-8a80-267d55dec802)</td>\n",
       "      <td>(1af0394e-3aea-42b4-8698-b6832e35f8ce, 1033503b-8faa-4d5c-97c2-50bb19fbb897)</td>\n",
       "      <td>0.013699</td>\n",
       "      <td>0.013699</td>\n",
       "      <td>0.013699</td>\n",
       "      <td>1.0</td>\n",
       "      <td>73.0</td>\n",
       "    </tr>\n",
       "    <tr>\n",
       "      <th>950</th>\n",
       "      <td>(1033503b-8faa-4d5c-97c2-50bb19fbb897, b53ce31c-3789-42d7-96a0-5fe058cac7a5, 369cfbc5-f536-41f5-8a80-267d55dec802)</td>\n",
       "      <td>(1af0394e-3aea-42b4-8698-b6832e35f8ce, a48adaed-ab06-4245-8da6-5d560636a1d9)</td>\n",
       "      <td>0.013699</td>\n",
       "      <td>0.013699</td>\n",
       "      <td>0.013699</td>\n",
       "      <td>1.0</td>\n",
       "      <td>73.0</td>\n",
       "    </tr>\n",
       "    <tr>\n",
       "      <th>949</th>\n",
       "      <td>(1af0394e-3aea-42b4-8698-b6832e35f8ce, 1033503b-8faa-4d5c-97c2-50bb19fbb897, 369cfbc5-f536-41f5-8a80-267d55dec802)</td>\n",
       "      <td>(b53ce31c-3789-42d7-96a0-5fe058cac7a5, a48adaed-ab06-4245-8da6-5d560636a1d9)</td>\n",
       "      <td>0.013699</td>\n",
       "      <td>0.013699</td>\n",
       "      <td>0.013699</td>\n",
       "      <td>1.0</td>\n",
       "      <td>73.0</td>\n",
       "    </tr>\n",
       "    <tr>\n",
       "      <th>948</th>\n",
       "      <td>(1033503b-8faa-4d5c-97c2-50bb19fbb897, a48adaed-ab06-4245-8da6-5d560636a1d9, 369cfbc5-f536-41f5-8a80-267d55dec802)</td>\n",
       "      <td>(1af0394e-3aea-42b4-8698-b6832e35f8ce, b53ce31c-3789-42d7-96a0-5fe058cac7a5)</td>\n",
       "      <td>0.013699</td>\n",
       "      <td>0.013699</td>\n",
       "      <td>0.013699</td>\n",
       "      <td>1.0</td>\n",
       "      <td>73.0</td>\n",
       "    </tr>\n",
       "    <tr>\n",
       "      <th>946</th>\n",
       "      <td>(1af0394e-3aea-42b4-8698-b6832e35f8ce, b53ce31c-3789-42d7-96a0-5fe058cac7a5, 1033503b-8faa-4d5c-97c2-50bb19fbb897, a48adaed-ab06-4245-8da6-5d560636a1d9)</td>\n",
       "      <td>(369cfbc5-f536-41f5-8a80-267d55dec802)</td>\n",
       "      <td>0.013699</td>\n",
       "      <td>0.013699</td>\n",
       "      <td>0.013699</td>\n",
       "      <td>1.0</td>\n",
       "      <td>73.0</td>\n",
       "    </tr>\n",
       "    <tr>\n",
       "      <th>940</th>\n",
       "      <td>(369cfbc5-f536-41f5-8a80-267d55dec802)</td>\n",
       "      <td>(1af0394e-3aea-42b4-8698-b6832e35f8ce, c2b3d62f-6c48-4051-beb1-3ec66d30c1da, 1033503b-8faa-4d5c-97c2-50bb19fbb897, 80957603-6cec-4f63-8dcd-aba6ded5cbdd)</td>\n",
       "      <td>0.013699</td>\n",
       "      <td>0.013699</td>\n",
       "      <td>0.013699</td>\n",
       "      <td>1.0</td>\n",
       "      <td>73.0</td>\n",
       "    </tr>\n",
       "    <tr>\n",
       "      <th>938</th>\n",
       "      <td>(1af0394e-3aea-42b4-8698-b6832e35f8ce, c2b3d62f-6c48-4051-beb1-3ec66d30c1da)</td>\n",
       "      <td>(1033503b-8faa-4d5c-97c2-50bb19fbb897, 80957603-6cec-4f63-8dcd-aba6ded5cbdd, 369cfbc5-f536-41f5-8a80-267d55dec802)</td>\n",
       "      <td>0.013699</td>\n",
       "      <td>0.013699</td>\n",
       "      <td>0.013699</td>\n",
       "      <td>1.0</td>\n",
       "      <td>73.0</td>\n",
       "    </tr>\n",
       "    <tr>\n",
       "      <th>937</th>\n",
       "      <td>(1af0394e-3aea-42b4-8698-b6832e35f8ce, 369cfbc5-f536-41f5-8a80-267d55dec802)</td>\n",
       "      <td>(c2b3d62f-6c48-4051-beb1-3ec66d30c1da, 1033503b-8faa-4d5c-97c2-50bb19fbb897, 80957603-6cec-4f63-8dcd-aba6ded5cbdd)</td>\n",
       "      <td>0.013699</td>\n",
       "      <td>0.013699</td>\n",
       "      <td>0.013699</td>\n",
       "      <td>1.0</td>\n",
       "      <td>73.0</td>\n",
       "    </tr>\n",
       "    <tr>\n",
       "      <th>936</th>\n",
       "      <td>(c2b3d62f-6c48-4051-beb1-3ec66d30c1da, 369cfbc5-f536-41f5-8a80-267d55dec802)</td>\n",
       "      <td>(1af0394e-3aea-42b4-8698-b6832e35f8ce, 1033503b-8faa-4d5c-97c2-50bb19fbb897, 80957603-6cec-4f63-8dcd-aba6ded5cbdd)</td>\n",
       "      <td>0.013699</td>\n",
       "      <td>0.013699</td>\n",
       "      <td>0.013699</td>\n",
       "      <td>1.0</td>\n",
       "      <td>73.0</td>\n",
       "    </tr>\n",
       "  </tbody>\n",
       "</table>\n",
       "</div>"
      ],
      "text/plain": [
       "                                                                                                                                                   antecedents  \\\n",
       "1012                                        (c2b3d62f-6c48-4051-beb1-3ec66d30c1da, 1033503b-8faa-4d5c-97c2-50bb19fbb897, b53ce31c-3789-42d7-96a0-5fe058cac7a5)   \n",
       "867                                         (a48adaed-ab06-4245-8da6-5d560636a1d9, 80957603-6cec-4f63-8dcd-aba6ded5cbdd, 369cfbc5-f536-41f5-8a80-267d55dec802)   \n",
       "950                                         (1033503b-8faa-4d5c-97c2-50bb19fbb897, b53ce31c-3789-42d7-96a0-5fe058cac7a5, 369cfbc5-f536-41f5-8a80-267d55dec802)   \n",
       "949                                         (1af0394e-3aea-42b4-8698-b6832e35f8ce, 1033503b-8faa-4d5c-97c2-50bb19fbb897, 369cfbc5-f536-41f5-8a80-267d55dec802)   \n",
       "948                                         (1033503b-8faa-4d5c-97c2-50bb19fbb897, a48adaed-ab06-4245-8da6-5d560636a1d9, 369cfbc5-f536-41f5-8a80-267d55dec802)   \n",
       "946   (1af0394e-3aea-42b4-8698-b6832e35f8ce, b53ce31c-3789-42d7-96a0-5fe058cac7a5, 1033503b-8faa-4d5c-97c2-50bb19fbb897, a48adaed-ab06-4245-8da6-5d560636a1d9)   \n",
       "940                                                                                                                     (369cfbc5-f536-41f5-8a80-267d55dec802)   \n",
       "938                                                                               (1af0394e-3aea-42b4-8698-b6832e35f8ce, c2b3d62f-6c48-4051-beb1-3ec66d30c1da)   \n",
       "937                                                                               (1af0394e-3aea-42b4-8698-b6832e35f8ce, 369cfbc5-f536-41f5-8a80-267d55dec802)   \n",
       "936                                                                               (c2b3d62f-6c48-4051-beb1-3ec66d30c1da, 369cfbc5-f536-41f5-8a80-267d55dec802)   \n",
       "\n",
       "                                                                                                                                                   consequents  \\\n",
       "1012                                                                              (1af0394e-3aea-42b4-8698-b6832e35f8ce, 369cfbc5-f536-41f5-8a80-267d55dec802)   \n",
       "867                                                                               (1af0394e-3aea-42b4-8698-b6832e35f8ce, 1033503b-8faa-4d5c-97c2-50bb19fbb897)   \n",
       "950                                                                               (1af0394e-3aea-42b4-8698-b6832e35f8ce, a48adaed-ab06-4245-8da6-5d560636a1d9)   \n",
       "949                                                                               (b53ce31c-3789-42d7-96a0-5fe058cac7a5, a48adaed-ab06-4245-8da6-5d560636a1d9)   \n",
       "948                                                                               (1af0394e-3aea-42b4-8698-b6832e35f8ce, b53ce31c-3789-42d7-96a0-5fe058cac7a5)   \n",
       "946                                                                                                                     (369cfbc5-f536-41f5-8a80-267d55dec802)   \n",
       "940   (1af0394e-3aea-42b4-8698-b6832e35f8ce, c2b3d62f-6c48-4051-beb1-3ec66d30c1da, 1033503b-8faa-4d5c-97c2-50bb19fbb897, 80957603-6cec-4f63-8dcd-aba6ded5cbdd)   \n",
       "938                                         (1033503b-8faa-4d5c-97c2-50bb19fbb897, 80957603-6cec-4f63-8dcd-aba6ded5cbdd, 369cfbc5-f536-41f5-8a80-267d55dec802)   \n",
       "937                                         (c2b3d62f-6c48-4051-beb1-3ec66d30c1da, 1033503b-8faa-4d5c-97c2-50bb19fbb897, 80957603-6cec-4f63-8dcd-aba6ded5cbdd)   \n",
       "936                                         (1af0394e-3aea-42b4-8698-b6832e35f8ce, 1033503b-8faa-4d5c-97c2-50bb19fbb897, 80957603-6cec-4f63-8dcd-aba6ded5cbdd)   \n",
       "\n",
       "      antecedent support  consequent support   support  confidence  lift  \n",
       "1012            0.013699            0.013699  0.013699         1.0  73.0  \n",
       "867             0.013699            0.013699  0.013699         1.0  73.0  \n",
       "950             0.013699            0.013699  0.013699         1.0  73.0  \n",
       "949             0.013699            0.013699  0.013699         1.0  73.0  \n",
       "948             0.013699            0.013699  0.013699         1.0  73.0  \n",
       "946             0.013699            0.013699  0.013699         1.0  73.0  \n",
       "940             0.013699            0.013699  0.013699         1.0  73.0  \n",
       "938             0.013699            0.013699  0.013699         1.0  73.0  \n",
       "937             0.013699            0.013699  0.013699         1.0  73.0  \n",
       "936             0.013699            0.013699  0.013699         1.0  73.0  "
      ]
     },
     "execution_count": 586,
     "metadata": {},
     "output_type": "execute_result"
    }
   ],
   "source": [
    "# Generate association rules from the frequent itemsets\n",
    "# metric=\"confidence\" specifies that rules must meet a minimum confidence level\n",
    "# min_threshold=0.1 means only include rules where the confidence is at least 10%\n",
    "rules = association_rules(frequent_itemsets, metric=\"confidence\", min_threshold=0.1)\n",
    "\n",
    "# Display top 10 strongest rules based on lift\n",
    "rules[['antecedents', 'consequents', 'antecedent support', 'consequent support', 'support', 'confidence', 'lift']].sort_values(by='lift', ascending=False).head(10)\n"
   ]
  },
  {
   "cell_type": "markdown",
   "metadata": {},
   "source": [
    "**Confidence** measures how likely the consequent is purchased when the antecedent is purchased.\n",
    "\n",
    "**Lift** shows the strength of a rule over random co-occurrence. A lift > 1 indicates a positive association.\n",
    "\n",
    "The result is sorted by lift to show the most impactful rules."
   ]
  },
  {
   "cell_type": "code",
   "execution_count": 587,
   "metadata": {},
   "outputs": [
    {
     "data": {
      "text/html": [
       "<div>\n",
       "<style scoped>\n",
       "    .dataframe tbody tr th:only-of-type {\n",
       "        vertical-align: middle;\n",
       "    }\n",
       "\n",
       "    .dataframe tbody tr th {\n",
       "        vertical-align: top;\n",
       "    }\n",
       "\n",
       "    .dataframe thead th {\n",
       "        text-align: right;\n",
       "    }\n",
       "</style>\n",
       "<table border=\"1\" class=\"dataframe\">\n",
       "  <thead>\n",
       "    <tr style=\"text-align: right;\">\n",
       "      <th></th>\n",
       "      <th>antecedents</th>\n",
       "      <th>consequents</th>\n",
       "      <th>antecedent support</th>\n",
       "      <th>consequent support</th>\n",
       "      <th>support</th>\n",
       "      <th>confidence</th>\n",
       "      <th>lift</th>\n",
       "    </tr>\n",
       "  </thead>\n",
       "  <tbody>\n",
       "    <tr>\n",
       "      <th>274</th>\n",
       "      <td>(a48adaed-ab06-4245-8da6-5d560636a1d9, 80957603-6cec-4f63-8dcd-aba6ded5cbdd)</td>\n",
       "      <td>(4cac8d01-b78e-4017-9113-c627ac1866a5)</td>\n",
       "      <td>0.041096</td>\n",
       "      <td>0.136986</td>\n",
       "      <td>0.013699</td>\n",
       "      <td>0.333333</td>\n",
       "      <td>2.433333</td>\n",
       "    </tr>\n",
       "    <tr>\n",
       "      <th>48</th>\n",
       "      <td>(6c27fc9c-e7e9-4e9b-9017-292175250df1)</td>\n",
       "      <td>(80957603-6cec-4f63-8dcd-aba6ded5cbdd)</td>\n",
       "      <td>0.041096</td>\n",
       "      <td>0.178082</td>\n",
       "      <td>0.013699</td>\n",
       "      <td>0.333333</td>\n",
       "      <td>1.871795</td>\n",
       "    </tr>\n",
       "    <tr>\n",
       "      <th>38</th>\n",
       "      <td>(4cac8d01-b78e-4017-9113-c627ac1866a5)</td>\n",
       "      <td>(a48adaed-ab06-4245-8da6-5d560636a1d9)</td>\n",
       "      <td>0.136986</td>\n",
       "      <td>0.054795</td>\n",
       "      <td>0.013699</td>\n",
       "      <td>0.100000</td>\n",
       "      <td>1.825000</td>\n",
       "    </tr>\n",
       "    <tr>\n",
       "      <th>39</th>\n",
       "      <td>(a48adaed-ab06-4245-8da6-5d560636a1d9)</td>\n",
       "      <td>(4cac8d01-b78e-4017-9113-c627ac1866a5)</td>\n",
       "      <td>0.054795</td>\n",
       "      <td>0.136986</td>\n",
       "      <td>0.013699</td>\n",
       "      <td>0.250000</td>\n",
       "      <td>1.825000</td>\n",
       "    </tr>\n",
       "    <tr>\n",
       "      <th>35</th>\n",
       "      <td>(80957603-6cec-4f63-8dcd-aba6ded5cbdd)</td>\n",
       "      <td>(4cac8d01-b78e-4017-9113-c627ac1866a5)</td>\n",
       "      <td>0.178082</td>\n",
       "      <td>0.136986</td>\n",
       "      <td>0.041096</td>\n",
       "      <td>0.230769</td>\n",
       "      <td>1.684615</td>\n",
       "    </tr>\n",
       "    <tr>\n",
       "      <th>34</th>\n",
       "      <td>(4cac8d01-b78e-4017-9113-c627ac1866a5)</td>\n",
       "      <td>(80957603-6cec-4f63-8dcd-aba6ded5cbdd)</td>\n",
       "      <td>0.136986</td>\n",
       "      <td>0.178082</td>\n",
       "      <td>0.041096</td>\n",
       "      <td>0.300000</td>\n",
       "      <td>1.684615</td>\n",
       "    </tr>\n",
       "    <tr>\n",
       "      <th>58</th>\n",
       "      <td>(80957603-6cec-4f63-8dcd-aba6ded5cbdd)</td>\n",
       "      <td>(b53ce31c-3789-42d7-96a0-5fe058cac7a5)</td>\n",
       "      <td>0.178082</td>\n",
       "      <td>0.095890</td>\n",
       "      <td>0.027397</td>\n",
       "      <td>0.153846</td>\n",
       "      <td>1.604396</td>\n",
       "    </tr>\n",
       "    <tr>\n",
       "      <th>57</th>\n",
       "      <td>(b53ce31c-3789-42d7-96a0-5fe058cac7a5)</td>\n",
       "      <td>(80957603-6cec-4f63-8dcd-aba6ded5cbdd)</td>\n",
       "      <td>0.095890</td>\n",
       "      <td>0.178082</td>\n",
       "      <td>0.027397</td>\n",
       "      <td>0.285714</td>\n",
       "      <td>1.604396</td>\n",
       "    </tr>\n",
       "    <tr>\n",
       "      <th>63</th>\n",
       "      <td>(ecef7b49-b297-4c53-bf53-628861221da7)</td>\n",
       "      <td>(80957603-6cec-4f63-8dcd-aba6ded5cbdd)</td>\n",
       "      <td>0.054795</td>\n",
       "      <td>0.178082</td>\n",
       "      <td>0.013699</td>\n",
       "      <td>0.250000</td>\n",
       "      <td>1.403846</td>\n",
       "    </tr>\n",
       "    <tr>\n",
       "      <th>59</th>\n",
       "      <td>(c2b3d62f-6c48-4051-beb1-3ec66d30c1da)</td>\n",
       "      <td>(80957603-6cec-4f63-8dcd-aba6ded5cbdd)</td>\n",
       "      <td>0.054795</td>\n",
       "      <td>0.178082</td>\n",
       "      <td>0.013699</td>\n",
       "      <td>0.250000</td>\n",
       "      <td>1.403846</td>\n",
       "    </tr>\n",
       "  </tbody>\n",
       "</table>\n",
       "</div>"
      ],
      "text/plain": [
       "                                                                      antecedents  \\\n",
       "274  (a48adaed-ab06-4245-8da6-5d560636a1d9, 80957603-6cec-4f63-8dcd-aba6ded5cbdd)   \n",
       "48                                         (6c27fc9c-e7e9-4e9b-9017-292175250df1)   \n",
       "38                                         (4cac8d01-b78e-4017-9113-c627ac1866a5)   \n",
       "39                                         (a48adaed-ab06-4245-8da6-5d560636a1d9)   \n",
       "35                                         (80957603-6cec-4f63-8dcd-aba6ded5cbdd)   \n",
       "34                                         (4cac8d01-b78e-4017-9113-c627ac1866a5)   \n",
       "58                                         (80957603-6cec-4f63-8dcd-aba6ded5cbdd)   \n",
       "57                                         (b53ce31c-3789-42d7-96a0-5fe058cac7a5)   \n",
       "63                                         (ecef7b49-b297-4c53-bf53-628861221da7)   \n",
       "59                                         (c2b3d62f-6c48-4051-beb1-3ec66d30c1da)   \n",
       "\n",
       "                                consequents  antecedent support  \\\n",
       "274  (4cac8d01-b78e-4017-9113-c627ac1866a5)            0.041096   \n",
       "48   (80957603-6cec-4f63-8dcd-aba6ded5cbdd)            0.041096   \n",
       "38   (a48adaed-ab06-4245-8da6-5d560636a1d9)            0.136986   \n",
       "39   (4cac8d01-b78e-4017-9113-c627ac1866a5)            0.054795   \n",
       "35   (4cac8d01-b78e-4017-9113-c627ac1866a5)            0.178082   \n",
       "34   (80957603-6cec-4f63-8dcd-aba6ded5cbdd)            0.136986   \n",
       "58   (b53ce31c-3789-42d7-96a0-5fe058cac7a5)            0.178082   \n",
       "57   (80957603-6cec-4f63-8dcd-aba6ded5cbdd)            0.095890   \n",
       "63   (80957603-6cec-4f63-8dcd-aba6ded5cbdd)            0.054795   \n",
       "59   (80957603-6cec-4f63-8dcd-aba6ded5cbdd)            0.054795   \n",
       "\n",
       "     consequent support   support  confidence      lift  \n",
       "274            0.136986  0.013699    0.333333  2.433333  \n",
       "48             0.178082  0.013699    0.333333  1.871795  \n",
       "38             0.054795  0.013699    0.100000  1.825000  \n",
       "39             0.136986  0.013699    0.250000  1.825000  \n",
       "35             0.136986  0.041096    0.230769  1.684615  \n",
       "34             0.178082  0.041096    0.300000  1.684615  \n",
       "58             0.095890  0.027397    0.153846  1.604396  \n",
       "57             0.178082  0.027397    0.285714  1.604396  \n",
       "63             0.178082  0.013699    0.250000  1.403846  \n",
       "59             0.178082  0.013699    0.250000  1.403846  "
      ]
     },
     "execution_count": 587,
     "metadata": {},
     "output_type": "execute_result"
    }
   ],
   "source": [
    "rules = association_rules(frequent_itemsets, metric=\"confidence\", min_threshold=0.1)\n",
    "\n",
    "rules[['antecedents', 'consequents', 'antecedent support', 'consequent support', 'support', 'confidence', 'lift']].sort_values(by='lift', ascending=False).tail(10)\n"
   ]
  },
  {
   "cell_type": "markdown",
   "metadata": {},
   "source": [
    "The result is sorted by lift to show the least impactful rules."
   ]
  },
  {
   "cell_type": "code",
   "execution_count": 588,
   "metadata": {},
   "outputs": [
    {
     "data": {
      "text/plain": [
       "(2024, 14)"
      ]
     },
     "execution_count": 588,
     "metadata": {},
     "output_type": "execute_result"
    }
   ],
   "source": [
    "rules.shape"
   ]
  },
  {
   "cell_type": "code",
   "execution_count": 589,
   "metadata": {},
   "outputs": [
    {
     "name": "stdout",
     "output_type": "stream",
     "text": [
      "TSP China Cap Daun 50kg (Product ID: 1033503b-8faa-4d5c-97c2-50bb19fbb897) - Lift: 73.00\n",
      "Urea Nitrea 46% N 50kg (Product ID: 4cac8d01-b78e-4017-9113-c627ac1866a5) - Lift: 73.00\n",
      "Borate Mahkota - 25kg (Product ID: a48adaed-ab06-4245-8da6-5d560636a1d9) - Lift: 73.00\n",
      "Petro ZA Plus 50kg (Product ID: 1af0394e-3aea-42b4-8698-b6832e35f8ce) - Lift: 73.00\n",
      "Kieserite SoluMAG-G 50kg (Product ID: 369cfbc5-f536-41f5-8a80-267d55dec802) - Lift: 73.00\n",
      "RP Cap Daun 50Kg (Product ID: c2b3d62f-6c48-4051-beb1-3ec66d30c1da) - Lift: 73.00\n",
      "Meroke TSP 50kg (Product ID: e8898291-543b-439c-907f-bd80075f02a0) - Lift: 73.00\n",
      "NPK Phonska Plus 15-15-15 25kg (Product ID: 6c27fc9c-e7e9-4e9b-9017-292175250df1) - Lift: 73.00\n",
      "Pupuk SawitPRO 50kg (Product ID: ecef7b49-b297-4c53-bf53-628861221da7) - Lift: 73.00\n",
      "NPK Mahkota 13-8-27-4 0.5 B 50kg (Product ID: ece9fda2-1006-4cf9-a283-74e10b330512) - Lift: 24.33\n"
     ]
    }
   ],
   "source": [
    "# Define the user\n",
    "user_id = '13f5223e-f04a-4fa8-9ef2-cf36060f0d6d'\n",
    "\n",
    "# Products user bought in this season\n",
    "user_products = season_data[season_data['user_id'] == user_id]['product_id'].unique()\n",
    "\n",
    "recommendation_dict = {}\n",
    "\n",
    "for pid in user_products:\n",
    "    related_rules = rules[rules['antecedents'].apply(lambda x: pid in x)]\n",
    "    for _, row in related_rules.iterrows():\n",
    "        for consequent in row['consequents']:\n",
    "            if consequent not in user_products:\n",
    "                if consequent not in recommendation_dict or row['lift'] > recommendation_dict[consequent]:\n",
    "                    recommendation_dict[consequent] = row['lift']\n",
    "\n",
    "# Sort by lift\n",
    "sorted_recommendations = sorted(recommendation_dict.items(), key=lambda x: x[1], reverse=True)[:10]\n",
    "\n",
    "# Display\n",
    "for product_id, lift in sorted_recommendations:\n",
    "    product_name = merged_data.loc[merged_data['product_id'] == product_id, 'name'].dropna().unique()\n",
    "    product_name = product_name[0] if len(product_name) > 0 else \"Unknown Product\"\n",
    "    print(f\"{product_name} (Product ID: {product_id}) - Lift: {lift:.2f}\")\n"
   ]
  },
  {
   "cell_type": "markdown",
   "metadata": {},
   "source": [
    "* support : items’ frequency of occurrence\n",
    "* confidence : conditional probability of purchasing consequents Y when antecedents X is purchased\n",
    "* lift : How many times the probability of purchasing consequents Y increases when antecedents X is purchased\n",
    "\n",
    "(Ayman, 2022)"
   ]
  },
  {
   "cell_type": "markdown",
   "metadata": {},
   "source": [
    "I used lift as my key metric because it shows how much more likely a product is bought together with another, helping to find the strongest and most meaningful associations."
   ]
  },
  {
   "cell_type": "code",
   "execution_count": 590,
   "metadata": {},
   "outputs": [],
   "source": [
    "# import joblib\n",
    "\n",
    "# # Bundle all required components into a single object\n",
    "# association_model = {\n",
    "#     'frequent_itemsets': frequent_itemsets,\n",
    "#     'rules': rules,\n",
    "#     'basket': basket,\n",
    "#     'data': merged_data\n",
    "# }\n",
    "\n",
    "# # Save the single model file\n",
    "# joblib.dump(association_model, 'association_rule_model.pkl')\n"
   ]
  }
 ],
 "metadata": {
  "kernelspec": {
   "display_name": "Python 3",
   "language": "python",
   "name": "python3"
  },
  "language_info": {
   "codemirror_mode": {
    "name": "ipython",
    "version": 3
   },
   "file_extension": ".py",
   "mimetype": "text/x-python",
   "name": "python",
   "nbconvert_exporter": "python",
   "pygments_lexer": "ipython3",
   "version": "3.11.5"
  }
 },
 "nbformat": 4,
 "nbformat_minor": 4
}
